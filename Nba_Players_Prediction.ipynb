{
  "nbformat": 4,
  "nbformat_minor": 0,
  "metadata": {
    "colab": {
      "name": "Nba_Players_Prediction.ipynb",
      "provenance": [],
      "collapsed_sections": [
        "pGFsOzoj9NfF",
        "p6U53jDaCc8l",
        "khqN_3lhF_sQ",
        "lLiuPTMTGmqp",
        "ytplyBDFSi08",
        "4k8EvQPcMDH-",
        "cEGXgAfmeToQ",
        "8fElCTTlfEf4",
        "1rpBnMLfuT9l",
        "jObh8KU3umqv",
        "Hga9FesRuGo2",
        "RZ9C_-4Dv89r",
        "oV4FPm0cv8qI",
        "UbGMlyapuB4f",
        "rO9tQtpQuayH",
        "jabJpPuttpUQ",
        "X_fc7xXxtar8"
      ],
      "include_colab_link": true
    },
    "kernelspec": {
      "name": "python3",
      "display_name": "Python 3"
    },
    "language_info": {
      "name": "python"
    }
  },
  "cells": [
    {
      "cell_type": "markdown",
      "metadata": {
        "id": "view-in-github",
        "colab_type": "text"
      },
      "source": [
        "<a href=\"https://colab.research.google.com/github/tolgasahan/nbaPlayersAnalysis/blob/main/Nba_Players_Prediction.ipynb\" target=\"_parent\"><img src=\"https://colab.research.google.com/assets/colab-badge.svg\" alt=\"Open In Colab\"/></a>"
      ]
    },
    {
      "cell_type": "markdown",
      "metadata": {
        "id": "StETOOwdbWxy"
      },
      "source": [
        "# **Veri Görselleştirme**"
      ]
    },
    {
      "cell_type": "code",
      "execution_count": null,
      "metadata": {
        "id": "O2NY_0MK6eFe"
      },
      "outputs": [],
      "source": [
        "import pandas as pd\n",
        "import numpy as np\n",
        "import matplotlib.pyplot as plt\n",
        "import seaborn as sns"
      ]
    },
    {
      "cell_type": "code",
      "source": [
        "from google.colab import files\n",
        "uploaded = files.upload()"
      ],
      "metadata": {
        "colab": {
          "resources": {
            "http://localhost:8080/nbextensions/google.colab/files.js": {
              "data": "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",
              "ok": true,
              "headers": [
                [
                  "content-type",
                  "application/javascript"
                ]
              ],
              "status": 200,
              "status_text": ""
            }
          },
          "base_uri": "https://localhost:8080/",
          "height": 73
        },
        "outputId": "bda8f18c-e47a-4fa1-ef2d-34520e0f7da7",
        "id": "1yZZlwYZ_X9M"
      },
      "execution_count": null,
      "outputs": [
        {
          "output_type": "display_data",
          "data": {
            "text/html": [
              "\n",
              "     <input type=\"file\" id=\"files-c0110757-0410-4c46-8e8c-50d5a290dfdd\" name=\"files[]\" multiple disabled\n",
              "        style=\"border:none\" />\n",
              "     <output id=\"result-c0110757-0410-4c46-8e8c-50d5a290dfdd\">\n",
              "      Upload widget is only available when the cell has been executed in the\n",
              "      current browser session. Please rerun this cell to enable.\n",
              "      </output>\n",
              "      <script src=\"/nbextensions/google.colab/files.js\"></script> "
            ],
            "text/plain": [
              "<IPython.core.display.HTML object>"
            ]
          },
          "metadata": {}
        },
        {
          "output_type": "stream",
          "name": "stdout",
          "text": [
            "Saving nba-players.csv to nba-players.csv\n"
          ]
        }
      ]
    },
    {
      "cell_type": "code",
      "execution_count": null,
      "metadata": {
        "id": "R1v4HXNC7a_C",
        "colab": {
          "base_uri": "https://localhost:8080/",
          "height": 423
        },
        "outputId": "18d88dd3-4902-45fb-ddf3-80cd67b0bd15"
      },
      "outputs": [
        {
          "output_type": "execute_result",
          "data": {
            "text/html": [
              "\n",
              "  <div id=\"df-53e7f489-3a10-4cc9-8958-7344d6d3c291\">\n",
              "    <div class=\"colab-df-container\">\n",
              "      <div>\n",
              "<style scoped>\n",
              "    .dataframe tbody tr th:only-of-type {\n",
              "        vertical-align: middle;\n",
              "    }\n",
              "\n",
              "    .dataframe tbody tr th {\n",
              "        vertical-align: top;\n",
              "    }\n",
              "\n",
              "    .dataframe thead th {\n",
              "        text-align: right;\n",
              "    }\n",
              "</style>\n",
              "<table border=\"1\" class=\"dataframe\">\n",
              "  <thead>\n",
              "    <tr style=\"text-align: right;\">\n",
              "      <th></th>\n",
              "      <th>Unnamed: 0</th>\n",
              "      <th>name</th>\n",
              "      <th>gp</th>\n",
              "      <th>min</th>\n",
              "      <th>pts</th>\n",
              "      <th>fgm</th>\n",
              "      <th>fga</th>\n",
              "      <th>fg</th>\n",
              "      <th>3p_made</th>\n",
              "      <th>3pa</th>\n",
              "      <th>3p</th>\n",
              "      <th>ftm</th>\n",
              "      <th>fta</th>\n",
              "      <th>ft</th>\n",
              "      <th>oreb</th>\n",
              "      <th>dreb</th>\n",
              "      <th>reb</th>\n",
              "      <th>ast</th>\n",
              "      <th>stl</th>\n",
              "      <th>blk</th>\n",
              "      <th>tov</th>\n",
              "      <th>target_5yrs</th>\n",
              "    </tr>\n",
              "  </thead>\n",
              "  <tbody>\n",
              "    <tr>\n",
              "      <th>0</th>\n",
              "      <td>0</td>\n",
              "      <td>Brandon Ingram</td>\n",
              "      <td>36</td>\n",
              "      <td>27.4</td>\n",
              "      <td>7.4</td>\n",
              "      <td>2.6</td>\n",
              "      <td>7.6</td>\n",
              "      <td>34.7</td>\n",
              "      <td>0.5</td>\n",
              "      <td>2.1</td>\n",
              "      <td>25.0</td>\n",
              "      <td>1.6</td>\n",
              "      <td>2.3</td>\n",
              "      <td>69.9</td>\n",
              "      <td>0.7</td>\n",
              "      <td>3.4</td>\n",
              "      <td>4.1</td>\n",
              "      <td>1.9</td>\n",
              "      <td>0.4</td>\n",
              "      <td>0.4</td>\n",
              "      <td>1.3</td>\n",
              "      <td>0</td>\n",
              "    </tr>\n",
              "    <tr>\n",
              "      <th>1</th>\n",
              "      <td>1</td>\n",
              "      <td>Andrew Harrison</td>\n",
              "      <td>35</td>\n",
              "      <td>26.9</td>\n",
              "      <td>7.2</td>\n",
              "      <td>2.0</td>\n",
              "      <td>6.7</td>\n",
              "      <td>29.6</td>\n",
              "      <td>0.7</td>\n",
              "      <td>2.8</td>\n",
              "      <td>23.5</td>\n",
              "      <td>2.6</td>\n",
              "      <td>3.4</td>\n",
              "      <td>76.5</td>\n",
              "      <td>0.5</td>\n",
              "      <td>2.0</td>\n",
              "      <td>2.4</td>\n",
              "      <td>3.7</td>\n",
              "      <td>1.1</td>\n",
              "      <td>0.5</td>\n",
              "      <td>1.6</td>\n",
              "      <td>0</td>\n",
              "    </tr>\n",
              "    <tr>\n",
              "      <th>2</th>\n",
              "      <td>2</td>\n",
              "      <td>JaKarr Sampson</td>\n",
              "      <td>74</td>\n",
              "      <td>15.3</td>\n",
              "      <td>5.2</td>\n",
              "      <td>2.0</td>\n",
              "      <td>4.7</td>\n",
              "      <td>42.2</td>\n",
              "      <td>0.4</td>\n",
              "      <td>1.7</td>\n",
              "      <td>24.4</td>\n",
              "      <td>0.9</td>\n",
              "      <td>1.3</td>\n",
              "      <td>67.0</td>\n",
              "      <td>0.5</td>\n",
              "      <td>1.7</td>\n",
              "      <td>2.2</td>\n",
              "      <td>1.0</td>\n",
              "      <td>0.5</td>\n",
              "      <td>0.3</td>\n",
              "      <td>1.0</td>\n",
              "      <td>0</td>\n",
              "    </tr>\n",
              "    <tr>\n",
              "      <th>3</th>\n",
              "      <td>3</td>\n",
              "      <td>Malik Sealy</td>\n",
              "      <td>58</td>\n",
              "      <td>11.6</td>\n",
              "      <td>5.7</td>\n",
              "      <td>2.3</td>\n",
              "      <td>5.5</td>\n",
              "      <td>42.6</td>\n",
              "      <td>0.1</td>\n",
              "      <td>0.5</td>\n",
              "      <td>22.6</td>\n",
              "      <td>0.9</td>\n",
              "      <td>1.3</td>\n",
              "      <td>68.9</td>\n",
              "      <td>1.0</td>\n",
              "      <td>0.9</td>\n",
              "      <td>1.9</td>\n",
              "      <td>0.8</td>\n",
              "      <td>0.6</td>\n",
              "      <td>0.1</td>\n",
              "      <td>1.0</td>\n",
              "      <td>1</td>\n",
              "    </tr>\n",
              "    <tr>\n",
              "      <th>4</th>\n",
              "      <td>4</td>\n",
              "      <td>Matt Geiger</td>\n",
              "      <td>48</td>\n",
              "      <td>11.5</td>\n",
              "      <td>4.5</td>\n",
              "      <td>1.6</td>\n",
              "      <td>3.0</td>\n",
              "      <td>52.4</td>\n",
              "      <td>0.0</td>\n",
              "      <td>0.1</td>\n",
              "      <td>0.0</td>\n",
              "      <td>1.3</td>\n",
              "      <td>1.9</td>\n",
              "      <td>67.4</td>\n",
              "      <td>1.0</td>\n",
              "      <td>1.5</td>\n",
              "      <td>2.5</td>\n",
              "      <td>0.3</td>\n",
              "      <td>0.3</td>\n",
              "      <td>0.4</td>\n",
              "      <td>0.8</td>\n",
              "      <td>1</td>\n",
              "    </tr>\n",
              "    <tr>\n",
              "      <th>...</th>\n",
              "      <td>...</td>\n",
              "      <td>...</td>\n",
              "      <td>...</td>\n",
              "      <td>...</td>\n",
              "      <td>...</td>\n",
              "      <td>...</td>\n",
              "      <td>...</td>\n",
              "      <td>...</td>\n",
              "      <td>...</td>\n",
              "      <td>...</td>\n",
              "      <td>...</td>\n",
              "      <td>...</td>\n",
              "      <td>...</td>\n",
              "      <td>...</td>\n",
              "      <td>...</td>\n",
              "      <td>...</td>\n",
              "      <td>...</td>\n",
              "      <td>...</td>\n",
              "      <td>...</td>\n",
              "      <td>...</td>\n",
              "      <td>...</td>\n",
              "      <td>...</td>\n",
              "    </tr>\n",
              "    <tr>\n",
              "      <th>1335</th>\n",
              "      <td>1335</td>\n",
              "      <td>Chris Smith</td>\n",
              "      <td>80</td>\n",
              "      <td>15.8</td>\n",
              "      <td>4.3</td>\n",
              "      <td>1.6</td>\n",
              "      <td>3.6</td>\n",
              "      <td>43.3</td>\n",
              "      <td>0.0</td>\n",
              "      <td>0.2</td>\n",
              "      <td>14.3</td>\n",
              "      <td>1.2</td>\n",
              "      <td>1.5</td>\n",
              "      <td>79.2</td>\n",
              "      <td>0.4</td>\n",
              "      <td>0.8</td>\n",
              "      <td>1.2</td>\n",
              "      <td>2.5</td>\n",
              "      <td>0.6</td>\n",
              "      <td>0.2</td>\n",
              "      <td>0.8</td>\n",
              "      <td>0</td>\n",
              "    </tr>\n",
              "    <tr>\n",
              "      <th>1336</th>\n",
              "      <td>1336</td>\n",
              "      <td>Brent Price</td>\n",
              "      <td>68</td>\n",
              "      <td>12.6</td>\n",
              "      <td>3.9</td>\n",
              "      <td>1.5</td>\n",
              "      <td>4.1</td>\n",
              "      <td>35.8</td>\n",
              "      <td>0.1</td>\n",
              "      <td>0.7</td>\n",
              "      <td>16.7</td>\n",
              "      <td>0.8</td>\n",
              "      <td>1.0</td>\n",
              "      <td>79.4</td>\n",
              "      <td>0.4</td>\n",
              "      <td>1.1</td>\n",
              "      <td>1.5</td>\n",
              "      <td>2.3</td>\n",
              "      <td>0.8</td>\n",
              "      <td>0.0</td>\n",
              "      <td>1.3</td>\n",
              "      <td>1</td>\n",
              "    </tr>\n",
              "    <tr>\n",
              "      <th>1337</th>\n",
              "      <td>1337</td>\n",
              "      <td>Marlon Maxey</td>\n",
              "      <td>43</td>\n",
              "      <td>12.1</td>\n",
              "      <td>5.4</td>\n",
              "      <td>2.2</td>\n",
              "      <td>3.9</td>\n",
              "      <td>55.0</td>\n",
              "      <td>0.0</td>\n",
              "      <td>0.0</td>\n",
              "      <td>0.0</td>\n",
              "      <td>1.0</td>\n",
              "      <td>1.6</td>\n",
              "      <td>64.3</td>\n",
              "      <td>1.5</td>\n",
              "      <td>2.3</td>\n",
              "      <td>3.8</td>\n",
              "      <td>0.3</td>\n",
              "      <td>0.3</td>\n",
              "      <td>0.4</td>\n",
              "      <td>0.9</td>\n",
              "      <td>0</td>\n",
              "    </tr>\n",
              "    <tr>\n",
              "      <th>1338</th>\n",
              "      <td>1338</td>\n",
              "      <td>Litterial Green</td>\n",
              "      <td>52</td>\n",
              "      <td>12.0</td>\n",
              "      <td>4.5</td>\n",
              "      <td>1.7</td>\n",
              "      <td>3.8</td>\n",
              "      <td>43.9</td>\n",
              "      <td>0.0</td>\n",
              "      <td>0.2</td>\n",
              "      <td>10.0</td>\n",
              "      <td>1.2</td>\n",
              "      <td>1.8</td>\n",
              "      <td>62.5</td>\n",
              "      <td>0.2</td>\n",
              "      <td>0.4</td>\n",
              "      <td>0.7</td>\n",
              "      <td>2.2</td>\n",
              "      <td>0.4</td>\n",
              "      <td>0.1</td>\n",
              "      <td>0.8</td>\n",
              "      <td>1</td>\n",
              "    </tr>\n",
              "    <tr>\n",
              "      <th>1339</th>\n",
              "      <td>1339</td>\n",
              "      <td>Jon Barry</td>\n",
              "      <td>47</td>\n",
              "      <td>11.7</td>\n",
              "      <td>4.4</td>\n",
              "      <td>1.6</td>\n",
              "      <td>4.4</td>\n",
              "      <td>36.9</td>\n",
              "      <td>0.4</td>\n",
              "      <td>1.3</td>\n",
              "      <td>33.3</td>\n",
              "      <td>0.7</td>\n",
              "      <td>1.0</td>\n",
              "      <td>67.3</td>\n",
              "      <td>0.2</td>\n",
              "      <td>0.7</td>\n",
              "      <td>0.9</td>\n",
              "      <td>1.4</td>\n",
              "      <td>0.7</td>\n",
              "      <td>0.1</td>\n",
              "      <td>0.9</td>\n",
              "      <td>1</td>\n",
              "    </tr>\n",
              "  </tbody>\n",
              "</table>\n",
              "<p>1340 rows × 22 columns</p>\n",
              "</div>\n",
              "      <button class=\"colab-df-convert\" onclick=\"convertToInteractive('df-53e7f489-3a10-4cc9-8958-7344d6d3c291')\"\n",
              "              title=\"Convert this dataframe to an interactive table.\"\n",
              "              style=\"display:none;\">\n",
              "        \n",
              "  <svg xmlns=\"http://www.w3.org/2000/svg\" height=\"24px\"viewBox=\"0 0 24 24\"\n",
              "       width=\"24px\">\n",
              "    <path d=\"M0 0h24v24H0V0z\" fill=\"none\"/>\n",
              "    <path d=\"M18.56 5.44l.94 2.06.94-2.06 2.06-.94-2.06-.94-.94-2.06-.94 2.06-2.06.94zm-11 1L8.5 8.5l.94-2.06 2.06-.94-2.06-.94L8.5 2.5l-.94 2.06-2.06.94zm10 10l.94 2.06.94-2.06 2.06-.94-2.06-.94-.94-2.06-.94 2.06-2.06.94z\"/><path d=\"M17.41 7.96l-1.37-1.37c-.4-.4-.92-.59-1.43-.59-.52 0-1.04.2-1.43.59L10.3 9.45l-7.72 7.72c-.78.78-.78 2.05 0 2.83L4 21.41c.39.39.9.59 1.41.59.51 0 1.02-.2 1.41-.59l7.78-7.78 2.81-2.81c.8-.78.8-2.07 0-2.86zM5.41 20L4 18.59l7.72-7.72 1.47 1.35L5.41 20z\"/>\n",
              "  </svg>\n",
              "      </button>\n",
              "      \n",
              "  <style>\n",
              "    .colab-df-container {\n",
              "      display:flex;\n",
              "      flex-wrap:wrap;\n",
              "      gap: 12px;\n",
              "    }\n",
              "\n",
              "    .colab-df-convert {\n",
              "      background-color: #E8F0FE;\n",
              "      border: none;\n",
              "      border-radius: 50%;\n",
              "      cursor: pointer;\n",
              "      display: none;\n",
              "      fill: #1967D2;\n",
              "      height: 32px;\n",
              "      padding: 0 0 0 0;\n",
              "      width: 32px;\n",
              "    }\n",
              "\n",
              "    .colab-df-convert:hover {\n",
              "      background-color: #E2EBFA;\n",
              "      box-shadow: 0px 1px 2px rgba(60, 64, 67, 0.3), 0px 1px 3px 1px rgba(60, 64, 67, 0.15);\n",
              "      fill: #174EA6;\n",
              "    }\n",
              "\n",
              "    [theme=dark] .colab-df-convert {\n",
              "      background-color: #3B4455;\n",
              "      fill: #D2E3FC;\n",
              "    }\n",
              "\n",
              "    [theme=dark] .colab-df-convert:hover {\n",
              "      background-color: #434B5C;\n",
              "      box-shadow: 0px 1px 3px 1px rgba(0, 0, 0, 0.15);\n",
              "      filter: drop-shadow(0px 1px 2px rgba(0, 0, 0, 0.3));\n",
              "      fill: #FFFFFF;\n",
              "    }\n",
              "  </style>\n",
              "\n",
              "      <script>\n",
              "        const buttonEl =\n",
              "          document.querySelector('#df-53e7f489-3a10-4cc9-8958-7344d6d3c291 button.colab-df-convert');\n",
              "        buttonEl.style.display =\n",
              "          google.colab.kernel.accessAllowed ? 'block' : 'none';\n",
              "\n",
              "        async function convertToInteractive(key) {\n",
              "          const element = document.querySelector('#df-53e7f489-3a10-4cc9-8958-7344d6d3c291');\n",
              "          const dataTable =\n",
              "            await google.colab.kernel.invokeFunction('convertToInteractive',\n",
              "                                                     [key], {});\n",
              "          if (!dataTable) return;\n",
              "\n",
              "          const docLinkHtml = 'Like what you see? Visit the ' +\n",
              "            '<a target=\"_blank\" href=https://colab.research.google.com/notebooks/data_table.ipynb>data table notebook</a>'\n",
              "            + ' to learn more about interactive tables.';\n",
              "          element.innerHTML = '';\n",
              "          dataTable['output_type'] = 'display_data';\n",
              "          await google.colab.output.renderOutput(dataTable, element);\n",
              "          const docLink = document.createElement('div');\n",
              "          docLink.innerHTML = docLinkHtml;\n",
              "          element.appendChild(docLink);\n",
              "        }\n",
              "      </script>\n",
              "    </div>\n",
              "  </div>\n",
              "  "
            ],
            "text/plain": [
              "      Unnamed: 0             name  gp   min  ...  stl  blk  tov  target_5yrs\n",
              "0              0   Brandon Ingram  36  27.4  ...  0.4  0.4  1.3            0\n",
              "1              1  Andrew Harrison  35  26.9  ...  1.1  0.5  1.6            0\n",
              "2              2   JaKarr Sampson  74  15.3  ...  0.5  0.3  1.0            0\n",
              "3              3      Malik Sealy  58  11.6  ...  0.6  0.1  1.0            1\n",
              "4              4      Matt Geiger  48  11.5  ...  0.3  0.4  0.8            1\n",
              "...          ...              ...  ..   ...  ...  ...  ...  ...          ...\n",
              "1335        1335      Chris Smith  80  15.8  ...  0.6  0.2  0.8            0\n",
              "1336        1336      Brent Price  68  12.6  ...  0.8  0.0  1.3            1\n",
              "1337        1337     Marlon Maxey  43  12.1  ...  0.3  0.4  0.9            0\n",
              "1338        1338  Litterial Green  52  12.0  ...  0.4  0.1  0.8            1\n",
              "1339        1339        Jon Barry  47  11.7  ...  0.7  0.1  0.9            1\n",
              "\n",
              "[1340 rows x 22 columns]"
            ]
          },
          "metadata": {},
          "execution_count": 3
        }
      ],
      "source": [
        "oyuncular = pd.read_csv('nba-players.csv')\n",
        "oyuncular"
      ]
    },
    {
      "cell_type": "code",
      "execution_count": null,
      "metadata": {
        "id": "WvcHUIJk7cmu",
        "colab": {
          "base_uri": "https://localhost:8080/"
        },
        "outputId": "81fa6ce0-6413-4ccc-ad43-918bfb6515a5"
      },
      "outputs": [
        {
          "output_type": "execute_result",
          "data": {
            "text/plain": [
              "Index(['Unnamed: 0', 'name', 'gp', 'min', 'pts', 'fgm', 'fga', 'fg', '3p_made',\n",
              "       '3pa', '3p', 'ftm', 'fta', 'ft', 'oreb', 'dreb', 'reb', 'ast', 'stl',\n",
              "       'blk', 'tov', 'target_5yrs'],\n",
              "      dtype='object')"
            ]
          },
          "metadata": {},
          "execution_count": 4
        }
      ],
      "source": [
        "#oyuncular veri setinin tüm sütunlarının isimlerinin  gösterir.\n",
        "oyuncular.columns"
      ]
    },
    {
      "cell_type": "code",
      "execution_count": null,
      "metadata": {
        "id": "STRnV7Vx7csf",
        "colab": {
          "base_uri": "https://localhost:8080/",
          "height": 615
        },
        "outputId": "3d2bec23-a4b8-41a4-e58e-5612a468118a"
      },
      "outputs": [
        {
          "output_type": "display_data",
          "data": {
            "image/png": "[encoded data removed]",
            "text/plain": [
              "<Figure size 864x720 with 1 Axes>"
            ]
          },
          "metadata": {
            "needs_background": "light"
          }
        }
      ],
      "source": [
        "#Oyuncuların oynadıkları oyun sayısı ile yaptıkları başarılı saha içi atışların saçılım grafiği.gp 'games played' fgm 'field goals made'\n",
        "plt.figure(figsize = (12, 10))\n",
        "plt.xlabel(\"Oynanmış oyun sayısı\", fontsize = 20)\n",
        "plt.ylabel(\"Saha golü sayısı(field goal)\", fontsize = 20)\n",
        "plt.scatter(oyuncular[\"gp\"], oyuncular[\"fgm\"], color = \"orange\")\n",
        "plt.show()"
      ]
    },
    {
      "cell_type": "code",
      "execution_count": null,
      "metadata": {
        "id": "fzA87-cY7cx_",
        "colab": {
          "base_uri": "https://localhost:8080/"
        },
        "outputId": "a4243fa4-fbda-469f-fd0e-66c26f9db0e9"
      },
      "outputs": [
        {
          "output_type": "execute_result",
          "data": {
            "text/plain": [
              "0        986.4\n",
              "1        941.5\n",
              "2       1132.2\n",
              "3        672.8\n",
              "4        552.0\n",
              "         ...  \n",
              "1335    1264.0\n",
              "1336     856.8\n",
              "1337     520.3\n",
              "1338     624.0\n",
              "1339     549.9\n",
              "Name: Toplam_dakikalar, Length: 1340, dtype: float64"
            ]
          },
          "metadata": {},
          "execution_count": 6
        }
      ],
      "source": [
        "#her oyuncunun oynadığı toplam dakika sayısı 'gp' yani 'games played' oynanan oyun çarpı 'min' yani dakika üzerinden bulunur\n",
        "oyuncular['Toplam_dakikalar'] = oyuncular['gp']*oyuncular['min']\n",
        "oyuncular['Toplam_dakikalar']"
      ]
    },
    {
      "cell_type": "code",
      "execution_count": null,
      "metadata": {
        "id": "TjepBBsj8GS2",
        "colab": {
          "base_uri": "https://localhost:8080/",
          "height": 615
        },
        "outputId": "47ecf29b-4ce6-408f-b4ca-50948e809e72"
      },
      "outputs": [
        {
          "output_type": "display_data",
          "data": {
            "image/png": "[encoded data removed]",
            "text/plain": [
              "<Figure size 864x720 with 1 Axes>"
            ]
          },
          "metadata": {
            "needs_background": "light"
          }
        }
      ],
      "source": [
        "plt.figure(figsize = (12, 10))\n",
        "plt.xlabel(\"Oynanmış toplam dakika\", fontsize = 20)\n",
        "plt.ylabel(\"oyun başına puan sayısı\", fontsize = 20)\n",
        "plt.scatter(oyuncular['Toplam_dakikalar'],oyuncular[\"pts\"], color = \"red\")\n",
        "plt.show()"
      ]
    },
    {
      "cell_type": "code",
      "execution_count": null,
      "metadata": {
        "id": "omlHBQF_8GVX",
        "colab": {
          "base_uri": "https://localhost:8080/",
          "height": 592
        },
        "outputId": "26ad5784-952f-4b7d-8e54-d75aec81c028"
      },
      "outputs": [
        {
          "output_type": "execute_result",
          "data": {
            "text/plain": [
              "Text(0.5, 0, 'başarılı üçlük sayısı')"
            ]
          },
          "metadata": {},
          "execution_count": 8
        },
        {
          "output_type": "display_data",
          "data": {
            "image/png": "[encoded data removed]",
            "text/plain": [
              "<Figure size 720x720 with 1 Axes>"
            ]
          },
          "metadata": {
            "needs_background": "light"
          }
        }
      ],
      "source": [
        "plt.figure(figsize = (10, 10))\n",
        "boyutlu = plt.axes(projection='3d')\n",
        "boyutlu.scatter3D(oyuncular['Toplam_dakikalar'],oyuncular[\"pts\"],oyuncular[\"3p_made\"])\n",
        "boyutlu.set_xlabel('oynanmış toplam dakikalar')\n",
        "boyutlu.set_ylabel('toplam basket')\n",
        "boyutlu.set_zlabel('başarılı üçlük sayısı')"
      ]
    },
    {
      "cell_type": "code",
      "execution_count": null,
      "metadata": {
        "id": "jaWncvk48GYR",
        "colab": {
          "base_uri": "https://localhost:8080/",
          "height": 517
        },
        "outputId": "840c55c7-aa52-447f-9593-8cfbb94a6cb4"
      },
      "outputs": [
        {
          "output_type": "execute_result",
          "data": {
            "text/plain": [
              "<matplotlib.axes._subplots.AxesSubplot at 0x7fe1f4badb50>"
            ]
          },
          "metadata": {},
          "execution_count": 9
        },
        {
          "output_type": "display_data",
          "data": {
            "image/png": "[encoded data removed]",
            "text/plain": [
              "<Figure size 842.4x595.44 with 1 Axes>"
            ]
          },
          "metadata": {}
        }
      ],
      "source": [
        "sns.set(rc={'figure.figsize':(11.7,8.27)})\n",
        "sns.boxplot(data=(oyuncular[\"3pa\"],oyuncular[\"ftm\"],oyuncular[\"fta\"],oyuncular[\"dreb\"],oyuncular[\"reb\"],oyuncular[\"ast\"],oyuncular[\"tov\"]))\n",
        "#3 point attempts-Free Throw made-Free Throw Attempts-Defensive Rebounds-Rebounds-Assists-Turnovers"
      ]
    },
    {
      "cell_type": "code",
      "execution_count": null,
      "metadata": {
        "id": "MJ5XA6bK8GeJ",
        "colab": {
          "base_uri": "https://localhost:8080/",
          "height": 725
        },
        "outputId": "8f7dad5e-4b40-4b39-f1bc-a2c0125d98aa"
      },
      "outputs": [
        {
          "output_type": "display_data",
          "data": {
            "image/png": "[encoded data removed]",
            "text/plain": [
              "<Figure size 720x720 with 3 Axes>"
            ]
          },
          "metadata": {}
        }
      ],
      "source": [
        "#Oyuncuların defansif ribaund sayılarına karşılık yaptıkları bloklar.\n",
        "sns.jointplot(x = oyuncular[\"blk\"], y =oyuncular[\"dreb\"],height=10,kind='reg',ratio=2 )\n",
        "plt.show()"
      ]
    },
    {
      "cell_type": "code",
      "execution_count": null,
      "metadata": {
        "id": "wWu1132C8Wyf",
        "colab": {
          "base_uri": "https://localhost:8080/"
        },
        "outputId": "1648ad49-8956-4d4c-f6be-337367c3bc48"
      },
      "outputs": [
        {
          "output_type": "execute_result",
          "data": {
            "text/plain": [
              "dict_keys(['>= 60', '40-60', '<40'])"
            ]
          },
          "metadata": {},
          "execution_count": 11
        }
      ],
      "source": [
        "#Saha atışlarını kırktan küçük olanlar,kırk ile altmış arasında olanlar ve altmıştan büyük olanlar olarak ayırır\n",
        "field_goal = {}\n",
        "field_goal['>= 60'] = len([k for k in oyuncular.fg if k >= 60])\n",
        "field_goal['40-60'] = len([k for k in oyuncular.fg if (40 <= k) and (k < 60)])\n",
        "field_goal['<40'] = len([k for k in oyuncular.fg if k < 40])\n",
        "\n",
        "field_goal.keys()"
      ]
    },
    {
      "cell_type": "code",
      "execution_count": null,
      "metadata": {
        "id": "sr2b36Hm8W4s",
        "colab": {
          "base_uri": "https://localhost:8080/",
          "height": 423
        },
        "outputId": "c292401a-3a00-4845-d0c7-a194b64609bd"
      },
      "outputs": [
        {
          "output_type": "execute_result",
          "data": {
            "text/html": [
              "\n",
              "  <div id=\"df-0edf74e1-495e-4309-9e47-a7e8daafbf7b\">\n",
              "    <div class=\"colab-df-container\">\n",
              "      <div>\n",
              "<style scoped>\n",
              "    .dataframe tbody tr th:only-of-type {\n",
              "        vertical-align: middle;\n",
              "    }\n",
              "\n",
              "    .dataframe tbody tr th {\n",
              "        vertical-align: top;\n",
              "    }\n",
              "\n",
              "    .dataframe thead th {\n",
              "        text-align: right;\n",
              "    }\n",
              "</style>\n",
              "<table border=\"1\" class=\"dataframe\">\n",
              "  <thead>\n",
              "    <tr style=\"text-align: right;\">\n",
              "      <th></th>\n",
              "      <th>field_goal</th>\n",
              "      <th>count</th>\n",
              "    </tr>\n",
              "  </thead>\n",
              "  <tbody>\n",
              "    <tr>\n",
              "      <th>0</th>\n",
              "      <td>43.9</td>\n",
              "      <td>15</td>\n",
              "    </tr>\n",
              "    <tr>\n",
              "      <th>1</th>\n",
              "      <td>41.5</td>\n",
              "      <td>15</td>\n",
              "    </tr>\n",
              "    <tr>\n",
              "      <th>2</th>\n",
              "      <td>42.6</td>\n",
              "      <td>15</td>\n",
              "    </tr>\n",
              "    <tr>\n",
              "      <th>3</th>\n",
              "      <td>43.0</td>\n",
              "      <td>15</td>\n",
              "    </tr>\n",
              "    <tr>\n",
              "      <th>4</th>\n",
              "      <td>45.5</td>\n",
              "      <td>14</td>\n",
              "    </tr>\n",
              "    <tr>\n",
              "      <th>...</th>\n",
              "      <td>...</td>\n",
              "      <td>...</td>\n",
              "    </tr>\n",
              "    <tr>\n",
              "      <th>177</th>\n",
              "      <td>49.2</td>\n",
              "      <td>2</td>\n",
              "    </tr>\n",
              "    <tr>\n",
              "      <th>184</th>\n",
              "      <td>49.9</td>\n",
              "      <td>2</td>\n",
              "    </tr>\n",
              "    <tr>\n",
              "      <th>191</th>\n",
              "      <td>48.9</td>\n",
              "      <td>2</td>\n",
              "    </tr>\n",
              "    <tr>\n",
              "      <th>194</th>\n",
              "      <td>48.8</td>\n",
              "      <td>2</td>\n",
              "    </tr>\n",
              "    <tr>\n",
              "      <th>198</th>\n",
              "      <td>44.0</td>\n",
              "      <td>2</td>\n",
              "    </tr>\n",
              "  </tbody>\n",
              "</table>\n",
              "<p>99 rows × 2 columns</p>\n",
              "</div>\n",
              "      <button class=\"colab-df-convert\" onclick=\"convertToInteractive('df-0edf74e1-495e-4309-9e47-a7e8daafbf7b')\"\n",
              "              title=\"Convert this dataframe to an interactive table.\"\n",
              "              style=\"display:none;\">\n",
              "        \n",
              "  <svg xmlns=\"http://www.w3.org/2000/svg\" height=\"24px\"viewBox=\"0 0 24 24\"\n",
              "       width=\"24px\">\n",
              "    <path d=\"M0 0h24v24H0V0z\" fill=\"none\"/>\n",
              "    <path d=\"M18.56 5.44l.94 2.06.94-2.06 2.06-.94-2.06-.94-.94-2.06-.94 2.06-2.06.94zm-11 1L8.5 8.5l.94-2.06 2.06-.94-2.06-.94L8.5 2.5l-.94 2.06-2.06.94zm10 10l.94 2.06.94-2.06 2.06-.94-2.06-.94-.94-2.06-.94 2.06-2.06.94z\"/><path d=\"M17.41 7.96l-1.37-1.37c-.4-.4-.92-.59-1.43-.59-.52 0-1.04.2-1.43.59L10.3 9.45l-7.72 7.72c-.78.78-.78 2.05 0 2.83L4 21.41c.39.39.9.59 1.41.59.51 0 1.02-.2 1.41-.59l7.78-7.78 2.81-2.81c.8-.78.8-2.07 0-2.86zM5.41 20L4 18.59l7.72-7.72 1.47 1.35L5.41 20z\"/>\n",
              "  </svg>\n",
              "      </button>\n",
              "      \n",
              "  <style>\n",
              "    .colab-df-container {\n",
              "      display:flex;\n",
              "      flex-wrap:wrap;\n",
              "      gap: 12px;\n",
              "    }\n",
              "\n",
              "    .colab-df-convert {\n",
              "      background-color: #E8F0FE;\n",
              "      border: none;\n",
              "      border-radius: 50%;\n",
              "      cursor: pointer;\n",
              "      display: none;\n",
              "      fill: #1967D2;\n",
              "      height: 32px;\n",
              "      padding: 0 0 0 0;\n",
              "      width: 32px;\n",
              "    }\n",
              "\n",
              "    .colab-df-convert:hover {\n",
              "      background-color: #E2EBFA;\n",
              "      box-shadow: 0px 1px 2px rgba(60, 64, 67, 0.3), 0px 1px 3px 1px rgba(60, 64, 67, 0.15);\n",
              "      fill: #174EA6;\n",
              "    }\n",
              "\n",
              "    [theme=dark] .colab-df-convert {\n",
              "      background-color: #3B4455;\n",
              "      fill: #D2E3FC;\n",
              "    }\n",
              "\n",
              "    [theme=dark] .colab-df-convert:hover {\n",
              "      background-color: #434B5C;\n",
              "      box-shadow: 0px 1px 3px 1px rgba(0, 0, 0, 0.15);\n",
              "      filter: drop-shadow(0px 1px 2px rgba(0, 0, 0, 0.3));\n",
              "      fill: #FFFFFF;\n",
              "    }\n",
              "  </style>\n",
              "\n",
              "      <script>\n",
              "        const buttonEl =\n",
              "          document.querySelector('#df-0edf74e1-495e-4309-9e47-a7e8daafbf7b button.colab-df-convert');\n",
              "        buttonEl.style.display =\n",
              "          google.colab.kernel.accessAllowed ? 'block' : 'none';\n",
              "\n",
              "        async function convertToInteractive(key) {\n",
              "          const element = document.querySelector('#df-0edf74e1-495e-4309-9e47-a7e8daafbf7b');\n",
              "          const dataTable =\n",
              "            await google.colab.kernel.invokeFunction('convertToInteractive',\n",
              "                                                     [key], {});\n",
              "          if (!dataTable) return;\n",
              "\n",
              "          const docLinkHtml = 'Like what you see? Visit the ' +\n",
              "            '<a target=\"_blank\" href=https://colab.research.google.com/notebooks/data_table.ipynb>data table notebook</a>'\n",
              "            + ' to learn more about interactive tables.';\n",
              "          element.innerHTML = '';\n",
              "          dataTable['output_type'] = 'display_data';\n",
              "          await google.colab.output.renderOutput(dataTable, element);\n",
              "          const docLink = document.createElement('div');\n",
              "          docLink.innerHTML = docLinkHtml;\n",
              "          element.appendChild(docLink);\n",
              "        }\n",
              "      </script>\n",
              "    </div>\n",
              "  </div>\n",
              "  "
            ],
            "text/plain": [
              "     field_goal  count\n",
              "0          43.9     15\n",
              "1          41.5     15\n",
              "2          42.6     15\n",
              "3          43.0     15\n",
              "4          45.5     14\n",
              "..          ...    ...\n",
              "177        49.2      2\n",
              "184        49.9      2\n",
              "191        48.9      2\n",
              "194        48.8      2\n",
              "198        44.0      2\n",
              "\n",
              "[99 rows x 2 columns]"
            ]
          },
          "metadata": {},
          "execution_count": 12
        }
      ],
      "source": [
        "# Saha atış başarı yüzdesi 40 ile 50 arasında olan oyuncuların başarı yüzdeleri değerince gruplanıp büyüten küçüğe sıralanmış tablosu. \n",
        "field_goal_df = oyuncular.fg.value_counts().reset_index()\n",
        "field_goal_df.columns = ['field_goal', 'count']\n",
        "field_goal_df[(field_goal_df.field_goal > 40) & (field_goal_df.field_goal < 50)]"
      ]
    },
    {
      "cell_type": "code",
      "execution_count": null,
      "metadata": {
        "id": "jrdgLDHQ8W9q",
        "colab": {
          "base_uri": "https://localhost:8080/",
          "height": 516
        },
        "outputId": "3b9c4777-4592-4a33-d09b-08a0b39777ae"
      },
      "outputs": [
        {
          "output_type": "display_data",
          "data": {
            "image/png": "[encoded data removed]",
            "text/plain": [
              "<Figure size 1080x576 with 2 Axes>"
            ]
          },
          "metadata": {}
        }
      ],
      "source": [
        "plt.style.use('seaborn-white')\n",
        "plt.figure(figsize = (15, 8))\n",
        "ax1 = plt.axes()\n",
        "ax2 = plt.axes([0.65, 0.5, 0.2, 0.3])\n",
        "\n",
        "bins = range(20 ,100,5)\n",
        "ax1.hist(x = field_goal_df.field_goal, bins = bins, alpha = 0.5, ec = 'black')\n",
        "\n",
        "ax2.pie(x = list(field_goal.values()), labels = list(field_goal.keys()),\n",
        "       shadow = True, explode = (0.2, 0.15, 0.2),\n",
        "       radius = 1.5)\n",
        "\n",
        "ax1.set_title('2020 de NBA oyuncularının saha atışı başarılarının yüzdelik dağılımı', fontsize = 18)\n",
        "ax1.set_xlabel('Saha golü yüzdesi', fontsize = 15)\n",
        "ax1.set_ylabel('Aralıklar', fontsize = 15)\n",
        "plt.show()\n",
        "#2020 yılında NBA oyuncularının saha atış denemelerinin başarı yüzdesinin dağılım grafiği"
      ]
    },
    {
      "cell_type": "code",
      "execution_count": null,
      "metadata": {
        "id": "zdgQH5Q-8XEg",
        "colab": {
          "base_uri": "https://localhost:8080/",
          "height": 423
        },
        "outputId": "cb7f0d35-bc3b-4b9e-bccc-2929da53d9c8"
      },
      "outputs": [
        {
          "output_type": "execute_result",
          "data": {
            "text/html": [
              "\n",
              "  <div id=\"df-1eeb0297-c63b-40b4-9af1-b43783c41a61\">\n",
              "    <div class=\"colab-df-container\">\n",
              "      <div>\n",
              "<style scoped>\n",
              "    .dataframe tbody tr th:only-of-type {\n",
              "        vertical-align: middle;\n",
              "    }\n",
              "\n",
              "    .dataframe tbody tr th {\n",
              "        vertical-align: top;\n",
              "    }\n",
              "\n",
              "    .dataframe thead th {\n",
              "        text-align: right;\n",
              "    }\n",
              "</style>\n",
              "<table border=\"1\" class=\"dataframe\">\n",
              "  <thead>\n",
              "    <tr style=\"text-align: right;\">\n",
              "      <th></th>\n",
              "      <th>3points</th>\n",
              "      <th>counts</th>\n",
              "    </tr>\n",
              "  </thead>\n",
              "  <tbody>\n",
              "    <tr>\n",
              "      <th>0</th>\n",
              "      <td>0.0</td>\n",
              "      <td>451</td>\n",
              "    </tr>\n",
              "    <tr>\n",
              "      <th>1</th>\n",
              "      <td>33.3</td>\n",
              "      <td>39</td>\n",
              "    </tr>\n",
              "    <tr>\n",
              "      <th>2</th>\n",
              "      <td>25.0</td>\n",
              "      <td>34</td>\n",
              "    </tr>\n",
              "    <tr>\n",
              "      <th>3</th>\n",
              "      <td>20.0</td>\n",
              "      <td>26</td>\n",
              "    </tr>\n",
              "    <tr>\n",
              "      <th>4</th>\n",
              "      <td>16.7</td>\n",
              "      <td>24</td>\n",
              "    </tr>\n",
              "    <tr>\n",
              "      <th>...</th>\n",
              "      <td>...</td>\n",
              "      <td>...</td>\n",
              "    </tr>\n",
              "    <tr>\n",
              "      <th>249</th>\n",
              "      <td>42.8</td>\n",
              "      <td>1</td>\n",
              "    </tr>\n",
              "    <tr>\n",
              "      <th>250</th>\n",
              "      <td>20.2</td>\n",
              "      <td>1</td>\n",
              "    </tr>\n",
              "    <tr>\n",
              "      <th>251</th>\n",
              "      <td>39.7</td>\n",
              "      <td>1</td>\n",
              "    </tr>\n",
              "    <tr>\n",
              "      <th>252</th>\n",
              "      <td>26.6</td>\n",
              "      <td>1</td>\n",
              "    </tr>\n",
              "    <tr>\n",
              "      <th>253</th>\n",
              "      <td>40.9</td>\n",
              "      <td>1</td>\n",
              "    </tr>\n",
              "  </tbody>\n",
              "</table>\n",
              "<p>254 rows × 2 columns</p>\n",
              "</div>\n",
              "      <button class=\"colab-df-convert\" onclick=\"convertToInteractive('df-1eeb0297-c63b-40b4-9af1-b43783c41a61')\"\n",
              "              title=\"Convert this dataframe to an interactive table.\"\n",
              "              style=\"display:none;\">\n",
              "        \n",
              "  <svg xmlns=\"http://www.w3.org/2000/svg\" height=\"24px\"viewBox=\"0 0 24 24\"\n",
              "       width=\"24px\">\n",
              "    <path d=\"M0 0h24v24H0V0z\" fill=\"none\"/>\n",
              "    <path d=\"M18.56 5.44l.94 2.06.94-2.06 2.06-.94-2.06-.94-.94-2.06-.94 2.06-2.06.94zm-11 1L8.5 8.5l.94-2.06 2.06-.94-2.06-.94L8.5 2.5l-.94 2.06-2.06.94zm10 10l.94 2.06.94-2.06 2.06-.94-2.06-.94-.94-2.06-.94 2.06-2.06.94z\"/><path d=\"M17.41 7.96l-1.37-1.37c-.4-.4-.92-.59-1.43-.59-.52 0-1.04.2-1.43.59L10.3 9.45l-7.72 7.72c-.78.78-.78 2.05 0 2.83L4 21.41c.39.39.9.59 1.41.59.51 0 1.02-.2 1.41-.59l7.78-7.78 2.81-2.81c.8-.78.8-2.07 0-2.86zM5.41 20L4 18.59l7.72-7.72 1.47 1.35L5.41 20z\"/>\n",
              "  </svg>\n",
              "      </button>\n",
              "      \n",
              "  <style>\n",
              "    .colab-df-container {\n",
              "      display:flex;\n",
              "      flex-wrap:wrap;\n",
              "      gap: 12px;\n",
              "    }\n",
              "\n",
              "    .colab-df-convert {\n",
              "      background-color: #E8F0FE;\n",
              "      border: none;\n",
              "      border-radius: 50%;\n",
              "      cursor: pointer;\n",
              "      display: none;\n",
              "      fill: #1967D2;\n",
              "      height: 32px;\n",
              "      padding: 0 0 0 0;\n",
              "      width: 32px;\n",
              "    }\n",
              "\n",
              "    .colab-df-convert:hover {\n",
              "      background-color: #E2EBFA;\n",
              "      box-shadow: 0px 1px 2px rgba(60, 64, 67, 0.3), 0px 1px 3px 1px rgba(60, 64, 67, 0.15);\n",
              "      fill: #174EA6;\n",
              "    }\n",
              "\n",
              "    [theme=dark] .colab-df-convert {\n",
              "      background-color: #3B4455;\n",
              "      fill: #D2E3FC;\n",
              "    }\n",
              "\n",
              "    [theme=dark] .colab-df-convert:hover {\n",
              "      background-color: #434B5C;\n",
              "      box-shadow: 0px 1px 3px 1px rgba(0, 0, 0, 0.15);\n",
              "      filter: drop-shadow(0px 1px 2px rgba(0, 0, 0, 0.3));\n",
              "      fill: #FFFFFF;\n",
              "    }\n",
              "  </style>\n",
              "\n",
              "      <script>\n",
              "        const buttonEl =\n",
              "          document.querySelector('#df-1eeb0297-c63b-40b4-9af1-b43783c41a61 button.colab-df-convert');\n",
              "        buttonEl.style.display =\n",
              "          google.colab.kernel.accessAllowed ? 'block' : 'none';\n",
              "\n",
              "        async function convertToInteractive(key) {\n",
              "          const element = document.querySelector('#df-1eeb0297-c63b-40b4-9af1-b43783c41a61');\n",
              "          const dataTable =\n",
              "            await google.colab.kernel.invokeFunction('convertToInteractive',\n",
              "                                                     [key], {});\n",
              "          if (!dataTable) return;\n",
              "\n",
              "          const docLinkHtml = 'Like what you see? Visit the ' +\n",
              "            '<a target=\"_blank\" href=https://colab.research.google.com/notebooks/data_table.ipynb>data table notebook</a>'\n",
              "            + ' to learn more about interactive tables.';\n",
              "          element.innerHTML = '';\n",
              "          dataTable['output_type'] = 'display_data';\n",
              "          await google.colab.output.renderOutput(dataTable, element);\n",
              "          const docLink = document.createElement('div');\n",
              "          docLink.innerHTML = docLinkHtml;\n",
              "          element.appendChild(docLink);\n",
              "        }\n",
              "      </script>\n",
              "    </div>\n",
              "  </div>\n",
              "  "
            ],
            "text/plain": [
              "     3points  counts\n",
              "0        0.0     451\n",
              "1       33.3      39\n",
              "2       25.0      34\n",
              "3       20.0      26\n",
              "4       16.7      24\n",
              "..       ...     ...\n",
              "249     42.8       1\n",
              "250     20.2       1\n",
              "251     39.7       1\n",
              "252     26.6       1\n",
              "253     40.9       1\n",
              "\n",
              "[254 rows x 2 columns]"
            ]
          },
          "metadata": {},
          "execution_count": 14
        }
      ],
      "source": [
        "#Her oyuncunun üçlük atış denemelerinin başarı yüzdelerinin gruplanmış olarak büyükten küçüğe sıralanışı\n",
        "oyuncular[['3p']]\n",
        "three_p =oyuncular['3p'].value_counts().reset_index()\n",
        "three_p.columns = ['3points', 'counts']\n",
        "three_p"
      ]
    },
    {
      "cell_type": "code",
      "execution_count": null,
      "metadata": {
        "id": "vDIjh9Th8gzs",
        "colab": {
          "base_uri": "https://localhost:8080/",
          "height": 553
        },
        "outputId": "33e0de45-cc4c-4bac-e764-c34a9a5256c9"
      },
      "outputs": [
        {
          "output_type": "display_data",
          "data": {
            "image/png": "[encoded data removed]",
            "text/plain": [
              "<Figure size 1080x576 with 1 Axes>"
            ]
          },
          "metadata": {}
        }
      ],
      "source": [
        "plt.style.use('fivethirtyeight')\n",
        "fig3, ax3 = plt.subplots(figsize = (15, 8))\n",
        "\n",
        "ax3.hist(x = three_p['3points'],\n",
        "         bins = range(0, 100, 10),\n",
        "         color = 'red',\n",
        "         ec = 'black')\n",
        "ax3.set_title('NBA oyuncularının üçlük başarı yüzdeleri')\n",
        "ax3.set_xlabel('Üçlük başarı oranı (%)')\n",
        "\n",
        "plt.show()\n",
        "#Üçlük atmada çoğu kişi yüzde 30 ila 40 arasında bir başarı oranına sahip.Bunlar 100 kişiden biraz daha az\n",
        "#Bunu 20-30 grubu yaklaşık 80 oyuncu ile takip ediyor \n",
        "#10-20 ve 40-50 başarı oranı grupları aynı olan 35 kişi sayısına sahip\n",
        "#%50'den daha iyi üçlük başarısı oranı olanlar ise sayıca on kişinin altında çok küçük bir grup"
      ]
    },
    {
      "cell_type": "code",
      "execution_count": null,
      "metadata": {
        "id": "METjUWEa8g3-",
        "colab": {
          "base_uri": "https://localhost:8080/",
          "height": 865
        },
        "outputId": "d9267f8d-1211-43a1-e85c-b9bbcd588f22"
      },
      "outputs": [
        {
          "output_type": "execute_result",
          "data": {
            "text/html": [
              "\n",
              "  <div id=\"df-97c90bb8-1b20-4ad4-bc3a-564fbf2be4cd\">\n",
              "    <div class=\"colab-df-container\">\n",
              "      <div>\n",
              "<style scoped>\n",
              "    .dataframe tbody tr th:only-of-type {\n",
              "        vertical-align: middle;\n",
              "    }\n",
              "\n",
              "    .dataframe tbody tr th {\n",
              "        vertical-align: top;\n",
              "    }\n",
              "\n",
              "    .dataframe thead th {\n",
              "        text-align: right;\n",
              "    }\n",
              "</style>\n",
              "<table border=\"1\" class=\"dataframe\">\n",
              "  <thead>\n",
              "    <tr style=\"text-align: right;\">\n",
              "      <th></th>\n",
              "      <th>steal</th>\n",
              "      <th>counts</th>\n",
              "    </tr>\n",
              "  </thead>\n",
              "  <tbody>\n",
              "    <tr>\n",
              "      <th>20</th>\n",
              "      <td>0.0</td>\n",
              "      <td>4</td>\n",
              "    </tr>\n",
              "    <tr>\n",
              "      <th>7</th>\n",
              "      <td>0.1</td>\n",
              "      <td>65</td>\n",
              "    </tr>\n",
              "    <tr>\n",
              "      <th>4</th>\n",
              "      <td>0.2</td>\n",
              "      <td>133</td>\n",
              "    </tr>\n",
              "    <tr>\n",
              "      <th>0</th>\n",
              "      <td>0.3</td>\n",
              "      <td>195</td>\n",
              "    </tr>\n",
              "    <tr>\n",
              "      <th>1</th>\n",
              "      <td>0.4</td>\n",
              "      <td>165</td>\n",
              "    </tr>\n",
              "    <tr>\n",
              "      <th>3</th>\n",
              "      <td>0.5</td>\n",
              "      <td>138</td>\n",
              "    </tr>\n",
              "    <tr>\n",
              "      <th>2</th>\n",
              "      <td>0.6</td>\n",
              "      <td>142</td>\n",
              "    </tr>\n",
              "    <tr>\n",
              "      <th>5</th>\n",
              "      <td>0.7</td>\n",
              "      <td>113</td>\n",
              "    </tr>\n",
              "    <tr>\n",
              "      <th>6</th>\n",
              "      <td>0.8</td>\n",
              "      <td>87</td>\n",
              "    </tr>\n",
              "    <tr>\n",
              "      <th>9</th>\n",
              "      <td>0.9</td>\n",
              "      <td>57</td>\n",
              "    </tr>\n",
              "    <tr>\n",
              "      <th>8</th>\n",
              "      <td>1.0</td>\n",
              "      <td>60</td>\n",
              "    </tr>\n",
              "    <tr>\n",
              "      <th>10</th>\n",
              "      <td>1.1</td>\n",
              "      <td>42</td>\n",
              "    </tr>\n",
              "    <tr>\n",
              "      <th>11</th>\n",
              "      <td>1.2</td>\n",
              "      <td>37</td>\n",
              "    </tr>\n",
              "    <tr>\n",
              "      <th>12</th>\n",
              "      <td>1.3</td>\n",
              "      <td>24</td>\n",
              "    </tr>\n",
              "    <tr>\n",
              "      <th>17</th>\n",
              "      <td>1.4</td>\n",
              "      <td>7</td>\n",
              "    </tr>\n",
              "    <tr>\n",
              "      <th>14</th>\n",
              "      <td>1.5</td>\n",
              "      <td>14</td>\n",
              "    </tr>\n",
              "    <tr>\n",
              "      <th>13</th>\n",
              "      <td>1.6</td>\n",
              "      <td>18</td>\n",
              "    </tr>\n",
              "    <tr>\n",
              "      <th>15</th>\n",
              "      <td>1.7</td>\n",
              "      <td>9</td>\n",
              "    </tr>\n",
              "    <tr>\n",
              "      <th>16</th>\n",
              "      <td>1.8</td>\n",
              "      <td>9</td>\n",
              "    </tr>\n",
              "    <tr>\n",
              "      <th>18</th>\n",
              "      <td>1.9</td>\n",
              "      <td>7</td>\n",
              "    </tr>\n",
              "    <tr>\n",
              "      <th>21</th>\n",
              "      <td>2.0</td>\n",
              "      <td>4</td>\n",
              "    </tr>\n",
              "    <tr>\n",
              "      <th>19</th>\n",
              "      <td>2.1</td>\n",
              "      <td>4</td>\n",
              "    </tr>\n",
              "    <tr>\n",
              "      <th>24</th>\n",
              "      <td>2.2</td>\n",
              "      <td>1</td>\n",
              "    </tr>\n",
              "    <tr>\n",
              "      <th>25</th>\n",
              "      <td>2.3</td>\n",
              "      <td>1</td>\n",
              "    </tr>\n",
              "    <tr>\n",
              "      <th>23</th>\n",
              "      <td>2.4</td>\n",
              "      <td>1</td>\n",
              "    </tr>\n",
              "    <tr>\n",
              "      <th>22</th>\n",
              "      <td>2.5</td>\n",
              "      <td>3</td>\n",
              "    </tr>\n",
              "  </tbody>\n",
              "</table>\n",
              "</div>\n",
              "      <button class=\"colab-df-convert\" onclick=\"convertToInteractive('df-97c90bb8-1b20-4ad4-bc3a-564fbf2be4cd')\"\n",
              "              title=\"Convert this dataframe to an interactive table.\"\n",
              "              style=\"display:none;\">\n",
              "        \n",
              "  <svg xmlns=\"http://www.w3.org/2000/svg\" height=\"24px\"viewBox=\"0 0 24 24\"\n",
              "       width=\"24px\">\n",
              "    <path d=\"M0 0h24v24H0V0z\" fill=\"none\"/>\n",
              "    <path d=\"M18.56 5.44l.94 2.06.94-2.06 2.06-.94-2.06-.94-.94-2.06-.94 2.06-2.06.94zm-11 1L8.5 8.5l.94-2.06 2.06-.94-2.06-.94L8.5 2.5l-.94 2.06-2.06.94zm10 10l.94 2.06.94-2.06 2.06-.94-2.06-.94-.94-2.06-.94 2.06-2.06.94z\"/><path d=\"M17.41 7.96l-1.37-1.37c-.4-.4-.92-.59-1.43-.59-.52 0-1.04.2-1.43.59L10.3 9.45l-7.72 7.72c-.78.78-.78 2.05 0 2.83L4 21.41c.39.39.9.59 1.41.59.51 0 1.02-.2 1.41-.59l7.78-7.78 2.81-2.81c.8-.78.8-2.07 0-2.86zM5.41 20L4 18.59l7.72-7.72 1.47 1.35L5.41 20z\"/>\n",
              "  </svg>\n",
              "      </button>\n",
              "      \n",
              "  <style>\n",
              "    .colab-df-container {\n",
              "      display:flex;\n",
              "      flex-wrap:wrap;\n",
              "      gap: 12px;\n",
              "    }\n",
              "\n",
              "    .colab-df-convert {\n",
              "      background-color: #E8F0FE;\n",
              "      border: none;\n",
              "      border-radius: 50%;\n",
              "      cursor: pointer;\n",
              "      display: none;\n",
              "      fill: #1967D2;\n",
              "      height: 32px;\n",
              "      padding: 0 0 0 0;\n",
              "      width: 32px;\n",
              "    }\n",
              "\n",
              "    .colab-df-convert:hover {\n",
              "      background-color: #E2EBFA;\n",
              "      box-shadow: 0px 1px 2px rgba(60, 64, 67, 0.3), 0px 1px 3px 1px rgba(60, 64, 67, 0.15);\n",
              "      fill: #174EA6;\n",
              "    }\n",
              "\n",
              "    [theme=dark] .colab-df-convert {\n",
              "      background-color: #3B4455;\n",
              "      fill: #D2E3FC;\n",
              "    }\n",
              "\n",
              "    [theme=dark] .colab-df-convert:hover {\n",
              "      background-color: #434B5C;\n",
              "      box-shadow: 0px 1px 3px 1px rgba(0, 0, 0, 0.15);\n",
              "      filter: drop-shadow(0px 1px 2px rgba(0, 0, 0, 0.3));\n",
              "      fill: #FFFFFF;\n",
              "    }\n",
              "  </style>\n",
              "\n",
              "      <script>\n",
              "        const buttonEl =\n",
              "          document.querySelector('#df-97c90bb8-1b20-4ad4-bc3a-564fbf2be4cd button.colab-df-convert');\n",
              "        buttonEl.style.display =\n",
              "          google.colab.kernel.accessAllowed ? 'block' : 'none';\n",
              "\n",
              "        async function convertToInteractive(key) {\n",
              "          const element = document.querySelector('#df-97c90bb8-1b20-4ad4-bc3a-564fbf2be4cd');\n",
              "          const dataTable =\n",
              "            await google.colab.kernel.invokeFunction('convertToInteractive',\n",
              "                                                     [key], {});\n",
              "          if (!dataTable) return;\n",
              "\n",
              "          const docLinkHtml = 'Like what you see? Visit the ' +\n",
              "            '<a target=\"_blank\" href=https://colab.research.google.com/notebooks/data_table.ipynb>data table notebook</a>'\n",
              "            + ' to learn more about interactive tables.';\n",
              "          element.innerHTML = '';\n",
              "          dataTable['output_type'] = 'display_data';\n",
              "          await google.colab.output.renderOutput(dataTable, element);\n",
              "          const docLink = document.createElement('div');\n",
              "          docLink.innerHTML = docLinkHtml;\n",
              "          element.appendChild(docLink);\n",
              "        }\n",
              "      </script>\n",
              "    </div>\n",
              "  </div>\n",
              "  "
            ],
            "text/plain": [
              "    steal  counts\n",
              "20    0.0       4\n",
              "7     0.1      65\n",
              "4     0.2     133\n",
              "0     0.3     195\n",
              "1     0.4     165\n",
              "3     0.5     138\n",
              "2     0.6     142\n",
              "5     0.7     113\n",
              "6     0.8      87\n",
              "9     0.9      57\n",
              "8     1.0      60\n",
              "10    1.1      42\n",
              "11    1.2      37\n",
              "12    1.3      24\n",
              "17    1.4       7\n",
              "14    1.5      14\n",
              "13    1.6      18\n",
              "15    1.7       9\n",
              "16    1.8       9\n",
              "18    1.9       7\n",
              "21    2.0       4\n",
              "19    2.1       4\n",
              "24    2.2       1\n",
              "25    2.3       1\n",
              "23    2.4       1\n",
              "22    2.5       3"
            ]
          },
          "metadata": {},
          "execution_count": 16
        }
      ],
      "source": [
        "#oyuncuların top çalma skorlarını sıralar\n",
        "steals = oyuncular['stl'].value_counts().reset_index()\n",
        "steals.columns = ['steal', 'counts']\n",
        "steals = steals.sort_values('steal')\n",
        "steals"
      ]
    },
    {
      "cell_type": "code",
      "execution_count": null,
      "metadata": {
        "id": "qxUOlIqx8g8U",
        "colab": {
          "base_uri": "https://localhost:8080/",
          "height": 423
        },
        "outputId": "5178bebd-c49a-417d-ce28-95ea76dea616"
      },
      "outputs": [
        {
          "output_type": "execute_result",
          "data": {
            "text/html": [
              "\n",
              "  <div id=\"df-e1c3e54d-d1b8-4031-bc91-7aec0811df0d\">\n",
              "    <div class=\"colab-df-container\">\n",
              "      <div>\n",
              "<style scoped>\n",
              "    .dataframe tbody tr th:only-of-type {\n",
              "        vertical-align: middle;\n",
              "    }\n",
              "\n",
              "    .dataframe tbody tr th {\n",
              "        vertical-align: top;\n",
              "    }\n",
              "\n",
              "    .dataframe thead th {\n",
              "        text-align: right;\n",
              "    }\n",
              "</style>\n",
              "<table border=\"1\" class=\"dataframe\">\n",
              "  <thead>\n",
              "    <tr style=\"text-align: right;\">\n",
              "      <th></th>\n",
              "      <th>assist</th>\n",
              "      <th>counts</th>\n",
              "    </tr>\n",
              "  </thead>\n",
              "  <tbody>\n",
              "    <tr>\n",
              "      <th>46</th>\n",
              "      <td>0.0</td>\n",
              "      <td>4</td>\n",
              "    </tr>\n",
              "    <tr>\n",
              "      <th>21</th>\n",
              "      <td>0.1</td>\n",
              "      <td>18</td>\n",
              "    </tr>\n",
              "    <tr>\n",
              "      <th>6</th>\n",
              "      <td>0.2</td>\n",
              "      <td>62</td>\n",
              "    </tr>\n",
              "    <tr>\n",
              "      <th>2</th>\n",
              "      <td>0.3</td>\n",
              "      <td>79</td>\n",
              "    </tr>\n",
              "    <tr>\n",
              "      <th>1</th>\n",
              "      <td>0.4</td>\n",
              "      <td>80</td>\n",
              "    </tr>\n",
              "    <tr>\n",
              "      <th>...</th>\n",
              "      <td>...</td>\n",
              "      <td>...</td>\n",
              "    </tr>\n",
              "    <tr>\n",
              "      <th>60</th>\n",
              "      <td>8.2</td>\n",
              "      <td>2</td>\n",
              "    </tr>\n",
              "    <tr>\n",
              "      <th>59</th>\n",
              "      <td>8.3</td>\n",
              "      <td>2</td>\n",
              "    </tr>\n",
              "    <tr>\n",
              "      <th>54</th>\n",
              "      <td>8.7</td>\n",
              "      <td>2</td>\n",
              "    </tr>\n",
              "    <tr>\n",
              "      <th>69</th>\n",
              "      <td>9.3</td>\n",
              "      <td>1</td>\n",
              "    </tr>\n",
              "    <tr>\n",
              "      <th>75</th>\n",
              "      <td>10.6</td>\n",
              "      <td>1</td>\n",
              "    </tr>\n",
              "  </tbody>\n",
              "</table>\n",
              "<p>77 rows × 2 columns</p>\n",
              "</div>\n",
              "      <button class=\"colab-df-convert\" onclick=\"convertToInteractive('df-e1c3e54d-d1b8-4031-bc91-7aec0811df0d')\"\n",
              "              title=\"Convert this dataframe to an interactive table.\"\n",
              "              style=\"display:none;\">\n",
              "        \n",
              "  <svg xmlns=\"http://www.w3.org/2000/svg\" height=\"24px\"viewBox=\"0 0 24 24\"\n",
              "       width=\"24px\">\n",
              "    <path d=\"M0 0h24v24H0V0z\" fill=\"none\"/>\n",
              "    <path d=\"M18.56 5.44l.94 2.06.94-2.06 2.06-.94-2.06-.94-.94-2.06-.94 2.06-2.06.94zm-11 1L8.5 8.5l.94-2.06 2.06-.94-2.06-.94L8.5 2.5l-.94 2.06-2.06.94zm10 10l.94 2.06.94-2.06 2.06-.94-2.06-.94-.94-2.06-.94 2.06-2.06.94z\"/><path d=\"M17.41 7.96l-1.37-1.37c-.4-.4-.92-.59-1.43-.59-.52 0-1.04.2-1.43.59L10.3 9.45l-7.72 7.72c-.78.78-.78 2.05 0 2.83L4 21.41c.39.39.9.59 1.41.59.51 0 1.02-.2 1.41-.59l7.78-7.78 2.81-2.81c.8-.78.8-2.07 0-2.86zM5.41 20L4 18.59l7.72-7.72 1.47 1.35L5.41 20z\"/>\n",
              "  </svg>\n",
              "      </button>\n",
              "      \n",
              "  <style>\n",
              "    .colab-df-container {\n",
              "      display:flex;\n",
              "      flex-wrap:wrap;\n",
              "      gap: 12px;\n",
              "    }\n",
              "\n",
              "    .colab-df-convert {\n",
              "      background-color: #E8F0FE;\n",
              "      border: none;\n",
              "      border-radius: 50%;\n",
              "      cursor: pointer;\n",
              "      display: none;\n",
              "      fill: #1967D2;\n",
              "      height: 32px;\n",
              "      padding: 0 0 0 0;\n",
              "      width: 32px;\n",
              "    }\n",
              "\n",
              "    .colab-df-convert:hover {\n",
              "      background-color: #E2EBFA;\n",
              "      box-shadow: 0px 1px 2px rgba(60, 64, 67, 0.3), 0px 1px 3px 1px rgba(60, 64, 67, 0.15);\n",
              "      fill: #174EA6;\n",
              "    }\n",
              "\n",
              "    [theme=dark] .colab-df-convert {\n",
              "      background-color: #3B4455;\n",
              "      fill: #D2E3FC;\n",
              "    }\n",
              "\n",
              "    [theme=dark] .colab-df-convert:hover {\n",
              "      background-color: #434B5C;\n",
              "      box-shadow: 0px 1px 3px 1px rgba(0, 0, 0, 0.15);\n",
              "      filter: drop-shadow(0px 1px 2px rgba(0, 0, 0, 0.3));\n",
              "      fill: #FFFFFF;\n",
              "    }\n",
              "  </style>\n",
              "\n",
              "      <script>\n",
              "        const buttonEl =\n",
              "          document.querySelector('#df-e1c3e54d-d1b8-4031-bc91-7aec0811df0d button.colab-df-convert');\n",
              "        buttonEl.style.display =\n",
              "          google.colab.kernel.accessAllowed ? 'block' : 'none';\n",
              "\n",
              "        async function convertToInteractive(key) {\n",
              "          const element = document.querySelector('#df-e1c3e54d-d1b8-4031-bc91-7aec0811df0d');\n",
              "          const dataTable =\n",
              "            await google.colab.kernel.invokeFunction('convertToInteractive',\n",
              "                                                     [key], {});\n",
              "          if (!dataTable) return;\n",
              "\n",
              "          const docLinkHtml = 'Like what you see? Visit the ' +\n",
              "            '<a target=\"_blank\" href=https://colab.research.google.com/notebooks/data_table.ipynb>data table notebook</a>'\n",
              "            + ' to learn more about interactive tables.';\n",
              "          element.innerHTML = '';\n",
              "          dataTable['output_type'] = 'display_data';\n",
              "          await google.colab.output.renderOutput(dataTable, element);\n",
              "          const docLink = document.createElement('div');\n",
              "          docLink.innerHTML = docLinkHtml;\n",
              "          element.appendChild(docLink);\n",
              "        }\n",
              "      </script>\n",
              "    </div>\n",
              "  </div>\n",
              "  "
            ],
            "text/plain": [
              "    assist  counts\n",
              "46     0.0       4\n",
              "21     0.1      18\n",
              "6      0.2      62\n",
              "2      0.3      79\n",
              "1      0.4      80\n",
              "..     ...     ...\n",
              "60     8.2       2\n",
              "59     8.3       2\n",
              "54     8.7       2\n",
              "69     9.3       1\n",
              "75    10.6       1\n",
              "\n",
              "[77 rows x 2 columns]"
            ]
          },
          "metadata": {},
          "execution_count": 17
        }
      ],
      "source": [
        "#oyuncuların asist skorlarını sıralar\n",
        "assist = oyuncular['ast'].value_counts().reset_index()\n",
        "assist.columns = ['assist', 'counts']\n",
        "assist = assist.sort_values('assist')\n",
        "assist"
      ]
    },
    {
      "cell_type": "code",
      "execution_count": null,
      "metadata": {
        "id": "vft4fhe98hAy",
        "colab": {
          "base_uri": "https://localhost:8080/",
          "height": 927
        },
        "outputId": "e2fb9559-4263-4035-bf11-4971e70c2288"
      },
      "outputs": [
        {
          "output_type": "execute_result",
          "data": {
            "text/html": [
              "\n",
              "  <div id=\"df-05b7db81-e952-4a9f-8444-36329c9b797b\">\n",
              "    <div class=\"colab-df-container\">\n",
              "      <div>\n",
              "<style scoped>\n",
              "    .dataframe tbody tr th:only-of-type {\n",
              "        vertical-align: middle;\n",
              "    }\n",
              "\n",
              "    .dataframe tbody tr th {\n",
              "        vertical-align: top;\n",
              "    }\n",
              "\n",
              "    .dataframe thead th {\n",
              "        text-align: right;\n",
              "    }\n",
              "</style>\n",
              "<table border=\"1\" class=\"dataframe\">\n",
              "  <thead>\n",
              "    <tr style=\"text-align: right;\">\n",
              "      <th></th>\n",
              "      <th>block</th>\n",
              "      <th>counts</th>\n",
              "    </tr>\n",
              "  </thead>\n",
              "  <tbody>\n",
              "    <tr>\n",
              "      <th>3</th>\n",
              "      <td>0.0</td>\n",
              "      <td>139</td>\n",
              "    </tr>\n",
              "    <tr>\n",
              "      <th>0</th>\n",
              "      <td>0.1</td>\n",
              "      <td>368</td>\n",
              "    </tr>\n",
              "    <tr>\n",
              "      <th>1</th>\n",
              "      <td>0.2</td>\n",
              "      <td>203</td>\n",
              "    </tr>\n",
              "    <tr>\n",
              "      <th>2</th>\n",
              "      <td>0.3</td>\n",
              "      <td>182</td>\n",
              "    </tr>\n",
              "    <tr>\n",
              "      <th>4</th>\n",
              "      <td>0.4</td>\n",
              "      <td>88</td>\n",
              "    </tr>\n",
              "    <tr>\n",
              "      <th>5</th>\n",
              "      <td>0.5</td>\n",
              "      <td>79</td>\n",
              "    </tr>\n",
              "    <tr>\n",
              "      <th>6</th>\n",
              "      <td>0.6</td>\n",
              "      <td>60</td>\n",
              "    </tr>\n",
              "    <tr>\n",
              "      <th>8</th>\n",
              "      <td>0.7</td>\n",
              "      <td>40</td>\n",
              "    </tr>\n",
              "    <tr>\n",
              "      <th>7</th>\n",
              "      <td>0.8</td>\n",
              "      <td>44</td>\n",
              "    </tr>\n",
              "    <tr>\n",
              "      <th>10</th>\n",
              "      <td>0.9</td>\n",
              "      <td>22</td>\n",
              "    </tr>\n",
              "    <tr>\n",
              "      <th>11</th>\n",
              "      <td>1.0</td>\n",
              "      <td>17</td>\n",
              "    </tr>\n",
              "    <tr>\n",
              "      <th>9</th>\n",
              "      <td>1.1</td>\n",
              "      <td>23</td>\n",
              "    </tr>\n",
              "    <tr>\n",
              "      <th>15</th>\n",
              "      <td>1.2</td>\n",
              "      <td>8</td>\n",
              "    </tr>\n",
              "    <tr>\n",
              "      <th>12</th>\n",
              "      <td>1.3</td>\n",
              "      <td>13</td>\n",
              "    </tr>\n",
              "    <tr>\n",
              "      <th>14</th>\n",
              "      <td>1.4</td>\n",
              "      <td>10</td>\n",
              "    </tr>\n",
              "    <tr>\n",
              "      <th>13</th>\n",
              "      <td>1.5</td>\n",
              "      <td>12</td>\n",
              "    </tr>\n",
              "    <tr>\n",
              "      <th>17</th>\n",
              "      <td>1.6</td>\n",
              "      <td>6</td>\n",
              "    </tr>\n",
              "    <tr>\n",
              "      <th>18</th>\n",
              "      <td>1.7</td>\n",
              "      <td>4</td>\n",
              "    </tr>\n",
              "    <tr>\n",
              "      <th>16</th>\n",
              "      <td>1.8</td>\n",
              "      <td>7</td>\n",
              "    </tr>\n",
              "    <tr>\n",
              "      <th>19</th>\n",
              "      <td>1.9</td>\n",
              "      <td>3</td>\n",
              "    </tr>\n",
              "    <tr>\n",
              "      <th>20</th>\n",
              "      <td>2.1</td>\n",
              "      <td>3</td>\n",
              "    </tr>\n",
              "    <tr>\n",
              "      <th>21</th>\n",
              "      <td>2.2</td>\n",
              "      <td>2</td>\n",
              "    </tr>\n",
              "    <tr>\n",
              "      <th>26</th>\n",
              "      <td>2.4</td>\n",
              "      <td>1</td>\n",
              "    </tr>\n",
              "    <tr>\n",
              "      <th>24</th>\n",
              "      <td>2.6</td>\n",
              "      <td>1</td>\n",
              "    </tr>\n",
              "    <tr>\n",
              "      <th>27</th>\n",
              "      <td>2.7</td>\n",
              "      <td>1</td>\n",
              "    </tr>\n",
              "    <tr>\n",
              "      <th>23</th>\n",
              "      <td>3.4</td>\n",
              "      <td>1</td>\n",
              "    </tr>\n",
              "    <tr>\n",
              "      <th>22</th>\n",
              "      <td>3.5</td>\n",
              "      <td>2</td>\n",
              "    </tr>\n",
              "    <tr>\n",
              "      <th>25</th>\n",
              "      <td>3.9</td>\n",
              "      <td>1</td>\n",
              "    </tr>\n",
              "  </tbody>\n",
              "</table>\n",
              "</div>\n",
              "      <button class=\"colab-df-convert\" onclick=\"convertToInteractive('df-05b7db81-e952-4a9f-8444-36329c9b797b')\"\n",
              "              title=\"Convert this dataframe to an interactive table.\"\n",
              "              style=\"display:none;\">\n",
              "        \n",
              "  <svg xmlns=\"http://www.w3.org/2000/svg\" height=\"24px\"viewBox=\"0 0 24 24\"\n",
              "       width=\"24px\">\n",
              "    <path d=\"M0 0h24v24H0V0z\" fill=\"none\"/>\n",
              "    <path d=\"M18.56 5.44l.94 2.06.94-2.06 2.06-.94-2.06-.94-.94-2.06-.94 2.06-2.06.94zm-11 1L8.5 8.5l.94-2.06 2.06-.94-2.06-.94L8.5 2.5l-.94 2.06-2.06.94zm10 10l.94 2.06.94-2.06 2.06-.94-2.06-.94-.94-2.06-.94 2.06-2.06.94z\"/><path d=\"M17.41 7.96l-1.37-1.37c-.4-.4-.92-.59-1.43-.59-.52 0-1.04.2-1.43.59L10.3 9.45l-7.72 7.72c-.78.78-.78 2.05 0 2.83L4 21.41c.39.39.9.59 1.41.59.51 0 1.02-.2 1.41-.59l7.78-7.78 2.81-2.81c.8-.78.8-2.07 0-2.86zM5.41 20L4 18.59l7.72-7.72 1.47 1.35L5.41 20z\"/>\n",
              "  </svg>\n",
              "      </button>\n",
              "      \n",
              "  <style>\n",
              "    .colab-df-container {\n",
              "      display:flex;\n",
              "      flex-wrap:wrap;\n",
              "      gap: 12px;\n",
              "    }\n",
              "\n",
              "    .colab-df-convert {\n",
              "      background-color: #E8F0FE;\n",
              "      border: none;\n",
              "      border-radius: 50%;\n",
              "      cursor: pointer;\n",
              "      display: none;\n",
              "      fill: #1967D2;\n",
              "      height: 32px;\n",
              "      padding: 0 0 0 0;\n",
              "      width: 32px;\n",
              "    }\n",
              "\n",
              "    .colab-df-convert:hover {\n",
              "      background-color: #E2EBFA;\n",
              "      box-shadow: 0px 1px 2px rgba(60, 64, 67, 0.3), 0px 1px 3px 1px rgba(60, 64, 67, 0.15);\n",
              "      fill: #174EA6;\n",
              "    }\n",
              "\n",
              "    [theme=dark] .colab-df-convert {\n",
              "      background-color: #3B4455;\n",
              "      fill: #D2E3FC;\n",
              "    }\n",
              "\n",
              "    [theme=dark] .colab-df-convert:hover {\n",
              "      background-color: #434B5C;\n",
              "      box-shadow: 0px 1px 3px 1px rgba(0, 0, 0, 0.15);\n",
              "      filter: drop-shadow(0px 1px 2px rgba(0, 0, 0, 0.3));\n",
              "      fill: #FFFFFF;\n",
              "    }\n",
              "  </style>\n",
              "\n",
              "      <script>\n",
              "        const buttonEl =\n",
              "          document.querySelector('#df-05b7db81-e952-4a9f-8444-36329c9b797b button.colab-df-convert');\n",
              "        buttonEl.style.display =\n",
              "          google.colab.kernel.accessAllowed ? 'block' : 'none';\n",
              "\n",
              "        async function convertToInteractive(key) {\n",
              "          const element = document.querySelector('#df-05b7db81-e952-4a9f-8444-36329c9b797b');\n",
              "          const dataTable =\n",
              "            await google.colab.kernel.invokeFunction('convertToInteractive',\n",
              "                                                     [key], {});\n",
              "          if (!dataTable) return;\n",
              "\n",
              "          const docLinkHtml = 'Like what you see? Visit the ' +\n",
              "            '<a target=\"_blank\" href=https://colab.research.google.com/notebooks/data_table.ipynb>data table notebook</a>'\n",
              "            + ' to learn more about interactive tables.';\n",
              "          element.innerHTML = '';\n",
              "          dataTable['output_type'] = 'display_data';\n",
              "          await google.colab.output.renderOutput(dataTable, element);\n",
              "          const docLink = document.createElement('div');\n",
              "          docLink.innerHTML = docLinkHtml;\n",
              "          element.appendChild(docLink);\n",
              "        }\n",
              "      </script>\n",
              "    </div>\n",
              "  </div>\n",
              "  "
            ],
            "text/plain": [
              "    block  counts\n",
              "3     0.0     139\n",
              "0     0.1     368\n",
              "1     0.2     203\n",
              "2     0.3     182\n",
              "4     0.4      88\n",
              "5     0.5      79\n",
              "6     0.6      60\n",
              "8     0.7      40\n",
              "7     0.8      44\n",
              "10    0.9      22\n",
              "11    1.0      17\n",
              "9     1.1      23\n",
              "15    1.2       8\n",
              "12    1.3      13\n",
              "14    1.4      10\n",
              "13    1.5      12\n",
              "17    1.6       6\n",
              "18    1.7       4\n",
              "16    1.8       7\n",
              "19    1.9       3\n",
              "20    2.1       3\n",
              "21    2.2       2\n",
              "26    2.4       1\n",
              "24    2.6       1\n",
              "27    2.7       1\n",
              "23    3.4       1\n",
              "22    3.5       2\n",
              "25    3.9       1"
            ]
          },
          "metadata": {},
          "execution_count": 18
        }
      ],
      "source": [
        "#oyuncuların blok skorlarını sıralar\n",
        "block = oyuncular['blk'].value_counts().reset_index()\n",
        "block.columns = ['block', 'counts']\n",
        "block = block.sort_values('block')\n",
        "block"
      ]
    },
    {
      "cell_type": "code",
      "execution_count": null,
      "metadata": {
        "id": "g9lLIASY8hJJ"
      },
      "outputs": [],
      "source": [
        "#oyuncuların defansif ribaount skorlarını sıralar\n",
        "deffensive_reb = oyuncular['dreb'].value_counts().reset_index()\n",
        "deffensive_reb.columns = ['dreb', 'counts']\n",
        "deffensive_reb = deffensive_reb.sort_values('dreb')"
      ]
    },
    {
      "cell_type": "code",
      "execution_count": null,
      "metadata": {
        "id": "LoWT0xJs8qMI",
        "colab": {
          "base_uri": "https://localhost:8080/",
          "height": 551
        },
        "outputId": "251b785c-2551-4cc3-b6cf-0adced41c69d"
      },
      "outputs": [
        {
          "output_type": "display_data",
          "data": {
            "image/png": "[encoded data removed]",
            "text/plain": [
              "<Figure size 1080x576 with 1 Axes>"
            ]
          },
          "metadata": {}
        }
      ],
      "source": [
        "fig4, ax4 = plt.subplots(figsize = (15, 8))\n",
        "ax4.plot(block.block, block.counts, color = 'orange', label = 'Blok')\n",
        "ax4.plot(deffensive_reb.dreb, deffensive_reb.counts, color = 'blue', label = 'Defansif Ribaund')\n",
        "ax4.plot(assist.assist, assist.counts, color = 'cyan', label = 'Asist')\n",
        "ax4.plot(steals.steal, steals.counts, color = 'red', label = 'Top Çalma')\n",
        "\n",
        "ax4.set_title('NBA oyuncularının yetenek ölçümü')\n",
        "ax4.legend()\n",
        "ax4.set_xlabel('Eylem yetenek Puanları')\n",
        "ax4.set_ylabel('Oyuncu sayısı')\n",
        "\n",
        "plt.show()"
      ]
    },
    {
      "cell_type": "code",
      "execution_count": null,
      "metadata": {
        "id": "pKMesJ7R8qPb",
        "colab": {
          "base_uri": "https://localhost:8080/"
        },
        "outputId": "64cf4883-d935-4ba0-f5c7-a7526bb137d5"
      },
      "outputs": [
        {
          "output_type": "execute_result",
          "data": {
            "text/plain": [
              "{'40-60': 187, '60-80': 907, '<40': 13, '>= 80': 233}"
            ]
          },
          "metadata": {},
          "execution_count": 21
        }
      ],
      "source": [
        "#Serbest atışları kırktan küçük olanlar,kırk ile altmış arasında olanlar, altmış ile seksen arasında olanlar ve seksenden büyük olanlar olarak ayırır\n",
        "free_throw = {}\n",
        "free_throw['>= 80'] = len([k for k in oyuncular.ft if k >= 80])\n",
        "free_throw['60-80'] = len([k for k in oyuncular.ft if (k>=60) & (k < 80)])\n",
        "free_throw['40-60'] = len([k for k in oyuncular.ft if (k>=40) & (k<60)])\n",
        "free_throw['<40'] = len([k for k in oyuncular.ft if (k<40)])\n",
        "\n",
        "free_throw"
      ]
    },
    {
      "cell_type": "code",
      "execution_count": null,
      "metadata": {
        "id": "97GrppfN8qSv",
        "colab": {
          "base_uri": "https://localhost:8080/",
          "height": 551
        },
        "outputId": "c69ecaf4-518f-4ba2-8bf4-7d98d823a9e3"
      },
      "outputs": [
        {
          "output_type": "display_data",
          "data": {
            "image/png": "[encoded data removed]",
            "text/plain": [
              "<Figure size 1080x576 with 2 Axes>"
            ]
          },
          "metadata": {}
        }
      ],
      "source": [
        "plt.style.use('seaborn-white')\n",
        "plt.figure(figsize = (15, 8))\n",
        "ax5 = plt.axes()\n",
        "ax6 = plt.axes([0.2, 0.5, 0.2, 0.3])\n",
        "\n",
        "colors = ['#66FFFF', '#FFFF33', '#FF7733', '#FF00FF']\n",
        "\n",
        "ax5.hist(x = oyuncular.ft,\n",
        "         bins = range(0, 110, 10), ec = 'black')\n",
        "ax5.set_xlabel('Yüzde (%)')\n",
        "ax5.set_title('NBA oyuncularının başarılı serbest atış oranları')\n",
        "\n",
        "\n",
        "ax6.pie(list(free_throw.values()),\n",
        "        labels = list(free_throw.keys()),\n",
        "        colors = colors,\n",
        "        explode = (0.15, 0, 0.15, 0.2),\n",
        "        radius = 1.5, shadow = True)\n",
        "\n",
        "plt.show()"
      ]
    },
    {
      "cell_type": "code",
      "execution_count": null,
      "metadata": {
        "id": "ZBOlnoIf8qXJ",
        "colab": {
          "base_uri": "https://localhost:8080/"
        },
        "outputId": "b507a8cd-d30f-4535-f720-540013e9d8a3"
      },
      "outputs": [
        {
          "output_type": "execute_result",
          "data": {
            "text/plain": [
              "count    1340.000000\n",
              "mean     1150.204478\n",
              "std       747.382409\n",
              "min        43.400000\n",
              "25%       525.150000\n",
              "50%       988.450000\n",
              "75%      1636.050000\n",
              "max      3247.200000\n",
              "Name: Toplam_dakikalar, dtype: float64"
            ]
          },
          "metadata": {},
          "execution_count": 23
        }
      ],
      "source": [
        "toplam_dakikalar = oyuncular.Toplam_dakikalar\n",
        "toplam_dakikalar.describe()"
      ]
    },
    {
      "cell_type": "code",
      "execution_count": null,
      "metadata": {
        "id": "VI4MjhzA80jH",
        "colab": {
          "base_uri": "https://localhost:8080/"
        },
        "outputId": "4fa77031-c7f0-4397-ce80-ceef0800ce0e"
      },
      "outputs": [
        {
          "output_type": "execute_result",
          "data": {
            "text/plain": [
              "0.36"
            ]
          },
          "metadata": {},
          "execution_count": 24
        }
      ],
      "source": [
        "def get_average_target(a, b):\n",
        "    df = oyuncular[(oyuncular.Toplam_dakikalar >= a) & (oyuncular.Toplam_dakikalar < b)]\n",
        "    return round(np.mean(df.target_5yrs), 2)\n",
        "\n",
        "get_average_target(0,500)\n",
        "#2020 yılında 0 ile 500 dakika arasında oyunda kalmış oyuncuların gelecek beş yıl içinde ligde kalma ihtimali başarı oranı"
      ]
    },
    {
      "cell_type": "code",
      "execution_count": null,
      "metadata": {
        "id": "CAYSYSXv80nN",
        "colab": {
          "base_uri": "https://localhost:8080/",
          "height": 551
        },
        "outputId": "64e6469f-e6ea-482c-ed57-13eadfb4ecaf"
      },
      "outputs": [
        {
          "output_type": "display_data",
          "data": {
            "image/png": "[encoded data removed]",
            "text/plain": [
              "<Figure size 1080x576 with 2 Axes>"
            ]
          },
          "metadata": {}
        }
      ],
      "source": [
        "fig6, ax6 = plt.subplots(figsize = (15, 8))\n",
        "bins = range(0, 4000, 500)\n",
        "x = range(250, 3500, 500)\n",
        "y = [get_average_target(bins[i], bins[i+1]) for i in range(len(bins)-1)]\n",
        "ax6.hist(toplam_dakikalar,\n",
        "         bins = bins,\n",
        "         alpha = 0.8,\n",
        "         ec = 'black')\n",
        "\n",
        "ax6_ = ax6.twinx()\n",
        "ax6_.plot(x, y, 'r-o')\n",
        "\n",
        "ax6.set_xlabel('NBA oyuncularının toplam oyun süreleri')\n",
        "ax6.set_title('Toplam oyun süresi ile uzun kariyer arsındaki bağıntı')\n",
        "\n",
        "ax6.set_ylabel('Değerler', color = 'blue')\n",
        "ax6_.set_ylabel('Oran (/1)', color = 'red')\n",
        "\n",
        "ax6.tick_params(axis = 'y', colors = 'blue')\n",
        "ax6_.tick_params(axis = 'y', colors = 'red')"
      ]
    },
    {
      "cell_type": "markdown",
      "metadata": {
        "id": "pGFsOzoj9NfF"
      },
      "source": [
        "# **Veri setinin öğrenmeye uygun hale getirilmesi**"
      ]
    },
    {
      "cell_type": "code",
      "source": [
        "uploaded = files.upload()"
      ],
      "metadata": {
        "colab": {
          "resources": {
            "http://localhost:8080/nbextensions/google.colab/files.js": {
              "data": "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",
              "ok": true,
              "headers": [
                [
                  "content-type",
                  "application/javascript"
                ]
              ],
              "status": 200,
              "status_text": ""
            }
          },
          "base_uri": "https://localhost:8080/",
          "height": 73
        },
        "id": "OcFQFbBn97mK",
        "outputId": "bb4f9a85-de43-4037-a18b-ec7d11f646ae"
      },
      "execution_count": null,
      "outputs": [
        {
          "output_type": "display_data",
          "data": {
            "text/html": [
              "\n",
              "     <input type=\"file\" id=\"files-00c67408-ca41-45b6-8c39-346d1d228bda\" name=\"files[]\" multiple disabled\n",
              "        style=\"border:none\" />\n",
              "     <output id=\"result-00c67408-ca41-45b6-8c39-346d1d228bda\">\n",
              "      Upload widget is only available when the cell has been executed in the\n",
              "      current browser session. Please rerun this cell to enable.\n",
              "      </output>\n",
              "      <script src=\"/nbextensions/google.colab/files.js\"></script> "
            ],
            "text/plain": [
              "<IPython.core.display.HTML object>"
            ]
          },
          "metadata": {}
        },
        {
          "output_type": "stream",
          "name": "stdout",
          "text": [
            "Saving nba-players-son.csv to nba-players-son.csv\n"
          ]
        }
      ]
    },
    {
      "cell_type": "code",
      "source": [
        "df = pd.read_csv('nba-players-son.csv')\n",
        "df"
      ],
      "metadata": {
        "colab": {
          "base_uri": "https://localhost:8080/",
          "height": 423
        },
        "outputId": "0756258e-07dd-4e9e-be0c-ef91fd881b1c",
        "id": "ww6P866z_wF7"
      },
      "execution_count": null,
      "outputs": [
        {
          "output_type": "execute_result",
          "data": {
            "text/html": [
              "\n",
              "  <div id=\"df-c83741f0-dafa-425d-9817-3ec769adfe0a\">\n",
              "    <div class=\"colab-df-container\">\n",
              "      <div>\n",
              "<style scoped>\n",
              "    .dataframe tbody tr th:only-of-type {\n",
              "        vertical-align: middle;\n",
              "    }\n",
              "\n",
              "    .dataframe tbody tr th {\n",
              "        vertical-align: top;\n",
              "    }\n",
              "\n",
              "    .dataframe thead th {\n",
              "        text-align: right;\n",
              "    }\n",
              "</style>\n",
              "<table border=\"1\" class=\"dataframe\">\n",
              "  <thead>\n",
              "    <tr style=\"text-align: right;\">\n",
              "      <th></th>\n",
              "      <th>Unnamed: 0</th>\n",
              "      <th>name</th>\n",
              "      <th>gp</th>\n",
              "      <th>min</th>\n",
              "      <th>pts</th>\n",
              "      <th>fgm</th>\n",
              "      <th>fga</th>\n",
              "      <th>fg</th>\n",
              "      <th>3p_made</th>\n",
              "      <th>3pa</th>\n",
              "      <th>3p</th>\n",
              "      <th>ftm</th>\n",
              "      <th>fta</th>\n",
              "      <th>ft</th>\n",
              "      <th>oreb</th>\n",
              "      <th>dreb</th>\n",
              "      <th>reb</th>\n",
              "      <th>ast</th>\n",
              "      <th>stl</th>\n",
              "      <th>blk</th>\n",
              "      <th>tov</th>\n",
              "      <th>target_5yrs</th>\n",
              "    </tr>\n",
              "  </thead>\n",
              "  <tbody>\n",
              "    <tr>\n",
              "      <th>0</th>\n",
              "      <td>0</td>\n",
              "      <td>Brandon Ingram</td>\n",
              "      <td>36</td>\n",
              "      <td>27.4</td>\n",
              "      <td>7.4</td>\n",
              "      <td>2.6</td>\n",
              "      <td>7.6</td>\n",
              "      <td>34.7</td>\n",
              "      <td>0.5</td>\n",
              "      <td>2.1</td>\n",
              "      <td>25.0</td>\n",
              "      <td>1.6</td>\n",
              "      <td>2.3</td>\n",
              "      <td>69.9</td>\n",
              "      <td>0.7</td>\n",
              "      <td>3.4</td>\n",
              "      <td>4.1</td>\n",
              "      <td>1.9</td>\n",
              "      <td>0.4</td>\n",
              "      <td>0.4</td>\n",
              "      <td>1.3</td>\n",
              "      <td>0</td>\n",
              "    </tr>\n",
              "    <tr>\n",
              "      <th>1</th>\n",
              "      <td>1</td>\n",
              "      <td>Andrew Harrison</td>\n",
              "      <td>35</td>\n",
              "      <td>26.9</td>\n",
              "      <td>7.2</td>\n",
              "      <td>2.0</td>\n",
              "      <td>6.7</td>\n",
              "      <td>29.6</td>\n",
              "      <td>0.7</td>\n",
              "      <td>2.8</td>\n",
              "      <td>23.5</td>\n",
              "      <td>2.6</td>\n",
              "      <td>3.4</td>\n",
              "      <td>76.5</td>\n",
              "      <td>0.5</td>\n",
              "      <td>2.0</td>\n",
              "      <td>2.4</td>\n",
              "      <td>3.7</td>\n",
              "      <td>1.1</td>\n",
              "      <td>0.5</td>\n",
              "      <td>1.6</td>\n",
              "      <td>0</td>\n",
              "    </tr>\n",
              "    <tr>\n",
              "      <th>2</th>\n",
              "      <td>2</td>\n",
              "      <td>JaKarr Sampson</td>\n",
              "      <td>74</td>\n",
              "      <td>15.3</td>\n",
              "      <td>5.2</td>\n",
              "      <td>2.0</td>\n",
              "      <td>4.7</td>\n",
              "      <td>42.2</td>\n",
              "      <td>0.4</td>\n",
              "      <td>1.7</td>\n",
              "      <td>24.4</td>\n",
              "      <td>0.9</td>\n",
              "      <td>1.3</td>\n",
              "      <td>67.0</td>\n",
              "      <td>0.5</td>\n",
              "      <td>1.7</td>\n",
              "      <td>2.2</td>\n",
              "      <td>1.0</td>\n",
              "      <td>0.5</td>\n",
              "      <td>0.3</td>\n",
              "      <td>1.0</td>\n",
              "      <td>0</td>\n",
              "    </tr>\n",
              "    <tr>\n",
              "      <th>3</th>\n",
              "      <td>3</td>\n",
              "      <td>Malik Sealy</td>\n",
              "      <td>58</td>\n",
              "      <td>11.6</td>\n",
              "      <td>5.7</td>\n",
              "      <td>2.3</td>\n",
              "      <td>5.5</td>\n",
              "      <td>42.6</td>\n",
              "      <td>0.1</td>\n",
              "      <td>0.5</td>\n",
              "      <td>22.6</td>\n",
              "      <td>0.9</td>\n",
              "      <td>1.3</td>\n",
              "      <td>68.9</td>\n",
              "      <td>1.0</td>\n",
              "      <td>0.9</td>\n",
              "      <td>1.9</td>\n",
              "      <td>0.8</td>\n",
              "      <td>0.6</td>\n",
              "      <td>0.1</td>\n",
              "      <td>1.0</td>\n",
              "      <td>1</td>\n",
              "    </tr>\n",
              "    <tr>\n",
              "      <th>4</th>\n",
              "      <td>4</td>\n",
              "      <td>Matt Geiger</td>\n",
              "      <td>48</td>\n",
              "      <td>11.5</td>\n",
              "      <td>4.5</td>\n",
              "      <td>1.6</td>\n",
              "      <td>3.0</td>\n",
              "      <td>52.4</td>\n",
              "      <td>0.0</td>\n",
              "      <td>0.1</td>\n",
              "      <td>0.0</td>\n",
              "      <td>1.3</td>\n",
              "      <td>1.9</td>\n",
              "      <td>67.4</td>\n",
              "      <td>1.0</td>\n",
              "      <td>1.5</td>\n",
              "      <td>2.5</td>\n",
              "      <td>0.3</td>\n",
              "      <td>0.3</td>\n",
              "      <td>0.4</td>\n",
              "      <td>0.8</td>\n",
              "      <td>1</td>\n",
              "    </tr>\n",
              "    <tr>\n",
              "      <th>...</th>\n",
              "      <td>...</td>\n",
              "      <td>...</td>\n",
              "      <td>...</td>\n",
              "      <td>...</td>\n",
              "      <td>...</td>\n",
              "      <td>...</td>\n",
              "      <td>...</td>\n",
              "      <td>...</td>\n",
              "      <td>...</td>\n",
              "      <td>...</td>\n",
              "      <td>...</td>\n",
              "      <td>...</td>\n",
              "      <td>...</td>\n",
              "      <td>...</td>\n",
              "      <td>...</td>\n",
              "      <td>...</td>\n",
              "      <td>...</td>\n",
              "      <td>...</td>\n",
              "      <td>...</td>\n",
              "      <td>...</td>\n",
              "      <td>...</td>\n",
              "      <td>...</td>\n",
              "    </tr>\n",
              "    <tr>\n",
              "      <th>1288</th>\n",
              "      <td>1335</td>\n",
              "      <td>Chris Smith</td>\n",
              "      <td>80</td>\n",
              "      <td>15.8</td>\n",
              "      <td>4.3</td>\n",
              "      <td>1.6</td>\n",
              "      <td>3.6</td>\n",
              "      <td>43.3</td>\n",
              "      <td>0.0</td>\n",
              "      <td>0.2</td>\n",
              "      <td>14.3</td>\n",
              "      <td>1.2</td>\n",
              "      <td>1.5</td>\n",
              "      <td>79.2</td>\n",
              "      <td>0.4</td>\n",
              "      <td>0.8</td>\n",
              "      <td>1.2</td>\n",
              "      <td>2.5</td>\n",
              "      <td>0.6</td>\n",
              "      <td>0.2</td>\n",
              "      <td>0.8</td>\n",
              "      <td>0</td>\n",
              "    </tr>\n",
              "    <tr>\n",
              "      <th>1289</th>\n",
              "      <td>1336</td>\n",
              "      <td>Brent Price</td>\n",
              "      <td>68</td>\n",
              "      <td>12.6</td>\n",
              "      <td>3.9</td>\n",
              "      <td>1.5</td>\n",
              "      <td>4.1</td>\n",
              "      <td>35.8</td>\n",
              "      <td>0.1</td>\n",
              "      <td>0.7</td>\n",
              "      <td>16.7</td>\n",
              "      <td>0.8</td>\n",
              "      <td>1.0</td>\n",
              "      <td>79.4</td>\n",
              "      <td>0.4</td>\n",
              "      <td>1.1</td>\n",
              "      <td>1.5</td>\n",
              "      <td>2.3</td>\n",
              "      <td>0.8</td>\n",
              "      <td>0.0</td>\n",
              "      <td>1.3</td>\n",
              "      <td>1</td>\n",
              "    </tr>\n",
              "    <tr>\n",
              "      <th>1290</th>\n",
              "      <td>1337</td>\n",
              "      <td>Marlon Maxey</td>\n",
              "      <td>43</td>\n",
              "      <td>12.1</td>\n",
              "      <td>5.4</td>\n",
              "      <td>2.2</td>\n",
              "      <td>3.9</td>\n",
              "      <td>55.0</td>\n",
              "      <td>0.0</td>\n",
              "      <td>0.0</td>\n",
              "      <td>0.0</td>\n",
              "      <td>1.0</td>\n",
              "      <td>1.6</td>\n",
              "      <td>64.3</td>\n",
              "      <td>1.5</td>\n",
              "      <td>2.3</td>\n",
              "      <td>3.8</td>\n",
              "      <td>0.3</td>\n",
              "      <td>0.3</td>\n",
              "      <td>0.4</td>\n",
              "      <td>0.9</td>\n",
              "      <td>0</td>\n",
              "    </tr>\n",
              "    <tr>\n",
              "      <th>1291</th>\n",
              "      <td>1338</td>\n",
              "      <td>Litterial Green</td>\n",
              "      <td>52</td>\n",
              "      <td>12.0</td>\n",
              "      <td>4.5</td>\n",
              "      <td>1.7</td>\n",
              "      <td>3.8</td>\n",
              "      <td>43.9</td>\n",
              "      <td>0.0</td>\n",
              "      <td>0.2</td>\n",
              "      <td>10.0</td>\n",
              "      <td>1.2</td>\n",
              "      <td>1.8</td>\n",
              "      <td>62.5</td>\n",
              "      <td>0.2</td>\n",
              "      <td>0.4</td>\n",
              "      <td>0.7</td>\n",
              "      <td>2.2</td>\n",
              "      <td>0.4</td>\n",
              "      <td>0.1</td>\n",
              "      <td>0.8</td>\n",
              "      <td>1</td>\n",
              "    </tr>\n",
              "    <tr>\n",
              "      <th>1292</th>\n",
              "      <td>1339</td>\n",
              "      <td>Jon Barry</td>\n",
              "      <td>47</td>\n",
              "      <td>11.7</td>\n",
              "      <td>4.4</td>\n",
              "      <td>1.6</td>\n",
              "      <td>4.4</td>\n",
              "      <td>36.9</td>\n",
              "      <td>0.4</td>\n",
              "      <td>1.3</td>\n",
              "      <td>33.3</td>\n",
              "      <td>0.7</td>\n",
              "      <td>1.0</td>\n",
              "      <td>67.3</td>\n",
              "      <td>0.2</td>\n",
              "      <td>0.7</td>\n",
              "      <td>0.9</td>\n",
              "      <td>1.4</td>\n",
              "      <td>0.7</td>\n",
              "      <td>0.1</td>\n",
              "      <td>0.9</td>\n",
              "      <td>1</td>\n",
              "    </tr>\n",
              "  </tbody>\n",
              "</table>\n",
              "<p>1293 rows × 22 columns</p>\n",
              "</div>\n",
              "      <button class=\"colab-df-convert\" onclick=\"convertToInteractive('df-c83741f0-dafa-425d-9817-3ec769adfe0a')\"\n",
              "              title=\"Convert this dataframe to an interactive table.\"\n",
              "              style=\"display:none;\">\n",
              "        \n",
              "  <svg xmlns=\"http://www.w3.org/2000/svg\" height=\"24px\"viewBox=\"0 0 24 24\"\n",
              "       width=\"24px\">\n",
              "    <path d=\"M0 0h24v24H0V0z\" fill=\"none\"/>\n",
              "    <path d=\"M18.56 5.44l.94 2.06.94-2.06 2.06-.94-2.06-.94-.94-2.06-.94 2.06-2.06.94zm-11 1L8.5 8.5l.94-2.06 2.06-.94-2.06-.94L8.5 2.5l-.94 2.06-2.06.94zm10 10l.94 2.06.94-2.06 2.06-.94-2.06-.94-.94-2.06-.94 2.06-2.06.94z\"/><path d=\"M17.41 7.96l-1.37-1.37c-.4-.4-.92-.59-1.43-.59-.52 0-1.04.2-1.43.59L10.3 9.45l-7.72 7.72c-.78.78-.78 2.05 0 2.83L4 21.41c.39.39.9.59 1.41.59.51 0 1.02-.2 1.41-.59l7.78-7.78 2.81-2.81c.8-.78.8-2.07 0-2.86zM5.41 20L4 18.59l7.72-7.72 1.47 1.35L5.41 20z\"/>\n",
              "  </svg>\n",
              "      </button>\n",
              "      \n",
              "  <style>\n",
              "    .colab-df-container {\n",
              "      display:flex;\n",
              "      flex-wrap:wrap;\n",
              "      gap: 12px;\n",
              "    }\n",
              "\n",
              "    .colab-df-convert {\n",
              "      background-color: #E8F0FE;\n",
              "      border: none;\n",
              "      border-radius: 50%;\n",
              "      cursor: pointer;\n",
              "      display: none;\n",
              "      fill: #1967D2;\n",
              "      height: 32px;\n",
              "      padding: 0 0 0 0;\n",
              "      width: 32px;\n",
              "    }\n",
              "\n",
              "    .colab-df-convert:hover {\n",
              "      background-color: #E2EBFA;\n",
              "      box-shadow: 0px 1px 2px rgba(60, 64, 67, 0.3), 0px 1px 3px 1px rgba(60, 64, 67, 0.15);\n",
              "      fill: #174EA6;\n",
              "    }\n",
              "\n",
              "    [theme=dark] .colab-df-convert {\n",
              "      background-color: #3B4455;\n",
              "      fill: #D2E3FC;\n",
              "    }\n",
              "\n",
              "    [theme=dark] .colab-df-convert:hover {\n",
              "      background-color: #434B5C;\n",
              "      box-shadow: 0px 1px 3px 1px rgba(0, 0, 0, 0.15);\n",
              "      filter: drop-shadow(0px 1px 2px rgba(0, 0, 0, 0.3));\n",
              "      fill: #FFFFFF;\n",
              "    }\n",
              "  </style>\n",
              "\n",
              "      <script>\n",
              "        const buttonEl =\n",
              "          document.querySelector('#df-c83741f0-dafa-425d-9817-3ec769adfe0a button.colab-df-convert');\n",
              "        buttonEl.style.display =\n",
              "          google.colab.kernel.accessAllowed ? 'block' : 'none';\n",
              "\n",
              "        async function convertToInteractive(key) {\n",
              "          const element = document.querySelector('#df-c83741f0-dafa-425d-9817-3ec769adfe0a');\n",
              "          const dataTable =\n",
              "            await google.colab.kernel.invokeFunction('convertToInteractive',\n",
              "                                                     [key], {});\n",
              "          if (!dataTable) return;\n",
              "\n",
              "          const docLinkHtml = 'Like what you see? Visit the ' +\n",
              "            '<a target=\"_blank\" href=https://colab.research.google.com/notebooks/data_table.ipynb>data table notebook</a>'\n",
              "            + ' to learn more about interactive tables.';\n",
              "          element.innerHTML = '';\n",
              "          dataTable['output_type'] = 'display_data';\n",
              "          await google.colab.output.renderOutput(dataTable, element);\n",
              "          const docLink = document.createElement('div');\n",
              "          docLink.innerHTML = docLinkHtml;\n",
              "          element.appendChild(docLink);\n",
              "        }\n",
              "      </script>\n",
              "    </div>\n",
              "  </div>\n",
              "  "
            ],
            "text/plain": [
              "      Unnamed: 0             name  gp   min  ...  stl  blk  tov  target_5yrs\n",
              "0              0   Brandon Ingram  36  27.4  ...  0.4  0.4  1.3            0\n",
              "1              1  Andrew Harrison  35  26.9  ...  1.1  0.5  1.6            0\n",
              "2              2   JaKarr Sampson  74  15.3  ...  0.5  0.3  1.0            0\n",
              "3              3      Malik Sealy  58  11.6  ...  0.6  0.1  1.0            1\n",
              "4              4      Matt Geiger  48  11.5  ...  0.3  0.4  0.8            1\n",
              "...          ...              ...  ..   ...  ...  ...  ...  ...          ...\n",
              "1288        1335      Chris Smith  80  15.8  ...  0.6  0.2  0.8            0\n",
              "1289        1336      Brent Price  68  12.6  ...  0.8  0.0  1.3            1\n",
              "1290        1337     Marlon Maxey  43  12.1  ...  0.3  0.4  0.9            0\n",
              "1291        1338  Litterial Green  52  12.0  ...  0.4  0.1  0.8            1\n",
              "1292        1339        Jon Barry  47  11.7  ...  0.7  0.1  0.9            1\n",
              "\n",
              "[1293 rows x 22 columns]"
            ]
          },
          "metadata": {},
          "execution_count": 27
        }
      ]
    },
    {
      "cell_type": "code",
      "execution_count": null,
      "metadata": {
        "id": "vwqC1HPC9750",
        "colab": {
          "base_uri": "https://localhost:8080/"
        },
        "outputId": "50b2bc56-f7ed-463e-837b-916b43176cdf"
      },
      "outputs": [
        {
          "output_type": "stream",
          "name": "stdout",
          "text": [
            "<class 'pandas.core.frame.DataFrame'>\n",
            "RangeIndex: 1293 entries, 0 to 1292\n",
            "Data columns (total 22 columns):\n",
            " #   Column       Non-Null Count  Dtype  \n",
            "---  ------       --------------  -----  \n",
            " 0   Unnamed: 0   1293 non-null   int64  \n",
            " 1   name         1293 non-null   object \n",
            " 2   gp           1293 non-null   int64  \n",
            " 3   min          1293 non-null   float64\n",
            " 4   pts          1293 non-null   float64\n",
            " 5   fgm          1293 non-null   float64\n",
            " 6   fga          1293 non-null   float64\n",
            " 7   fg           1293 non-null   float64\n",
            " 8   3p_made      1293 non-null   float64\n",
            " 9   3pa          1293 non-null   float64\n",
            " 10  3p           1293 non-null   float64\n",
            " 11  ftm          1293 non-null   float64\n",
            " 12  fta          1293 non-null   float64\n",
            " 13  ft           1293 non-null   float64\n",
            " 14  oreb         1293 non-null   float64\n",
            " 15  dreb         1293 non-null   float64\n",
            " 16  reb          1293 non-null   float64\n",
            " 17  ast          1293 non-null   float64\n",
            " 18  stl          1293 non-null   float64\n",
            " 19  blk          1293 non-null   float64\n",
            " 20  tov          1293 non-null   float64\n",
            " 21  target_5yrs  1293 non-null   int64  \n",
            "dtypes: float64(18), int64(3), object(1)\n",
            "memory usage: 222.4+ KB\n"
          ]
        }
      ],
      "source": [
        "df.info()"
      ]
    },
    {
      "cell_type": "code",
      "execution_count": null,
      "metadata": {
        "id": "-koMkUSx97-k",
        "colab": {
          "base_uri": "https://localhost:8080/"
        },
        "outputId": "3a06d64e-aa1e-45a3-de45-e0807f73d415"
      },
      "outputs": [
        {
          "output_type": "stream",
          "name": "stdout",
          "text": [
            "(807, 22) (486, 22) (1293, 22)\n"
          ]
        }
      ],
      "source": [
        "beşyıl_ligde=df[df['target_5yrs']==1]\n",
        "beşyıl_değil=df[df['target_5yrs']==0]\n",
        "print(beşyıl_ligde.shape,beşyıl_değil.shape,df.shape)"
      ]
    },
    {
      "cell_type": "code",
      "execution_count": null,
      "metadata": {
        "id": "1kDyh22xCF8c",
        "colab": {
          "base_uri": "https://localhost:8080/"
        },
        "outputId": "261f3031-b347-46af-d553-20764d966c4a"
      },
      "outputs": [
        {
          "output_type": "stream",
          "name": "stdout",
          "text": [
            "[[0.35211268 0.64285714 0.24363636 ... 0.16       0.1025641  0.27906977]\n",
            " [0.33802817 0.62962963 0.23636364 ... 0.44       0.12820513 0.34883721]\n",
            " [0.88732394 0.32275132 0.16363636 ... 0.2        0.07692308 0.20930233]\n",
            " ...\n",
            " [0.45070423 0.23809524 0.17090909 ... 0.12       0.1025641  0.18604651]\n",
            " [0.57746479 0.23544974 0.13818182 ... 0.16       0.02564103 0.1627907 ]\n",
            " [0.50704225 0.22751323 0.13454545 ... 0.28       0.02564103 0.18604651]]\n"
          ]
        }
      ],
      "source": [
        "from sklearn.preprocessing import MinMaxScaler\n",
        "x1 = df.drop(\"target_5yrs\", axis=1,)\n",
        "x1.drop([\"Unnamed: 0\",\"name\"], inplace=True, axis=1)\n",
        "#x.drop('name',inplace=True,axis=1)\n",
        "y = df['target_5yrs']\n",
        "scaler=MinMaxScaler()\n",
        "x=scaler.fit_transform(x1)\n",
        "print(x)\n",
        "#Veri setinden gereksiz olan sıra ve isim bilgisi içeren kolon çıkarıldı."
      ]
    },
    {
      "cell_type": "code",
      "execution_count": null,
      "metadata": {
        "id": "4jsXTGS-CGFA",
        "colab": {
          "base_uri": "https://localhost:8080/"
        },
        "outputId": "7f86d656-6af6-47f8-fb27-a1bf1e021f73"
      },
      "outputs": [
        {
          "output_type": "stream",
          "name": "stdout",
          "text": [
            "(972, 19) (972,)\n"
          ]
        }
      ],
      "source": [
        "from imblearn.under_sampling import RandomUnderSampler\n",
        "\n",
        "rus=RandomUnderSampler(random_state=0)\n",
        "rusx_df,rusy_df=rus.fit_resample(x,y)\n",
        "print(rusx_df.shape,rusy_df.shape)"
      ]
    },
    {
      "cell_type": "code",
      "execution_count": null,
      "metadata": {
        "id": "e_jXJbo7CGIj",
        "colab": {
          "base_uri": "https://localhost:8080/"
        },
        "outputId": "478ac144-722a-4d5a-bd13-44de1ed9a0e6"
      },
      "outputs": [
        {
          "output_type": "stream",
          "name": "stdout",
          "text": [
            "[[0.35211268 0.64285714 0.24363636 ... 0.16       0.1025641  0.27906977]\n",
            " [0.33802817 0.62962963 0.23636364 ... 0.44       0.12820513 0.34883721]\n",
            " [0.88732394 0.32275132 0.16363636 ... 0.2        0.07692308 0.20930233]\n",
            " ...\n",
            " [0.81690141 0.31216931 0.22909091 ... 0.08       0.1025641  0.23255814]\n",
            " [0.95774648 0.57142857 0.28363636 ... 0.24       0.07692308 0.23255814]\n",
            " [1.         0.39153439 0.26909091 ... 0.36       0.02564103 0.25581395]]\n"
          ]
        }
      ],
      "source": [
        "print(rusx_df)"
      ]
    },
    {
      "cell_type": "code",
      "execution_count": null,
      "metadata": {
        "id": "apQIyiG_ZiBc"
      },
      "outputs": [],
      "source": [
        "from sklearn.model_selection import train_test_split\n",
        "from collections import Counter"
      ]
    },
    {
      "cell_type": "code",
      "execution_count": null,
      "metadata": {
        "id": "_UBz4KDuCGOD",
        "colab": {
          "base_uri": "https://localhost:8080/"
        },
        "outputId": "6fd4eeb8-4622-478c-a2cb-562eedecad94"
      },
      "outputs": [
        {
          "output_type": "stream",
          "name": "stdout",
          "text": [
            "Training target statistics: Counter({1: 393, 0: 384})\n",
            "Testing target statistics: Counter({0: 102, 1: 93})\n",
            "(777, 19) (195, 19) (777,) (195,)\n"
          ]
        }
      ],
      "source": [
        "#Rastgele aşağı örnekleme veri seti test ve eğitim olarak ayrıldı\n",
        "rusx_train, rusx_test, rusy_train, rusy_test = train_test_split(rusx_df, rusy_df, test_size=0.2, random_state=6)\n",
        "print(f\"Training target statistics: {Counter(rusy_train)}\")\n",
        "print(f\"Testing target statistics: {Counter(rusy_test)}\")\n",
        "print(rusx_train.shape,rusx_test.shape,rusy_train.shape,rusy_test.shape)"
      ]
    },
    {
      "cell_type": "code",
      "execution_count": null,
      "metadata": {
        "id": "WSajb-VWCQ8a",
        "colab": {
          "base_uri": "https://localhost:8080/"
        },
        "outputId": "f9a3f02c-93a7-4d31-af12-1f62a69f72aa"
      },
      "outputs": [
        {
          "output_type": "stream",
          "name": "stdout",
          "text": [
            "[[0.49295775 0.2010582  0.08       ... 0.16       0.02564103 0.1627907 ]\n",
            " [0.45070423 0.14550265 0.09818182 ... 0.16       0.02564103 0.20930233]\n",
            " [0.97183099 0.84391534 0.65454545 ... 0.4        0.25641026 0.62790698]\n",
            " ...\n",
            " [0.30985915 0.33068783 0.08363636 ... 0.16       0.02564103 0.13953488]\n",
            " [0.98591549 0.72486772 0.49454545 ... 0.72       0.02564103 0.6744186 ]\n",
            " [0.57746479 0.35978836 0.20363636 ... 0.12       0.17948718 0.11627907]]\n"
          ]
        }
      ],
      "source": [
        "print(rusx_train)"
      ]
    },
    {
      "cell_type": "code",
      "execution_count": null,
      "metadata": {
        "id": "96Ri-qKgCRLi",
        "colab": {
          "base_uri": "https://localhost:8080/"
        },
        "outputId": "c101cdcf-d5a1-476a-bdb4-5a1261c5b12e"
      },
      "outputs": [
        {
          "output_type": "stream",
          "name": "stdout",
          "text": [
            "Training target statistics: Counter({1: 642, 0: 392})\n",
            "Testing target statistics: Counter({1: 165, 0: 94})\n",
            "(1034, 19) (259, 19) (1034,) (259,)\n"
          ]
        }
      ],
      "source": [
        "#dengesiz veri test ve eğitim olarak ayırma işlemi\n",
        "densizx_train, densizx_test, densizy_train, densizy_test = train_test_split(x, y, test_size=0.2, random_state=0)\n",
        "print(f\"Training target statistics: {Counter(densizy_train)}\")\n",
        "print(f\"Testing target statistics: {Counter(densizy_test)}\")\n",
        "print(densizx_train.shape,densizx_test.shape,densizy_train.shape,densizy_test.shape)\n",
        "# 1 ve 0 oranları bozulmadan bir bölme işlemi sağlandı"
      ]
    },
    {
      "cell_type": "code",
      "execution_count": null,
      "metadata": {
        "id": "CFX9edUbCRTj",
        "colab": {
          "base_uri": "https://localhost:8080/"
        },
        "outputId": "bbd76a57-c2cb-4973-c014-601b54931290"
      },
      "outputs": [
        {
          "output_type": "stream",
          "name": "stdout",
          "text": [
            "Testing target statistics: Counter({0: 807, 1: 807})\n",
            "(1614, 19) (1614,)\n"
          ]
        }
      ],
      "source": [
        "from imblearn.over_sampling import SMOTE\n",
        "smote = SMOTE(random_state=4)\n",
        "smox_df,smoy_df=smote.fit_resample(x,y)\n",
        "#print(f\"Training target statistics: {Counter(smox_df)}\")\n",
        "print(f\"Testing target statistics: {Counter(smoy_df)}\")\n",
        "print(smox_df.shape,smoy_df.shape)"
      ]
    },
    {
      "cell_type": "code",
      "execution_count": null,
      "metadata": {
        "id": "xhtHIXWiCRWs",
        "colab": {
          "base_uri": "https://localhost:8080/"
        },
        "outputId": "6afbb527-106a-4b49-fdcc-fdd3d60833da"
      },
      "outputs": [
        {
          "output_type": "stream",
          "name": "stdout",
          "text": [
            "Training target statistics: Counter({1: 659, 0: 632})\n",
            "Testing target statistics: Counter({0: 175, 1: 148})\n",
            "(1291, 19) (323, 19) (1291,) (323,)\n"
          ]
        }
      ],
      "source": [
        "smox_train, smox_test, smoy_train, smoy_test = train_test_split(smox_df,smoy_df, test_size=0.2, random_state=5)\n",
        "print(f\"Training target statistics: {Counter(smoy_train)}\")\n",
        "print(f\"Testing target statistics: {Counter(smoy_test)}\")\n",
        "print(smox_train.shape,smox_test.shape,smoy_train.shape,smoy_test.shape)"
      ]
    },
    {
      "cell_type": "markdown",
      "metadata": {
        "id": "ytplyBDFSi08"
      },
      "source": [
        "# **Gradient Boosting**\n"
      ]
    },
    {
      "cell_type": "markdown",
      "metadata": {
        "id": "JLV73KDaTd8Q"
      },
      "source": [
        "**Modelin tanımlanması:**"
      ]
    },
    {
      "cell_type": "code",
      "execution_count": null,
      "metadata": {
        "id": "-vBwBgvvThDp"
      },
      "outputs": [],
      "source": [
        "from sklearn.ensemble import GradientBoostingClassifier\n",
        "gb = GradientBoostingClassifier()"
      ]
    },
    {
      "cell_type": "code",
      "execution_count": null,
      "metadata": {
        "id": "Wy6sae_sXXSO"
      },
      "outputs": [],
      "source": [
        "from sklearn.metrics import classification_report\n",
        "from sklearn.metrics import confusion_matrix\n",
        "\n",
        "def ml_alg(X_train, y_train, X_test, y_test, ml, gS):\n",
        "  ml.fit(X_train,y_train)\n",
        "  y_pred = ml.predict(X_test)\n",
        "  acc_test_train = np.array([ml.score(X_test,y_test),ml.score(X_train,y_train)])\n",
        "  print(\"Karışıklık matrisi:\\n\",confusion_matrix(y_test, y_pred))\n",
        "  print(\"\\nSınıflandırma raporu:\\n\",classification_report(y_test, y_pred))\n",
        "  if(gS == 1):\n",
        "    print(\"En iyi parametreler: %s\\n\" %ml.best_params_)\n",
        "  return acc_test_train"
      ]
    },
    {
      "cell_type": "markdown",
      "metadata": {
        "id": "Or2jbpwhXNn6"
      },
      "source": [
        "**Dengesiz veri seti ile eğitilmesi ve sonuçlar:**"
      ]
    },
    {
      "cell_type": "code",
      "execution_count": null,
      "metadata": {
        "id": "LHT9xsCGT2Us",
        "colab": {
          "base_uri": "https://localhost:8080/"
        },
        "outputId": "a8fe063d-61e8-4d5e-f42e-83826683576c"
      },
      "outputs": [
        {
          "output_type": "stream",
          "name": "stdout",
          "text": [
            "Karışıklık matrisi:\n",
            " [[ 51  43]\n",
            " [ 40 125]]\n",
            "\n",
            "Sınıflandırma raporu:\n",
            "               precision    recall  f1-score   support\n",
            "\n",
            "           0       0.56      0.54      0.55        94\n",
            "           1       0.74      0.76      0.75       165\n",
            "\n",
            "    accuracy                           0.68       259\n",
            "   macro avg       0.65      0.65      0.65       259\n",
            "weighted avg       0.68      0.68      0.68       259\n",
            "\n",
            "Dengesiz test kümesinin başarı oranı:  0.6795366795366795\n",
            "Dengesiz train kümesinin başarı oranı:  0.874274661508704\n"
          ]
        }
      ],
      "source": [
        "unb =  ml_alg(densizx_train, densizy_train, densizx_test, densizy_test, gb, 0)\n",
        "#unb =  ml_alg(X_train, y_train, X_test, y_test, gb, 0)\n",
        "print(\"Dengesiz test kümesinin başarı oranı: \",unb[0])\n",
        "print(\"Dengesiz train kümesinin başarı oranı: \",unb[1])"
      ]
    },
    {
      "cell_type": "markdown",
      "metadata": {
        "id": "RfaXSKKVam6b"
      },
      "source": [
        "**Random Unsampling uygulanmış veri seti ile eğitim ve test:**"
      ]
    },
    {
      "cell_type": "code",
      "execution_count": null,
      "metadata": {
        "id": "Es9L1me7a738",
        "colab": {
          "base_uri": "https://localhost:8080/"
        },
        "outputId": "85fc0d08-1f0b-4889-ae36-1881763ecb83"
      },
      "outputs": [
        {
          "output_type": "stream",
          "name": "stdout",
          "text": [
            "Karışıklık matrisi:\n",
            " [[74 28]\n",
            " [30 63]]\n",
            "\n",
            "Sınıflandırma raporu:\n",
            "               precision    recall  f1-score   support\n",
            "\n",
            "           0       0.71      0.73      0.72       102\n",
            "           1       0.69      0.68      0.68        93\n",
            "\n",
            "    accuracy                           0.70       195\n",
            "   macro avg       0.70      0.70      0.70       195\n",
            "weighted avg       0.70      0.70      0.70       195\n",
            "\n",
            "Dengeli(Random Unsampling) test kümesinin başarı oranı:  0.7025641025641025\n",
            "Dengeli(Random Unsampling) train kümesinin başarı oranı:  0.8867438867438867\n"
          ]
        }
      ],
      "source": [
        "ru = ml_alg(rusx_train, rusy_train, rusx_test, rusy_test, gb, 0)\n",
        "#ru = ml_alg(Xr_train, yr_train, Xr_test, yr_test, gb, 0)\n",
        "\n",
        "print(\"Dengeli(Random Unsampling) test kümesinin başarı oranı: \",ru[0])\n",
        "print(\"Dengeli(Random Unsampling) train kümesinin başarı oranı: \",ru[1])"
      ]
    },
    {
      "cell_type": "markdown",
      "metadata": {
        "id": "Sfe-aqJSbMkf"
      },
      "source": [
        "**SMOTE uygulanmış veri seti ile eğitim ve test:**"
      ]
    },
    {
      "cell_type": "code",
      "execution_count": null,
      "metadata": {
        "id": "bZrRTgLfbRlY",
        "colab": {
          "base_uri": "https://localhost:8080/"
        },
        "outputId": "2efb48b9-7008-42f2-cd96-7cb08e910d4c"
      },
      "outputs": [
        {
          "output_type": "stream",
          "name": "stdout",
          "text": [
            "Karışıklık matrisi:\n",
            " [[126  49]\n",
            " [ 39 109]]\n",
            "\n",
            "Sınıflandırma raporu:\n",
            "               precision    recall  f1-score   support\n",
            "\n",
            "           0       0.76      0.72      0.74       175\n",
            "           1       0.69      0.74      0.71       148\n",
            "\n",
            "    accuracy                           0.73       323\n",
            "   macro avg       0.73      0.73      0.73       323\n",
            "weighted avg       0.73      0.73      0.73       323\n",
            "\n",
            "Dengeli(SMOTE) test kümesinin başarı oranı:  0.7275541795665634\n",
            "Dengeli(SMOTE) train kümesinin başarı oranı:  0.8752904725019365\n"
          ]
        }
      ],
      "source": [
        "smt = ml_alg(smox_train, smoy_train, smox_test, smoy_test, gb, 0)\n",
        "#smt = ml_alg(Xs_train, ys_train, Xs_test, ys_test, gb, 0)\n",
        "\n",
        "print(\"Dengeli(SMOTE) test kümesinin başarı oranı: \",smt[0])\n",
        "print(\"Dengeli(SMOTE) train kümesinin başarı oranı: \",smt[1])"
      ]
    },
    {
      "cell_type": "markdown",
      "metadata": {
        "id": "ONQC14K5hHsj"
      },
      "source": [
        "**En uygun hiperparametrelerin bulunması:**\n"
      ]
    },
    {
      "cell_type": "code",
      "execution_count": null,
      "metadata": {
        "id": "f0Tf6x8khIrm"
      },
      "outputs": [],
      "source": [
        "from sklearn.model_selection import GridSearchCV\n",
        "\n",
        "param_grid = {\n",
        "    'max_depth': [3, 7, 9],\n",
        "    'subsample': [0.5, 0.7, 1.0],\n",
        "    'n_estimators': [50, 100, 500],\n",
        "    'learning_rate': [0.001, 0.01, 0.1],\n",
        "    'min_samples_split':[2 , 5, 10], \n",
        "}\n",
        "grid_search = GridSearchCV(GradientBoostingClassifier(), param_grid = param_grid, n_jobs = -1, verbose=2, cv=2)\n"
      ]
    },
    {
      "cell_type": "markdown",
      "metadata": {
        "id": "OWI09Fsve8ob"
      },
      "source": [
        "**Dengesiz veri seti ile grid search uygulanmış model sonuçları:**"
      ]
    },
    {
      "cell_type": "code",
      "execution_count": null,
      "metadata": {
        "id": "yvpv6cVhns68",
        "colab": {
          "base_uri": "https://localhost:8080/"
        },
        "outputId": "2dd1f642-09a9-4f23-f046-6d0a88e072ab"
      },
      "outputs": [
        {
          "output_type": "stream",
          "name": "stdout",
          "text": [
            "Fitting 2 folds for each of 243 candidates, totalling 486 fits\n",
            "Karışıklık matrisi:\n",
            " [[ 55  39]\n",
            " [ 37 128]]\n",
            "\n",
            "Sınıflandırma raporu:\n",
            "               precision    recall  f1-score   support\n",
            "\n",
            "           0       0.60      0.59      0.59        94\n",
            "           1       0.77      0.78      0.77       165\n",
            "\n",
            "    accuracy                           0.71       259\n",
            "   macro avg       0.68      0.68      0.68       259\n",
            "weighted avg       0.71      0.71      0.71       259\n",
            "\n",
            "En iyi parametreler: {'learning_rate': 0.01, 'max_depth': 3, 'min_samples_split': 2, 'n_estimators': 500, 'subsample': 0.7}\n",
            "\n",
            "Dengesiz test kümesi ile grid search uygulanmış modelin başarı oranı:  0.7065637065637066\n",
            "Dengesiz train kümesi ile grid search uygulanmış modelin başarı oranı:  0.8297872340425532\n"
          ]
        }
      ],
      "source": [
        "unb_H = ml_alg(densizx_train, densizy_train, densizx_test, densizy_test, grid_search, 1)\n",
        "print(\"Dengesiz test kümesi ile grid search uygulanmış modelin başarı oranı: \",unb_H[0])\n",
        "print(\"Dengesiz train kümesi ile grid search uygulanmış modelin başarı oranı: \",unb_H[1])"
      ]
    },
    {
      "cell_type": "markdown",
      "metadata": {
        "id": "J2ghD9IWffuD"
      },
      "source": [
        "**Random Undersampling veri seti ile grid search uygulanmış model sonuçları:**"
      ]
    },
    {
      "cell_type": "code",
      "execution_count": null,
      "metadata": {
        "id": "J5oJ_-QDdgXx",
        "colab": {
          "base_uri": "https://localhost:8080/"
        },
        "outputId": "364d47e5-e316-4d5a-b4a4-73c15bbd4af5"
      },
      "outputs": [
        {
          "output_type": "stream",
          "name": "stdout",
          "text": [
            "Fitting 2 folds for each of 243 candidates, totalling 486 fits\n",
            "Karışıklık matrisi:\n",
            " [[75 27]\n",
            " [33 60]]\n",
            "\n",
            "Sınıflandırma raporu:\n",
            "               precision    recall  f1-score   support\n",
            "\n",
            "           0       0.69      0.74      0.71       102\n",
            "           1       0.69      0.65      0.67        93\n",
            "\n",
            "    accuracy                           0.69       195\n",
            "   macro avg       0.69      0.69      0.69       195\n",
            "weighted avg       0.69      0.69      0.69       195\n",
            "\n",
            "En iyi parametreler: {'learning_rate': 0.01, 'max_depth': 7, 'min_samples_split': 2, 'n_estimators': 500, 'subsample': 0.7}\n",
            "\n",
            "Dengeli(Random Unsampling) test kümesi ile grid search uygulanmış modelin başarı oranı:  0.6923076923076923\n",
            "Dengeli(Random Unsampling) train kümesi ile grid search uygulanmış modelin başarı oranı:  1.0\n"
          ]
        }
      ],
      "source": [
        "ru_H = ml_alg(rusx_train, rusy_train, rusx_test, rusy_test, grid_search, 1)\n",
        "print(\"Dengeli(Random Unsampling) test kümesi ile grid search uygulanmış modelin başarı oranı: \",ru_H[0])\n",
        "print(\"Dengeli(Random Unsampling) train kümesi ile grid search uygulanmış modelin başarı oranı: \",ru_H[1])"
      ]
    },
    {
      "cell_type": "markdown",
      "metadata": {
        "id": "oDrYLEAGfr71"
      },
      "source": [
        "**Smote veri seti ile grid search uygulanmış model sonuçları:**"
      ]
    },
    {
      "cell_type": "code",
      "execution_count": null,
      "metadata": {
        "id": "HjNN6ekvdi5F",
        "colab": {
          "base_uri": "https://localhost:8080/"
        },
        "outputId": "da0df23e-abec-464d-d0bc-1d3eefdb98f6"
      },
      "outputs": [
        {
          "output_type": "stream",
          "name": "stdout",
          "text": [
            "Fitting 2 folds for each of 243 candidates, totalling 486 fits\n",
            "Karışıklık matrisi:\n",
            " [[135  40]\n",
            " [ 38 110]]\n",
            "\n",
            "Sınıflandırma raporu:\n",
            "               precision    recall  f1-score   support\n",
            "\n",
            "           0       0.78      0.77      0.78       175\n",
            "           1       0.73      0.74      0.74       148\n",
            "\n",
            "    accuracy                           0.76       323\n",
            "   macro avg       0.76      0.76      0.76       323\n",
            "weighted avg       0.76      0.76      0.76       323\n",
            "\n",
            "En iyi parametreler: {'learning_rate': 0.1, 'max_depth': 7, 'min_samples_split': 10, 'n_estimators': 500, 'subsample': 0.7}\n",
            "\n",
            "Dengeli(SMOTE) test kümesi ile grid search uygulanmış modelin başarı oranı:  0.7585139318885449\n",
            "Dengeli(SMOTE) train kümesi ile grid search uygulanmış modelin başarı oranı:  1.0\n"
          ]
        }
      ],
      "source": [
        "smt_H = ml_alg(smox_train, smoy_train, smox_test, smoy_test, grid_search, 1)\n",
        "\n",
        "print(\"Dengeli(SMOTE) test kümesi ile grid search uygulanmış modelin başarı oranı: \",smt_H[0])\n",
        "print(\"Dengeli(SMOTE) train kümesi ile grid search uygulanmış modelin başarı oranı: \",smt_H[1])"
      ]
    },
    {
      "cell_type": "markdown",
      "metadata": {
        "id": "mqcVATIA9KLE"
      },
      "source": [
        "**Başarı oranları tablo:**"
      ]
    },
    {
      "cell_type": "code",
      "execution_count": null,
      "metadata": {
        "id": "x0BlbcHp9N9F"
      },
      "outputs": [],
      "source": [
        "def acc_table(unb,unb_H,ru,ru_H,smt,smt_H):\n",
        "  acc_table= np.array([[unb[0], unb[1], unb_H[0], unb_H[1]], \n",
        "                     [ru[0], ru[1], ru_H[0], ru_H[1]], \n",
        "                     [smt[0], smt[1], smt_H[0], smt_H[1]]])\n",
        "\n",
        "  index = np.array(['Dengesiz veri seti','Random Unsampling Uygulanmış veri seti','SMOTE Uygulanmış veri seti'])\n",
        "  columns = np.array(['test_acc', 'train_acc', 'test_acc_h', 'train_acc_h'])\n",
        "\n",
        "  return pd.DataFrame(data = acc_table, index=index, columns=columns)"
      ]
    },
    {
      "cell_type": "code",
      "execution_count": null,
      "metadata": {
        "id": "p0hcSg1R-Ul3",
        "colab": {
          "base_uri": "https://localhost:8080/",
          "height": 143
        },
        "outputId": "2130c7f7-c097-4cb2-b633-a8380e7637e0"
      },
      "outputs": [
        {
          "output_type": "execute_result",
          "data": {
            "text/html": [
              "\n",
              "  <div id=\"df-1d2b760d-e298-4653-9f11-1e847ed1bb40\">\n",
              "    <div class=\"colab-df-container\">\n",
              "      <div>\n",
              "<style scoped>\n",
              "    .dataframe tbody tr th:only-of-type {\n",
              "        vertical-align: middle;\n",
              "    }\n",
              "\n",
              "    .dataframe tbody tr th {\n",
              "        vertical-align: top;\n",
              "    }\n",
              "\n",
              "    .dataframe thead th {\n",
              "        text-align: right;\n",
              "    }\n",
              "</style>\n",
              "<table border=\"1\" class=\"dataframe\">\n",
              "  <thead>\n",
              "    <tr style=\"text-align: right;\">\n",
              "      <th></th>\n",
              "      <th>test_acc</th>\n",
              "      <th>train_acc</th>\n",
              "      <th>test_acc_h</th>\n",
              "      <th>train_acc_h</th>\n",
              "    </tr>\n",
              "  </thead>\n",
              "  <tbody>\n",
              "    <tr>\n",
              "      <th>Dengesiz veri seti</th>\n",
              "      <td>0.679537</td>\n",
              "      <td>0.874275</td>\n",
              "      <td>0.706564</td>\n",
              "      <td>0.829787</td>\n",
              "    </tr>\n",
              "    <tr>\n",
              "      <th>Random Unsampling Uygulanmış veri seti</th>\n",
              "      <td>0.702564</td>\n",
              "      <td>0.886744</td>\n",
              "      <td>0.692308</td>\n",
              "      <td>1.000000</td>\n",
              "    </tr>\n",
              "    <tr>\n",
              "      <th>SMOTE Uygulanmış veri seti</th>\n",
              "      <td>0.727554</td>\n",
              "      <td>0.875290</td>\n",
              "      <td>0.758514</td>\n",
              "      <td>1.000000</td>\n",
              "    </tr>\n",
              "  </tbody>\n",
              "</table>\n",
              "</div>\n",
              "      <button class=\"colab-df-convert\" onclick=\"convertToInteractive('df-1d2b760d-e298-4653-9f11-1e847ed1bb40')\"\n",
              "              title=\"Convert this dataframe to an interactive table.\"\n",
              "              style=\"display:none;\">\n",
              "        \n",
              "  <svg xmlns=\"http://www.w3.org/2000/svg\" height=\"24px\"viewBox=\"0 0 24 24\"\n",
              "       width=\"24px\">\n",
              "    <path d=\"M0 0h24v24H0V0z\" fill=\"none\"/>\n",
              "    <path d=\"M18.56 5.44l.94 2.06.94-2.06 2.06-.94-2.06-.94-.94-2.06-.94 2.06-2.06.94zm-11 1L8.5 8.5l.94-2.06 2.06-.94-2.06-.94L8.5 2.5l-.94 2.06-2.06.94zm10 10l.94 2.06.94-2.06 2.06-.94-2.06-.94-.94-2.06-.94 2.06-2.06.94z\"/><path d=\"M17.41 7.96l-1.37-1.37c-.4-.4-.92-.59-1.43-.59-.52 0-1.04.2-1.43.59L10.3 9.45l-7.72 7.72c-.78.78-.78 2.05 0 2.83L4 21.41c.39.39.9.59 1.41.59.51 0 1.02-.2 1.41-.59l7.78-7.78 2.81-2.81c.8-.78.8-2.07 0-2.86zM5.41 20L4 18.59l7.72-7.72 1.47 1.35L5.41 20z\"/>\n",
              "  </svg>\n",
              "      </button>\n",
              "      \n",
              "  <style>\n",
              "    .colab-df-container {\n",
              "      display:flex;\n",
              "      flex-wrap:wrap;\n",
              "      gap: 12px;\n",
              "    }\n",
              "\n",
              "    .colab-df-convert {\n",
              "      background-color: #E8F0FE;\n",
              "      border: none;\n",
              "      border-radius: 50%;\n",
              "      cursor: pointer;\n",
              "      display: none;\n",
              "      fill: #1967D2;\n",
              "      height: 32px;\n",
              "      padding: 0 0 0 0;\n",
              "      width: 32px;\n",
              "    }\n",
              "\n",
              "    .colab-df-convert:hover {\n",
              "      background-color: #E2EBFA;\n",
              "      box-shadow: 0px 1px 2px rgba(60, 64, 67, 0.3), 0px 1px 3px 1px rgba(60, 64, 67, 0.15);\n",
              "      fill: #174EA6;\n",
              "    }\n",
              "\n",
              "    [theme=dark] .colab-df-convert {\n",
              "      background-color: #3B4455;\n",
              "      fill: #D2E3FC;\n",
              "    }\n",
              "\n",
              "    [theme=dark] .colab-df-convert:hover {\n",
              "      background-color: #434B5C;\n",
              "      box-shadow: 0px 1px 3px 1px rgba(0, 0, 0, 0.15);\n",
              "      filter: drop-shadow(0px 1px 2px rgba(0, 0, 0, 0.3));\n",
              "      fill: #FFFFFF;\n",
              "    }\n",
              "  </style>\n",
              "\n",
              "      <script>\n",
              "        const buttonEl =\n",
              "          document.querySelector('#df-1d2b760d-e298-4653-9f11-1e847ed1bb40 button.colab-df-convert');\n",
              "        buttonEl.style.display =\n",
              "          google.colab.kernel.accessAllowed ? 'block' : 'none';\n",
              "\n",
              "        async function convertToInteractive(key) {\n",
              "          const element = document.querySelector('#df-1d2b760d-e298-4653-9f11-1e847ed1bb40');\n",
              "          const dataTable =\n",
              "            await google.colab.kernel.invokeFunction('convertToInteractive',\n",
              "                                                     [key], {});\n",
              "          if (!dataTable) return;\n",
              "\n",
              "          const docLinkHtml = 'Like what you see? Visit the ' +\n",
              "            '<a target=\"_blank\" href=https://colab.research.google.com/notebooks/data_table.ipynb>data table notebook</a>'\n",
              "            + ' to learn more about interactive tables.';\n",
              "          element.innerHTML = '';\n",
              "          dataTable['output_type'] = 'display_data';\n",
              "          await google.colab.output.renderOutput(dataTable, element);\n",
              "          const docLink = document.createElement('div');\n",
              "          docLink.innerHTML = docLinkHtml;\n",
              "          element.appendChild(docLink);\n",
              "        }\n",
              "      </script>\n",
              "    </div>\n",
              "  </div>\n",
              "  "
            ],
            "text/plain": [
              "                                        test_acc  ...  train_acc_h\n",
              "Dengesiz veri seti                      0.679537  ...     0.829787\n",
              "Random Unsampling Uygulanmış veri seti  0.702564  ...     1.000000\n",
              "SMOTE Uygulanmış veri seti              0.727554  ...     1.000000\n",
              "\n",
              "[3 rows x 4 columns]"
            ]
          },
          "metadata": {},
          "execution_count": 61
        }
      ],
      "source": [
        "tab = acc_table(unb,unb_H,ru,ru_H,smt,smt_H)\n",
        "tab"
      ]
    },
    {
      "cell_type": "markdown",
      "metadata": {
        "id": "4k8EvQPcMDH-"
      },
      "source": [
        "# **XG BOOST**"
      ]
    },
    {
      "cell_type": "code",
      "execution_count": null,
      "metadata": {
        "id": "N1ryrwLTMLlw"
      },
      "outputs": [],
      "source": [
        "from xgboost import XGBClassifier\n",
        "xgb = XGBClassifier()\n"
      ]
    },
    {
      "cell_type": "markdown",
      "metadata": {
        "id": "Mml_dba8-iCR"
      },
      "source": [
        "**Dengesiz veri seti ile eğitilmesi ve sonuçlar:**"
      ]
    },
    {
      "cell_type": "code",
      "execution_count": null,
      "metadata": {
        "colab": {
          "base_uri": "https://localhost:8080/"
        },
        "id": "nVlilumS-iCS",
        "outputId": "3a99d295-ed78-417c-bd24-74c32d516365"
      },
      "outputs": [
        {
          "output_type": "stream",
          "name": "stdout",
          "text": [
            "Karışıklık matrisi:\n",
            " [[ 55  39]\n",
            " [ 41 124]]\n",
            "\n",
            "Sınıflandırma raporu:\n",
            "               precision    recall  f1-score   support\n",
            "\n",
            "           0       0.57      0.59      0.58        94\n",
            "           1       0.76      0.75      0.76       165\n",
            "\n",
            "    accuracy                           0.69       259\n",
            "   macro avg       0.67      0.67      0.67       259\n",
            "weighted avg       0.69      0.69      0.69       259\n",
            "\n",
            "Dengesiz test kümesinin başarı oranı:  0.6911196911196911\n",
            "Dengesiz train kümesinin başarı oranı:  0.8471953578336557\n"
          ]
        }
      ],
      "source": [
        "unb =  ml_alg(densizx_train, densizy_train, densizx_test, densizy_test, xgb, 0)\n",
        "print(\"Dengesiz test kümesinin başarı oranı: \",unb[0])\n",
        "print(\"Dengesiz train kümesinin başarı oranı: \",unb[1])"
      ]
    },
    {
      "cell_type": "markdown",
      "metadata": {
        "id": "nWxla3Wp-iCS"
      },
      "source": [
        "**Random Unsampling uygulanmış veri seti ile eğitim ve test:**"
      ]
    },
    {
      "cell_type": "code",
      "execution_count": null,
      "metadata": {
        "colab": {
          "base_uri": "https://localhost:8080/"
        },
        "id": "1YXBOyTM-iCT",
        "outputId": "b936c158-1d23-492b-fbb7-cf694930df12"
      },
      "outputs": [
        {
          "output_type": "stream",
          "name": "stdout",
          "text": [
            "Karışıklık matrisi:\n",
            " [[70 32]\n",
            " [32 61]]\n",
            "\n",
            "Sınıflandırma raporu:\n",
            "               precision    recall  f1-score   support\n",
            "\n",
            "           0       0.69      0.69      0.69       102\n",
            "           1       0.66      0.66      0.66        93\n",
            "\n",
            "    accuracy                           0.67       195\n",
            "   macro avg       0.67      0.67      0.67       195\n",
            "weighted avg       0.67      0.67      0.67       195\n",
            "\n",
            "Dengeli(Random Unsampling) test kümesinin başarı oranı:  0.6717948717948717\n",
            "Dengeli(Random Unsampling) train kümesinin başarı oranı:  0.8494208494208494\n"
          ]
        }
      ],
      "source": [
        "ru = ml_alg(rusx_train, rusy_train, rusx_test, rusy_test, xgb, 0)\n",
        "\n",
        "print(\"Dengeli(Random Unsampling) test kümesinin başarı oranı: \",ru[0])\n",
        "print(\"Dengeli(Random Unsampling) train kümesinin başarı oranı: \",ru[1])"
      ]
    },
    {
      "cell_type": "markdown",
      "metadata": {
        "id": "ccNWIzSY-iCT"
      },
      "source": [
        "**SMOTE uygulanmış veri seti ile eğitim ve test:**"
      ]
    },
    {
      "cell_type": "code",
      "execution_count": null,
      "metadata": {
        "colab": {
          "base_uri": "https://localhost:8080/"
        },
        "id": "cJOd_-WF-iCT",
        "outputId": "0a0809aa-3dd6-409d-b1b9-f77b884b07cf"
      },
      "outputs": [
        {
          "output_type": "stream",
          "name": "stdout",
          "text": [
            "Karışıklık matrisi:\n",
            " [[132  43]\n",
            " [ 41 107]]\n",
            "\n",
            "Sınıflandırma raporu:\n",
            "               precision    recall  f1-score   support\n",
            "\n",
            "           0       0.76      0.75      0.76       175\n",
            "           1       0.71      0.72      0.72       148\n",
            "\n",
            "    accuracy                           0.74       323\n",
            "   macro avg       0.74      0.74      0.74       323\n",
            "weighted avg       0.74      0.74      0.74       323\n",
            "\n",
            "Dengeli(SMOTE) veri kümesinin başarı oranı:  0.739938080495356\n",
            "Dengeli(SMOTE) veri kümesinin başarı oranı:  0.8690937257939582\n"
          ]
        }
      ],
      "source": [
        "smt = ml_alg(smox_train, smoy_train, smox_test, smoy_test, xgb, 0)\n",
        "\n",
        "print(\"Dengeli(SMOTE) veri kümesinin başarı oranı: \",smt[0])\n",
        "print(\"Dengeli(SMOTE) veri kümesinin başarı oranı: \",smt[1])"
      ]
    },
    {
      "cell_type": "code",
      "execution_count": null,
      "metadata": {
        "id": "HK_FxA9BFZeu"
      },
      "outputs": [],
      "source": [
        "param_grid = {\n",
        "            'n_estimators': [100, 500, 900, 1100, 1500],\n",
        "            'max_depth':[2, 3, 5, 10, 15],\n",
        "            'learning_rate':[0.05,0.1,0.15,0.20],\n",
        "            'min_child_weight':[1,2,3,4],\n",
        "            'subsample': [0.5, 1.0, 0.11],\n",
        "            'eta': [0.1, 0.26, 0.05],\n",
        "            'booster':['gbtree','gblinear'],\n",
        "            'colsample_bytree': [0.5, 1.0, 0.11]\n",
        "        }\n",
        "grid_search = GridSearchCV(XGBClassifier() , param_grid = param_grid, n_jobs = -1, cv=5)\n"
      ]
    },
    {
      "cell_type": "markdown",
      "metadata": {
        "id": "SXUEFsjHGgbl"
      },
      "source": [
        "**Dengesiz veri seti ile grid search uygulanmış model sonuçları:**"
      ]
    },
    {
      "cell_type": "code",
      "execution_count": null,
      "metadata": {
        "id": "vkhkn1J_Ggbm",
        "colab": {
          "base_uri": "https://localhost:8080/"
        },
        "outputId": "caa8f05c-6734-4fea-8281-1e173b29129b"
      },
      "outputs": [
        {
          "output_type": "stream",
          "name": "stdout",
          "text": [
            "Karışıklık matrisi:\n",
            " [[ 54  40]\n",
            " [ 33 132]]\n",
            "\n",
            "Sınıflandırma raporu:\n",
            "               precision    recall  f1-score   support\n",
            "\n",
            "           0       0.62      0.57      0.60        94\n",
            "           1       0.77      0.80      0.78       165\n",
            "\n",
            "    accuracy                           0.72       259\n",
            "   macro avg       0.69      0.69      0.69       259\n",
            "weighted avg       0.71      0.72      0.72       259\n",
            "\n",
            "En iyi parametreler: {'booster': 'gbtree', 'learning_rate': 0.05, 'max_depth': 2, 'min_child_weight': 1, 'n_estimators': 100}\n",
            "\n",
            "Dengesiz test kümesi ile grid search uygulanmış modelin başarı oranı:  0.7181467181467182\n",
            "Dengesiz train kümesi ile grid search uygulanmış modelin başarı oranı:  0.7620889748549323\n"
          ]
        }
      ],
      "source": [
        "unb_H = ml_alg(densizx_train, densizy_train, densizx_test, densizy_test, grid_search, 1)\n",
        "print(\"Dengesiz test kümesi ile grid search uygulanmış modelin başarı oranı: \",unb_H[0])\n",
        "print(\"Dengesiz train kümesi ile grid search uygulanmış modelin başarı oranı: \",unb_H[1])"
      ]
    },
    {
      "cell_type": "markdown",
      "metadata": {
        "id": "_2H9HalRGgbm"
      },
      "source": [
        "**Random Undersampling veri seti ile grid search uygulanmış model sonuçları:**"
      ]
    },
    {
      "cell_type": "code",
      "execution_count": null,
      "metadata": {
        "id": "aKfcj6t6Ggbm",
        "colab": {
          "base_uri": "https://localhost:8080/"
        },
        "outputId": "32d3c501-1a4b-44f8-98d2-31d23e4ffc03"
      },
      "outputs": [
        {
          "output_type": "stream",
          "name": "stdout",
          "text": [
            "Karışıklık matrisi:\n",
            " [[74 28]\n",
            " [29 64]]\n",
            "\n",
            "Sınıflandırma raporu:\n",
            "               precision    recall  f1-score   support\n",
            "\n",
            "           0       0.72      0.73      0.72       102\n",
            "           1       0.70      0.69      0.69        93\n",
            "\n",
            "    accuracy                           0.71       195\n",
            "   macro avg       0.71      0.71      0.71       195\n",
            "weighted avg       0.71      0.71      0.71       195\n",
            "\n",
            "En iyi parametreler: {'booster': 'gbtree', 'learning_rate': 0.05, 'max_depth': 2, 'min_child_weight': 2, 'n_estimators': 100}\n",
            "\n",
            "Dengeli(Random Unsampling) test kümesi ile grid search uygulanmış modelin başarı oranı:  0.7076923076923077\n",
            "Dengeli(Random Unsampling) train kümesi ile grid search uygulanmış modelin başarı oranı:  0.731016731016731\n"
          ]
        }
      ],
      "source": [
        "ru_H = ml_alg(rusx_train, rusy_train, rusx_test, rusy_test, grid_search, 1)\n",
        "print(\"Dengeli(Random Unsampling) test kümesi ile grid search uygulanmış modelin başarı oranı: \",ru_H[0])\n",
        "print(\"Dengeli(Random Unsampling) train kümesi ile grid search uygulanmış modelin başarı oranı: \",ru_H[1])"
      ]
    },
    {
      "cell_type": "markdown",
      "metadata": {
        "id": "EsP3lN0xGgbn"
      },
      "source": [
        "**Smote veri seti ile grid search uygulanmış model sonuçları:**"
      ]
    },
    {
      "cell_type": "code",
      "execution_count": null,
      "metadata": {
        "id": "jTp65ZNsGgbn",
        "colab": {
          "base_uri": "https://localhost:8080/"
        },
        "outputId": "fbbbed8f-5f34-4e64-ff13-54ed3f435649"
      },
      "outputs": [
        {
          "output_type": "stream",
          "name": "stdout",
          "text": [
            "Karışıklık matrisi:\n",
            " [[137  38]\n",
            " [ 40 108]]\n",
            "\n",
            "Sınıflandırma raporu:\n",
            "               precision    recall  f1-score   support\n",
            "\n",
            "           0       0.77      0.78      0.78       175\n",
            "           1       0.74      0.73      0.73       148\n",
            "\n",
            "    accuracy                           0.76       323\n",
            "   macro avg       0.76      0.76      0.76       323\n",
            "weighted avg       0.76      0.76      0.76       323\n",
            "\n",
            "En iyi parametreler: {'booster': 'gbtree', 'learning_rate': 0.2, 'max_depth': 10, 'min_child_weight': 1, 'n_estimators': 1100}\n",
            "\n",
            "Dengeli(SMOTE) kümesi ile grid search uygulanmış modelin başarı oranı:  0.7585139318885449\n",
            "Dengeli(SMOTE) kümesi ile grid search uygulanmış modelin başarı oranı:  1.0\n"
          ]
        }
      ],
      "source": [
        "smt_H = ml_alg(smox_train, smoy_train, smox_test, smoy_test, grid_search, 1)\n",
        "\n",
        "print(\"Dengeli(SMOTE) kümesi ile grid search uygulanmış modelin başarı oranı: \",smt_H[0])\n",
        "print(\"Dengeli(SMOTE) kümesi ile grid search uygulanmış modelin başarı oranı: \",smt_H[1])"
      ]
    },
    {
      "cell_type": "code",
      "execution_count": null,
      "metadata": {
        "id": "ymmy2vjoHNsC",
        "colab": {
          "base_uri": "https://localhost:8080/",
          "height": 143
        },
        "outputId": "0e834fea-4692-4f62-9a18-b7980a5d9bc7"
      },
      "outputs": [
        {
          "output_type": "execute_result",
          "data": {
            "text/html": [
              "\n",
              "  <div id=\"df-8359f712-22eb-4ab0-97f2-1f87e9f94623\">\n",
              "    <div class=\"colab-df-container\">\n",
              "      <div>\n",
              "<style scoped>\n",
              "    .dataframe tbody tr th:only-of-type {\n",
              "        vertical-align: middle;\n",
              "    }\n",
              "\n",
              "    .dataframe tbody tr th {\n",
              "        vertical-align: top;\n",
              "    }\n",
              "\n",
              "    .dataframe thead th {\n",
              "        text-align: right;\n",
              "    }\n",
              "</style>\n",
              "<table border=\"1\" class=\"dataframe\">\n",
              "  <thead>\n",
              "    <tr style=\"text-align: right;\">\n",
              "      <th></th>\n",
              "      <th>test_acc</th>\n",
              "      <th>train_acc</th>\n",
              "      <th>test_acc_h</th>\n",
              "      <th>train_acc_h</th>\n",
              "    </tr>\n",
              "  </thead>\n",
              "  <tbody>\n",
              "    <tr>\n",
              "      <th>Dengesiz veri seti</th>\n",
              "      <td>0.691120</td>\n",
              "      <td>0.847195</td>\n",
              "      <td>0.718147</td>\n",
              "      <td>0.762089</td>\n",
              "    </tr>\n",
              "    <tr>\n",
              "      <th>Random Unsampling Uygulanmış veri seti</th>\n",
              "      <td>0.671795</td>\n",
              "      <td>0.849421</td>\n",
              "      <td>0.707692</td>\n",
              "      <td>0.731017</td>\n",
              "    </tr>\n",
              "    <tr>\n",
              "      <th>SMOTE Uygulanmış veri seti</th>\n",
              "      <td>0.739938</td>\n",
              "      <td>0.869094</td>\n",
              "      <td>0.758514</td>\n",
              "      <td>1.000000</td>\n",
              "    </tr>\n",
              "  </tbody>\n",
              "</table>\n",
              "</div>\n",
              "      <button class=\"colab-df-convert\" onclick=\"convertToInteractive('df-8359f712-22eb-4ab0-97f2-1f87e9f94623')\"\n",
              "              title=\"Convert this dataframe to an interactive table.\"\n",
              "              style=\"display:none;\">\n",
              "        \n",
              "  <svg xmlns=\"http://www.w3.org/2000/svg\" height=\"24px\"viewBox=\"0 0 24 24\"\n",
              "       width=\"24px\">\n",
              "    <path d=\"M0 0h24v24H0V0z\" fill=\"none\"/>\n",
              "    <path d=\"M18.56 5.44l.94 2.06.94-2.06 2.06-.94-2.06-.94-.94-2.06-.94 2.06-2.06.94zm-11 1L8.5 8.5l.94-2.06 2.06-.94-2.06-.94L8.5 2.5l-.94 2.06-2.06.94zm10 10l.94 2.06.94-2.06 2.06-.94-2.06-.94-.94-2.06-.94 2.06-2.06.94z\"/><path d=\"M17.41 7.96l-1.37-1.37c-.4-.4-.92-.59-1.43-.59-.52 0-1.04.2-1.43.59L10.3 9.45l-7.72 7.72c-.78.78-.78 2.05 0 2.83L4 21.41c.39.39.9.59 1.41.59.51 0 1.02-.2 1.41-.59l7.78-7.78 2.81-2.81c.8-.78.8-2.07 0-2.86zM5.41 20L4 18.59l7.72-7.72 1.47 1.35L5.41 20z\"/>\n",
              "  </svg>\n",
              "      </button>\n",
              "      \n",
              "  <style>\n",
              "    .colab-df-container {\n",
              "      display:flex;\n",
              "      flex-wrap:wrap;\n",
              "      gap: 12px;\n",
              "    }\n",
              "\n",
              "    .colab-df-convert {\n",
              "      background-color: #E8F0FE;\n",
              "      border: none;\n",
              "      border-radius: 50%;\n",
              "      cursor: pointer;\n",
              "      display: none;\n",
              "      fill: #1967D2;\n",
              "      height: 32px;\n",
              "      padding: 0 0 0 0;\n",
              "      width: 32px;\n",
              "    }\n",
              "\n",
              "    .colab-df-convert:hover {\n",
              "      background-color: #E2EBFA;\n",
              "      box-shadow: 0px 1px 2px rgba(60, 64, 67, 0.3), 0px 1px 3px 1px rgba(60, 64, 67, 0.15);\n",
              "      fill: #174EA6;\n",
              "    }\n",
              "\n",
              "    [theme=dark] .colab-df-convert {\n",
              "      background-color: #3B4455;\n",
              "      fill: #D2E3FC;\n",
              "    }\n",
              "\n",
              "    [theme=dark] .colab-df-convert:hover {\n",
              "      background-color: #434B5C;\n",
              "      box-shadow: 0px 1px 3px 1px rgba(0, 0, 0, 0.15);\n",
              "      filter: drop-shadow(0px 1px 2px rgba(0, 0, 0, 0.3));\n",
              "      fill: #FFFFFF;\n",
              "    }\n",
              "  </style>\n",
              "\n",
              "      <script>\n",
              "        const buttonEl =\n",
              "          document.querySelector('#df-8359f712-22eb-4ab0-97f2-1f87e9f94623 button.colab-df-convert');\n",
              "        buttonEl.style.display =\n",
              "          google.colab.kernel.accessAllowed ? 'block' : 'none';\n",
              "\n",
              "        async function convertToInteractive(key) {\n",
              "          const element = document.querySelector('#df-8359f712-22eb-4ab0-97f2-1f87e9f94623');\n",
              "          const dataTable =\n",
              "            await google.colab.kernel.invokeFunction('convertToInteractive',\n",
              "                                                     [key], {});\n",
              "          if (!dataTable) return;\n",
              "\n",
              "          const docLinkHtml = 'Like what you see? Visit the ' +\n",
              "            '<a target=\"_blank\" href=https://colab.research.google.com/notebooks/data_table.ipynb>data table notebook</a>'\n",
              "            + ' to learn more about interactive tables.';\n",
              "          element.innerHTML = '';\n",
              "          dataTable['output_type'] = 'display_data';\n",
              "          await google.colab.output.renderOutput(dataTable, element);\n",
              "          const docLink = document.createElement('div');\n",
              "          docLink.innerHTML = docLinkHtml;\n",
              "          element.appendChild(docLink);\n",
              "        }\n",
              "      </script>\n",
              "    </div>\n",
              "  </div>\n",
              "  "
            ],
            "text/plain": [
              "                                        test_acc  ...  train_acc_h\n",
              "Dengesiz veri seti                      0.691120  ...     0.762089\n",
              "Random Unsampling Uygulanmış veri seti  0.671795  ...     0.731017\n",
              "SMOTE Uygulanmış veri seti              0.739938  ...     1.000000\n",
              "\n",
              "[3 rows x 4 columns]"
            ]
          },
          "metadata": {},
          "execution_count": 59
        }
      ],
      "source": [
        "tab = acc_table(unb,unb_H,ru,ru_H,smt,smt_H)\n",
        "tab"
      ]
    },
    {
      "cell_type": "markdown",
      "metadata": {
        "id": "cEGXgAfmeToQ"
      },
      "source": [
        "# **KNN**"
      ]
    },
    {
      "cell_type": "code",
      "execution_count": null,
      "metadata": {
        "id": "7gPaKU-ReV1m"
      },
      "outputs": [],
      "source": [
        "from sklearn.neighbors import KNeighborsClassifier\n",
        "knn = KNeighborsClassifier()"
      ]
    },
    {
      "cell_type": "markdown",
      "metadata": {
        "id": "hQamItA1exsS"
      },
      "source": [
        "**Dengesiz veri seti ile eğitilmesi ve sonuçlar:**"
      ]
    },
    {
      "cell_type": "code",
      "execution_count": null,
      "metadata": {
        "id": "RUhLYgaiexsS",
        "colab": {
          "base_uri": "https://localhost:8080/"
        },
        "outputId": "e13fde48-555a-4551-bb6c-5a923d0991b3"
      },
      "outputs": [
        {
          "output_type": "stream",
          "name": "stdout",
          "text": [
            "Karışıklık matrisi:\n",
            " [[ 48  46]\n",
            " [ 36 129]]\n",
            "\n",
            "Sınıflandırma raporu:\n",
            "               precision    recall  f1-score   support\n",
            "\n",
            "           0       0.57      0.51      0.54        94\n",
            "           1       0.74      0.78      0.76       165\n",
            "\n",
            "    accuracy                           0.68       259\n",
            "   macro avg       0.65      0.65      0.65       259\n",
            "weighted avg       0.68      0.68      0.68       259\n",
            "\n",
            "Dengesiz test kümesinin başarı oranı:  0.6833976833976834\n",
            "Dengesiz train kümesinin başarı oranı:  0.7901353965183753\n"
          ]
        }
      ],
      "source": [
        "unb =  ml_alg(densizx_train, densizy_train, densizx_test, densizy_test, knn, 0)\n",
        "print(\"Dengesiz test kümesinin başarı oranı: \",unb[0])\n",
        "print(\"Dengesiz train kümesinin başarı oranı: \",unb[1])"
      ]
    },
    {
      "cell_type": "markdown",
      "metadata": {
        "id": "UpY9WVcxexsT"
      },
      "source": [
        "**Random Unsampling uygulanmış veri seti ile eğitim ve test:**"
      ]
    },
    {
      "cell_type": "code",
      "execution_count": null,
      "metadata": {
        "id": "rNTzkr30exsU",
        "colab": {
          "base_uri": "https://localhost:8080/"
        },
        "outputId": "2b0e391b-d1d3-4096-9fb6-80aae25b9b32"
      },
      "outputs": [
        {
          "output_type": "stream",
          "name": "stdout",
          "text": [
            "Karışıklık matrisi:\n",
            " [[66 36]\n",
            " [38 55]]\n",
            "\n",
            "Sınıflandırma raporu:\n",
            "               precision    recall  f1-score   support\n",
            "\n",
            "           0       0.63      0.65      0.64       102\n",
            "           1       0.60      0.59      0.60        93\n",
            "\n",
            "    accuracy                           0.62       195\n",
            "   macro avg       0.62      0.62      0.62       195\n",
            "weighted avg       0.62      0.62      0.62       195\n",
            "\n",
            "Dengeli(Random Unsampling) test kümesinin başarı oranı:  0.6205128205128205\n",
            "Dengeli(Random Unsampling) train kümesinin başarı oranı:  0.7786357786357786\n"
          ]
        }
      ],
      "source": [
        "ru = ml_alg(rusx_train, rusy_train, rusx_test, rusy_test, knn, 0)\n",
        "\n",
        "print(\"Dengeli(Random Unsampling) test kümesinin başarı oranı: \",ru[0])\n",
        "print(\"Dengeli(Random Unsampling) train kümesinin başarı oranı: \",ru[1])"
      ]
    },
    {
      "cell_type": "markdown",
      "metadata": {
        "id": "wo6oM4foexsV"
      },
      "source": [
        "**SMOTE uygulanmış veri seti ile eğitim ve test:**"
      ]
    },
    {
      "cell_type": "code",
      "execution_count": null,
      "metadata": {
        "id": "IpzeQugmexsV",
        "colab": {
          "base_uri": "https://localhost:8080/"
        },
        "outputId": "16d42b7d-6d20-4cf2-eafc-43fc366d8395"
      },
      "outputs": [
        {
          "output_type": "stream",
          "name": "stdout",
          "text": [
            "Karışıklık matrisi:\n",
            " [[143  32]\n",
            " [ 60  88]]\n",
            "\n",
            "Sınıflandırma raporu:\n",
            "               precision    recall  f1-score   support\n",
            "\n",
            "           0       0.70      0.82      0.76       175\n",
            "           1       0.73      0.59      0.66       148\n",
            "\n",
            "    accuracy                           0.72       323\n",
            "   macro avg       0.72      0.71      0.71       323\n",
            "weighted avg       0.72      0.72      0.71       323\n",
            "\n",
            "Dengeli(SMOTE) veri kümesinin başarı oranı:  0.7151702786377709\n",
            "Dengeli(SMOTE) veri kümesinin başarı oranı:  0.8001549186676995\n"
          ]
        }
      ],
      "source": [
        "smt = ml_alg(smox_train, smoy_train, smox_test, smoy_test, knn, 0)\n",
        "\n",
        "print(\"Dengeli(SMOTE) veri kümesinin başarı oranı: \",smt[0])\n",
        "print(\"Dengeli(SMOTE) veri kümesinin başarı oranı: \",smt[1])"
      ]
    },
    {
      "cell_type": "code",
      "execution_count": null,
      "metadata": {
        "id": "53sbwAuv4eq5"
      },
      "outputs": [],
      "source": [
        "param_grid = {\n",
        "    'n_neighbors': range(1,100), \n",
        "    'weights': ['uniform','distance'],\n",
        "    'p':[1,2,5],\n",
        "    'metric':['euclidean','minkowski','mahalanobis','seuclidean'],\n",
        "    }\n",
        "grid_search = GridSearchCV(KNeighborsClassifier(), param_grid=param_grid, n_jobs=-1, verbose=1, cv=5)"
      ]
    },
    {
      "cell_type": "markdown",
      "metadata": {
        "id": "WcZwrVR44xqT"
      },
      "source": [
        "**Dengesiz veri seti ile grid search uygulanmış model sonuçları:**"
      ]
    },
    {
      "cell_type": "code",
      "execution_count": null,
      "metadata": {
        "id": "66GhV0r_4xqU",
        "colab": {
          "base_uri": "https://localhost:8080/"
        },
        "outputId": "fa5b6da1-c105-440c-87e5-cdea62914f5a"
      },
      "outputs": [
        {
          "output_type": "stream",
          "name": "stdout",
          "text": [
            "Fitting 5 folds for each of 2376 candidates, totalling 11880 fits\n"
          ]
        },
        {
          "output_type": "stream",
          "name": "stderr",
          "text": [
            "/usr/local/lib/python3.7/dist-packages/sklearn/model_selection/_search.py:972: UserWarning: One or more of the test scores are non-finite: [0.64600628 0.64600628 0.64600628 ...        nan        nan        nan]\n",
            "  category=UserWarning,\n"
          ]
        },
        {
          "output_type": "stream",
          "name": "stdout",
          "text": [
            "Karışıklık matrisi:\n",
            " [[ 52  42]\n",
            " [ 39 126]]\n",
            "\n",
            "Sınıflandırma raporu:\n",
            "               precision    recall  f1-score   support\n",
            "\n",
            "           0       0.57      0.55      0.56        94\n",
            "           1       0.75      0.76      0.76       165\n",
            "\n",
            "    accuracy                           0.69       259\n",
            "   macro avg       0.66      0.66      0.66       259\n",
            "weighted avg       0.69      0.69      0.69       259\n",
            "\n",
            "En iyi parametreler: {'metric': 'minkowski', 'n_neighbors': 22, 'p': 5, 'weights': 'uniform'}\n",
            "\n",
            "Dengesiz test kümesi ile grid search uygulanmış modelin başarı oranı:  0.6872586872586872\n",
            "Dengesiz train kümesi ile grid search uygulanmış modelin başarı oranı:  0.7388781431334622\n"
          ]
        }
      ],
      "source": [
        "unb_H = ml_alg(densizx_train, densizy_train, densizx_test, densizy_test, grid_search, 1)\n",
        "print(\"Dengesiz test kümesi ile grid search uygulanmış modelin başarı oranı: \",unb_H[0])\n",
        "print(\"Dengesiz train kümesi ile grid search uygulanmış modelin başarı oranı: \",unb_H[1])"
      ]
    },
    {
      "cell_type": "markdown",
      "metadata": {
        "id": "VIiLzpnY4xqU"
      },
      "source": [
        "**Random Undersampling veri seti ile grid search uygulanmış model sonuçları:**"
      ]
    },
    {
      "cell_type": "code",
      "execution_count": null,
      "metadata": {
        "id": "lxg9bmzP4xqU",
        "colab": {
          "base_uri": "https://localhost:8080/"
        },
        "outputId": "83dd6b5c-392e-45f8-e63a-6dd5d0ba35e5"
      },
      "outputs": [
        {
          "output_type": "stream",
          "name": "stdout",
          "text": [
            "Fitting 5 folds for each of 2376 candidates, totalling 11880 fits\n",
            "Karışıklık matrisi:\n",
            " [[76 26]\n",
            " [31 62]]\n",
            "\n",
            "Sınıflandırma raporu:\n",
            "               precision    recall  f1-score   support\n",
            "\n",
            "           0       0.71      0.75      0.73       102\n",
            "           1       0.70      0.67      0.69        93\n",
            "\n",
            "    accuracy                           0.71       195\n",
            "   macro avg       0.71      0.71      0.71       195\n",
            "weighted avg       0.71      0.71      0.71       195\n",
            "\n",
            "En iyi parametreler: {'metric': 'euclidean', 'n_neighbors': 98, 'p': 1, 'weights': 'distance'}\n",
            "\n",
            "Dengeli(Random Unsampling) test kümesi ile grid search uygulanmış modelin başarı oranı:  0.7076923076923077\n",
            "Dengeli(Random Unsampling) train kümesi ile grid search uygulanmış modelin başarı oranı:  1.0\n"
          ]
        },
        {
          "output_type": "stream",
          "name": "stderr",
          "text": [
            "/usr/local/lib/python3.7/dist-packages/sklearn/model_selection/_search.py:972: UserWarning: One or more of the test scores are non-finite: [0.64222498 0.64222498 0.64222498 ...        nan        nan        nan]\n",
            "  category=UserWarning,\n"
          ]
        }
      ],
      "source": [
        "ru_H = ml_alg(rusx_train, rusy_train, rusx_test, rusy_test, grid_search, 1)\n",
        "print(\"Dengeli(Random Unsampling) test kümesi ile grid search uygulanmış modelin başarı oranı: \",ru_H[0])\n",
        "print(\"Dengeli(Random Unsampling) train kümesi ile grid search uygulanmış modelin başarı oranı: \",ru_H[1])"
      ]
    },
    {
      "cell_type": "markdown",
      "metadata": {
        "id": "5jE6EkEu4xqU"
      },
      "source": [
        "**Smote veri seti ile grid search uygulanmış model sonuçları:**"
      ]
    },
    {
      "cell_type": "code",
      "execution_count": null,
      "metadata": {
        "id": "7qjj1eVT4xqV",
        "colab": {
          "base_uri": "https://localhost:8080/"
        },
        "outputId": "11bb0b39-bc05-41fc-cadc-71cce8ca5aa8"
      },
      "outputs": [
        {
          "output_type": "stream",
          "name": "stdout",
          "text": [
            "Fitting 5 folds for each of 2376 candidates, totalling 11880 fits\n",
            "Karışıklık matrisi:\n",
            " [[156  19]\n",
            " [ 65  83]]\n",
            "\n",
            "Sınıflandırma raporu:\n",
            "               precision    recall  f1-score   support\n",
            "\n",
            "           0       0.71      0.89      0.79       175\n",
            "           1       0.81      0.56      0.66       148\n",
            "\n",
            "    accuracy                           0.74       323\n",
            "   macro avg       0.76      0.73      0.73       323\n",
            "weighted avg       0.76      0.74      0.73       323\n",
            "\n",
            "En iyi parametreler: {'metric': 'euclidean', 'n_neighbors': 3, 'p': 1, 'weights': 'distance'}\n",
            "\n",
            "Dengeli(SMOTE) kümesi ile grid search uygulanmış modelin başarı oranı:  0.739938080495356\n",
            "Dengeli(SMOTE) kümesi ile grid search uygulanmış modelin başarı oranı:  1.0\n"
          ]
        },
        {
          "output_type": "stream",
          "name": "stderr",
          "text": [
            "/usr/local/lib/python3.7/dist-packages/sklearn/model_selection/_search.py:972: UserWarning: One or more of the test scores are non-finite: [0.74435366 0.74435366 0.74435366 ...        nan        nan        nan]\n",
            "  category=UserWarning,\n"
          ]
        }
      ],
      "source": [
        "smt_H = ml_alg(smox_train, smoy_train, smox_test, smoy_test, grid_search, 1)\n",
        "\n",
        "print(\"Dengeli(SMOTE) kümesi ile grid search uygulanmış modelin başarı oranı: \",smt_H[0])\n",
        "print(\"Dengeli(SMOTE) kümesi ile grid search uygulanmış modelin başarı oranı: \",smt_H[1])"
      ]
    },
    {
      "cell_type": "code",
      "execution_count": null,
      "metadata": {
        "id": "6ht1Kbuh4xqV",
        "colab": {
          "base_uri": "https://localhost:8080/",
          "height": 143
        },
        "outputId": "cd4fc433-1d97-4098-d2dd-086f1bac3595"
      },
      "outputs": [
        {
          "output_type": "execute_result",
          "data": {
            "text/html": [
              "\n",
              "  <div id=\"df-678d490c-0548-4bcf-976e-df03085f908c\">\n",
              "    <div class=\"colab-df-container\">\n",
              "      <div>\n",
              "<style scoped>\n",
              "    .dataframe tbody tr th:only-of-type {\n",
              "        vertical-align: middle;\n",
              "    }\n",
              "\n",
              "    .dataframe tbody tr th {\n",
              "        vertical-align: top;\n",
              "    }\n",
              "\n",
              "    .dataframe thead th {\n",
              "        text-align: right;\n",
              "    }\n",
              "</style>\n",
              "<table border=\"1\" class=\"dataframe\">\n",
              "  <thead>\n",
              "    <tr style=\"text-align: right;\">\n",
              "      <th></th>\n",
              "      <th>test_acc</th>\n",
              "      <th>train_acc</th>\n",
              "      <th>test_acc_h</th>\n",
              "      <th>train_acc_h</th>\n",
              "    </tr>\n",
              "  </thead>\n",
              "  <tbody>\n",
              "    <tr>\n",
              "      <th>Dengesiz veri seti</th>\n",
              "      <td>0.683398</td>\n",
              "      <td>0.790135</td>\n",
              "      <td>0.687259</td>\n",
              "      <td>0.738878</td>\n",
              "    </tr>\n",
              "    <tr>\n",
              "      <th>Random Unsampling Uygulanmış veri seti</th>\n",
              "      <td>0.620513</td>\n",
              "      <td>0.778636</td>\n",
              "      <td>0.707692</td>\n",
              "      <td>1.000000</td>\n",
              "    </tr>\n",
              "    <tr>\n",
              "      <th>SMOTE Uygulanmış veri seti</th>\n",
              "      <td>0.715170</td>\n",
              "      <td>0.800155</td>\n",
              "      <td>0.739938</td>\n",
              "      <td>1.000000</td>\n",
              "    </tr>\n",
              "  </tbody>\n",
              "</table>\n",
              "</div>\n",
              "      <button class=\"colab-df-convert\" onclick=\"convertToInteractive('df-678d490c-0548-4bcf-976e-df03085f908c')\"\n",
              "              title=\"Convert this dataframe to an interactive table.\"\n",
              "              style=\"display:none;\">\n",
              "        \n",
              "  <svg xmlns=\"http://www.w3.org/2000/svg\" height=\"24px\"viewBox=\"0 0 24 24\"\n",
              "       width=\"24px\">\n",
              "    <path d=\"M0 0h24v24H0V0z\" fill=\"none\"/>\n",
              "    <path d=\"M18.56 5.44l.94 2.06.94-2.06 2.06-.94-2.06-.94-.94-2.06-.94 2.06-2.06.94zm-11 1L8.5 8.5l.94-2.06 2.06-.94-2.06-.94L8.5 2.5l-.94 2.06-2.06.94zm10 10l.94 2.06.94-2.06 2.06-.94-2.06-.94-.94-2.06-.94 2.06-2.06.94z\"/><path d=\"M17.41 7.96l-1.37-1.37c-.4-.4-.92-.59-1.43-.59-.52 0-1.04.2-1.43.59L10.3 9.45l-7.72 7.72c-.78.78-.78 2.05 0 2.83L4 21.41c.39.39.9.59 1.41.59.51 0 1.02-.2 1.41-.59l7.78-7.78 2.81-2.81c.8-.78.8-2.07 0-2.86zM5.41 20L4 18.59l7.72-7.72 1.47 1.35L5.41 20z\"/>\n",
              "  </svg>\n",
              "      </button>\n",
              "      \n",
              "  <style>\n",
              "    .colab-df-container {\n",
              "      display:flex;\n",
              "      flex-wrap:wrap;\n",
              "      gap: 12px;\n",
              "    }\n",
              "\n",
              "    .colab-df-convert {\n",
              "      background-color: #E8F0FE;\n",
              "      border: none;\n",
              "      border-radius: 50%;\n",
              "      cursor: pointer;\n",
              "      display: none;\n",
              "      fill: #1967D2;\n",
              "      height: 32px;\n",
              "      padding: 0 0 0 0;\n",
              "      width: 32px;\n",
              "    }\n",
              "\n",
              "    .colab-df-convert:hover {\n",
              "      background-color: #E2EBFA;\n",
              "      box-shadow: 0px 1px 2px rgba(60, 64, 67, 0.3), 0px 1px 3px 1px rgba(60, 64, 67, 0.15);\n",
              "      fill: #174EA6;\n",
              "    }\n",
              "\n",
              "    [theme=dark] .colab-df-convert {\n",
              "      background-color: #3B4455;\n",
              "      fill: #D2E3FC;\n",
              "    }\n",
              "\n",
              "    [theme=dark] .colab-df-convert:hover {\n",
              "      background-color: #434B5C;\n",
              "      box-shadow: 0px 1px 3px 1px rgba(0, 0, 0, 0.15);\n",
              "      filter: drop-shadow(0px 1px 2px rgba(0, 0, 0, 0.3));\n",
              "      fill: #FFFFFF;\n",
              "    }\n",
              "  </style>\n",
              "\n",
              "      <script>\n",
              "        const buttonEl =\n",
              "          document.querySelector('#df-678d490c-0548-4bcf-976e-df03085f908c button.colab-df-convert');\n",
              "        buttonEl.style.display =\n",
              "          google.colab.kernel.accessAllowed ? 'block' : 'none';\n",
              "\n",
              "        async function convertToInteractive(key) {\n",
              "          const element = document.querySelector('#df-678d490c-0548-4bcf-976e-df03085f908c');\n",
              "          const dataTable =\n",
              "            await google.colab.kernel.invokeFunction('convertToInteractive',\n",
              "                                                     [key], {});\n",
              "          if (!dataTable) return;\n",
              "\n",
              "          const docLinkHtml = 'Like what you see? Visit the ' +\n",
              "            '<a target=\"_blank\" href=https://colab.research.google.com/notebooks/data_table.ipynb>data table notebook</a>'\n",
              "            + ' to learn more about interactive tables.';\n",
              "          element.innerHTML = '';\n",
              "          dataTable['output_type'] = 'display_data';\n",
              "          await google.colab.output.renderOutput(dataTable, element);\n",
              "          const docLink = document.createElement('div');\n",
              "          docLink.innerHTML = docLinkHtml;\n",
              "          element.appendChild(docLink);\n",
              "        }\n",
              "      </script>\n",
              "    </div>\n",
              "  </div>\n",
              "  "
            ],
            "text/plain": [
              "                                        test_acc  ...  train_acc_h\n",
              "Dengesiz veri seti                      0.683398  ...     0.738878\n",
              "Random Unsampling Uygulanmış veri seti  0.620513  ...     1.000000\n",
              "SMOTE Uygulanmış veri seti              0.715170  ...     1.000000\n",
              "\n",
              "[3 rows x 4 columns]"
            ]
          },
          "metadata": {},
          "execution_count": 112
        }
      ],
      "source": [
        "tab = acc_table(unb,unb_H,ru,ru_H,smt,smt_H)\n",
        "tab"
      ]
    },
    {
      "cell_type": "markdown",
      "metadata": {
        "id": "8fElCTTlfEf4"
      },
      "source": [
        "# **MLP**"
      ]
    },
    {
      "cell_type": "code",
      "execution_count": null,
      "metadata": {
        "id": "y4Hzm6b4fNwQ"
      },
      "outputs": [],
      "source": [
        "from sklearn.neural_network import MLPClassifier\n",
        "mlp = MLPClassifier()"
      ]
    },
    {
      "cell_type": "markdown",
      "metadata": {
        "id": "bxyOt1KHfeBu"
      },
      "source": [
        "**Dengesiz veri seti ile eğitilmesi ve sonuçlar:**"
      ]
    },
    {
      "cell_type": "code",
      "execution_count": null,
      "metadata": {
        "id": "qz22BwBSfeBu",
        "colab": {
          "base_uri": "https://localhost:8080/"
        },
        "outputId": "0907f7bc-3d9d-4120-cecb-6921cd0940bb"
      },
      "outputs": [
        {
          "output_type": "stream",
          "name": "stdout",
          "text": [
            "Karışıklık matrisi:\n",
            " [[ 54  40]\n",
            " [ 36 129]]\n",
            "\n",
            "Sınıflandırma raporu:\n",
            "               precision    recall  f1-score   support\n",
            "\n",
            "           0       0.60      0.57      0.59        94\n",
            "           1       0.76      0.78      0.77       165\n",
            "\n",
            "    accuracy                           0.71       259\n",
            "   macro avg       0.68      0.68      0.68       259\n",
            "weighted avg       0.70      0.71      0.71       259\n",
            "\n",
            "Dengesiz test kümesinin başarı oranı:  0.7065637065637066\n",
            "Dengesiz train kümesinin başarı oranı:  0.7272727272727273\n"
          ]
        },
        {
          "output_type": "stream",
          "name": "stderr",
          "text": [
            "/usr/local/lib/python3.7/dist-packages/sklearn/neural_network/_multilayer_perceptron.py:696: ConvergenceWarning: Stochastic Optimizer: Maximum iterations (200) reached and the optimization hasn't converged yet.\n",
            "  ConvergenceWarning,\n"
          ]
        }
      ],
      "source": [
        "unb =  ml_alg(densizx_train, densizy_train, densizx_test, densizy_test, mlp, 0)\n",
        "print(\"Dengesiz test kümesinin başarı oranı: \",unb[0])\n",
        "print(\"Dengesiz train kümesinin başarı oranı: \",unb[1])"
      ]
    },
    {
      "cell_type": "markdown",
      "metadata": {
        "id": "cF6enb36feBv"
      },
      "source": [
        "**Random Unsampling uygulanmış veri seti ile eğitim ve test:**"
      ]
    },
    {
      "cell_type": "code",
      "execution_count": null,
      "metadata": {
        "id": "dgCoYFtffeBv",
        "colab": {
          "base_uri": "https://localhost:8080/"
        },
        "outputId": "03c47168-5e96-4b48-dfea-8c8cb0996ad9"
      },
      "outputs": [
        {
          "output_type": "stream",
          "name": "stdout",
          "text": [
            "Karışıklık matrisi:\n",
            " [[77 25]\n",
            " [30 63]]\n",
            "\n",
            "Sınıflandırma raporu:\n",
            "               precision    recall  f1-score   support\n",
            "\n",
            "           0       0.72      0.75      0.74       102\n",
            "           1       0.72      0.68      0.70        93\n",
            "\n",
            "    accuracy                           0.72       195\n",
            "   macro avg       0.72      0.72      0.72       195\n",
            "weighted avg       0.72      0.72      0.72       195\n",
            "\n",
            "Dengeli(Random Unsampling) test kümesinin başarı oranı:  0.717948717948718\n",
            "Dengeli(Random Unsampling) train kümesinin başarı oranı:  0.694980694980695\n"
          ]
        },
        {
          "output_type": "stream",
          "name": "stderr",
          "text": [
            "/usr/local/lib/python3.7/dist-packages/sklearn/neural_network/_multilayer_perceptron.py:696: ConvergenceWarning: Stochastic Optimizer: Maximum iterations (200) reached and the optimization hasn't converged yet.\n",
            "  ConvergenceWarning,\n"
          ]
        }
      ],
      "source": [
        "ru = ml_alg(rusx_train, rusy_train, rusx_test, rusy_test, mlp, 0)\n",
        "\n",
        "print(\"Dengeli(Random Unsampling) test kümesinin başarı oranı: \",ru[0])\n",
        "print(\"Dengeli(Random Unsampling) train kümesinin başarı oranı: \",ru[1])"
      ]
    },
    {
      "cell_type": "markdown",
      "metadata": {
        "id": "s98TdT-ufeBw"
      },
      "source": [
        "**SMOTE uygulanmış veri seti ile eğitim ve test:**"
      ]
    },
    {
      "cell_type": "code",
      "execution_count": null,
      "metadata": {
        "id": "28bVllUUfeBx",
        "colab": {
          "base_uri": "https://localhost:8080/"
        },
        "outputId": "7d3d2370-1f56-4a4f-fc00-8af0d15b9054"
      },
      "outputs": [
        {
          "output_type": "stream",
          "name": "stdout",
          "text": [
            "Karışıklık matrisi:\n",
            " [[118  57]\n",
            " [ 50  98]]\n",
            "\n",
            "Sınıflandırma raporu:\n",
            "               precision    recall  f1-score   support\n",
            "\n",
            "           0       0.70      0.67      0.69       175\n",
            "           1       0.63      0.66      0.65       148\n",
            "\n",
            "    accuracy                           0.67       323\n",
            "   macro avg       0.67      0.67      0.67       323\n",
            "weighted avg       0.67      0.67      0.67       323\n",
            "\n",
            "Dengeli(SMOTE) veri kümesinin başarı oranı:  0.6687306501547987\n",
            "Dengeli(SMOTE) veri kümesinin başarı oranı:  0.7188226181254841\n"
          ]
        },
        {
          "output_type": "stream",
          "name": "stderr",
          "text": [
            "/usr/local/lib/python3.7/dist-packages/sklearn/neural_network/_multilayer_perceptron.py:696: ConvergenceWarning: Stochastic Optimizer: Maximum iterations (200) reached and the optimization hasn't converged yet.\n",
            "  ConvergenceWarning,\n"
          ]
        }
      ],
      "source": [
        "smt = ml_alg(smox_train, smoy_train, smox_test, smoy_test, mlp, 0)\n",
        "\n",
        "print(\"Dengeli(SMOTE) veri kümesinin başarı oranı: \",smt[0])\n",
        "print(\"Dengeli(SMOTE) veri kümesinin başarı oranı: \",smt[1])"
      ]
    },
    {
      "cell_type": "code",
      "execution_count": null,
      "metadata": {
        "id": "6Po8DxOX3hQ9"
      },
      "outputs": [],
      "source": [
        "param_grid={\n",
        "    'solver': ['adam'],\n",
        "     'learning_rate_init': [0.0001],\n",
        "     'max_iter': [200, 1000, 5000, 10000],\n",
        "     'hidden_layer_sizes': [(150,100,50), (120,80,40), (100,50,30)],\n",
        "     'activation': ['logistic', 'tanh', 'relu'],\n",
        "     'alpha': [0.0001, 0.001, 0.005],\n",
        "     'early_stopping': [False]\n",
        "    }\n",
        "\n",
        "grid_search = GridSearchCV(MLPClassifier(), param_grid=param_grid,  cv=5,\n",
        "                            n_jobs=-1, refit=True, verbose=1, \n",
        "                            return_train_score=False)"
      ]
    },
    {
      "cell_type": "markdown",
      "metadata": {
        "id": "Jn7iYvWk4CT1"
      },
      "source": [
        "**Dengesiz veri seti ile grid search uygulanmış model sonuçları:**"
      ]
    },
    {
      "cell_type": "code",
      "execution_count": null,
      "metadata": {
        "id": "F5lBRSNk4CT2",
        "colab": {
          "base_uri": "https://localhost:8080/"
        },
        "outputId": "5197197e-842e-4f86-86b7-e87f3973fa4e"
      },
      "outputs": [
        {
          "output_type": "stream",
          "name": "stdout",
          "text": [
            "Fitting 5 folds for each of 108 candidates, totalling 540 fits\n",
            "Karışıklık matrisi:\n",
            " [[ 55  39]\n",
            " [ 35 130]]\n",
            "\n",
            "Sınıflandırma raporu:\n",
            "               precision    recall  f1-score   support\n",
            "\n",
            "           0       0.61      0.59      0.60        94\n",
            "           1       0.77      0.79      0.78       165\n",
            "\n",
            "    accuracy                           0.71       259\n",
            "   macro avg       0.69      0.69      0.69       259\n",
            "weighted avg       0.71      0.71      0.71       259\n",
            "\n",
            "En iyi parametreler: {'activation': 'tanh', 'alpha': 0.001, 'early_stopping': False, 'hidden_layer_sizes': (150, 100, 50), 'learning_rate_init': 0.0001, 'max_iter': 200, 'solver': 'adam'}\n",
            "\n",
            "Dengesiz test kümesi ile grid search uygulanmış modelin başarı oranı:  0.7142857142857143\n",
            "Dengesiz train kümesi ile grid search uygulanmış modelin başarı oranı:  0.7253384912959381\n"
          ]
        }
      ],
      "source": [
        "unb_H = ml_alg(densizx_train, densizy_train, densizx_test, densizy_test, grid_search, 1)\n",
        "print(\"Dengesiz test kümesi ile grid search uygulanmış modelin başarı oranı: \",unb_H[0])\n",
        "print(\"Dengesiz train kümesi ile grid search uygulanmış modelin başarı oranı: \",unb_H[1])"
      ]
    },
    {
      "cell_type": "code",
      "source": [
        "mlp = MLPClassifier(activation='tanh', hidden_layer_sizes=(100,2),learning_rate='adaptive', solver='adam', max_iter=2000)\n",
        "unb_H1 = ml_alg(densizx_train, densizy_train, densizx_test, densizy_test, mlp, 0)\n",
        "print(unb_H1)"
      ],
      "metadata": {
        "colab": {
          "base_uri": "https://localhost:8080/"
        },
        "id": "VRiYnyXne2Wi",
        "outputId": "9c58f800-8399-4cd5-91be-a30a6ab66cab"
      },
      "execution_count": null,
      "outputs": [
        {
          "output_type": "stream",
          "name": "stdout",
          "text": [
            "Karışıklık matrisi:\n",
            " [[ 57  37]\n",
            " [ 36 129]]\n",
            "\n",
            "Sınıflandırma raporu:\n",
            "               precision    recall  f1-score   support\n",
            "\n",
            "           0       0.61      0.61      0.61        94\n",
            "           1       0.78      0.78      0.78       165\n",
            "\n",
            "    accuracy                           0.72       259\n",
            "   macro avg       0.70      0.69      0.69       259\n",
            "weighted avg       0.72      0.72      0.72       259\n",
            "\n",
            "[0.71814672 0.73597679]\n"
          ]
        }
      ]
    },
    {
      "cell_type": "markdown",
      "metadata": {
        "id": "kGwhUCFi4CT2"
      },
      "source": [
        "**Random Undersampling veri seti ile grid search uygulanmış model sonuçları:**"
      ]
    },
    {
      "cell_type": "code",
      "execution_count": null,
      "metadata": {
        "id": "a2D48c3H4CT2",
        "colab": {
          "base_uri": "https://localhost:8080/"
        },
        "outputId": "773f9981-9461-49db-f587-b7c36fbb3c10"
      },
      "outputs": [
        {
          "output_type": "stream",
          "name": "stdout",
          "text": [
            "Fitting 5 folds for each of 2376 candidates, totalling 11880 fits\n",
            "Karışıklık matrisi:\n",
            " [[76 26]\n",
            " [31 62]]\n",
            "\n",
            "Sınıflandırma raporu:\n",
            "               precision    recall  f1-score   support\n",
            "\n",
            "           0       0.71      0.75      0.73       102\n",
            "           1       0.70      0.67      0.69        93\n",
            "\n",
            "    accuracy                           0.71       195\n",
            "   macro avg       0.71      0.71      0.71       195\n",
            "weighted avg       0.71      0.71      0.71       195\n",
            "\n",
            "En iyi parametreler: {'metric': 'euclidean', 'n_neighbors': 98, 'p': 1, 'weights': 'distance'}\n",
            "\n",
            "Dengeli(Random Unsampling) test kümesi ile grid search uygulanmış modelin başarı oranı:  0.7076923076923077\n",
            "Dengeli(Random Unsampling) train kümesi ile grid search uygulanmış modelin başarı oranı:  1.0\n"
          ]
        },
        {
          "output_type": "stream",
          "name": "stderr",
          "text": [
            "/usr/local/lib/python3.7/dist-packages/sklearn/model_selection/_search.py:972: UserWarning: One or more of the test scores are non-finite: [0.64222498 0.64222498 0.64222498 ...        nan        nan        nan]\n",
            "  category=UserWarning,\n"
          ]
        }
      ],
      "source": [
        "ru_H = ml_alg(rusx_train, rusy_train, rusx_test, rusy_test, grid_search, 1)\n",
        "print(\"Dengeli(Random Unsampling) test kümesi ile grid search uygulanmış modelin başarı oranı: \",ru_H[0])\n",
        "print(\"Dengeli(Random Unsampling) train kümesi ile grid search uygulanmış modelin başarı oranı: \",ru_H[1])"
      ]
    },
    {
      "cell_type": "markdown",
      "metadata": {
        "id": "vSHy_WI14CT3"
      },
      "source": [
        "**Smote veri seti ile grid search uygulanmış model sonuçları:**"
      ]
    },
    {
      "cell_type": "code",
      "execution_count": null,
      "metadata": {
        "id": "Mfd0YdPY4CT3",
        "colab": {
          "base_uri": "https://localhost:8080/"
        },
        "outputId": "93fb2221-031c-40a5-a2cd-c82386cdca22"
      },
      "outputs": [
        {
          "output_type": "stream",
          "name": "stdout",
          "text": [
            "Fitting 5 folds for each of 2376 candidates, totalling 11880 fits\n",
            "Karışıklık matrisi:\n",
            " [[156  19]\n",
            " [ 65  83]]\n",
            "\n",
            "Sınıflandırma raporu:\n",
            "               precision    recall  f1-score   support\n",
            "\n",
            "           0       0.71      0.89      0.79       175\n",
            "           1       0.81      0.56      0.66       148\n",
            "\n",
            "    accuracy                           0.74       323\n",
            "   macro avg       0.76      0.73      0.73       323\n",
            "weighted avg       0.76      0.74      0.73       323\n",
            "\n",
            "En iyi parametreler: {'metric': 'euclidean', 'n_neighbors': 3, 'p': 1, 'weights': 'distance'}\n",
            "\n",
            "Dengeli(SMOTE) kümesi ile grid search uygulanmış modelin başarı oranı:  0.739938080495356\n",
            "Dengeli(SMOTE) kümesi ile grid search uygulanmış modelin başarı oranı:  1.0\n"
          ]
        },
        {
          "output_type": "stream",
          "name": "stderr",
          "text": [
            "/usr/local/lib/python3.7/dist-packages/sklearn/model_selection/_search.py:972: UserWarning: One or more of the test scores are non-finite: [0.74435366 0.74435366 0.74435366 ...        nan        nan        nan]\n",
            "  category=UserWarning,\n"
          ]
        }
      ],
      "source": [
        "smt_H = ml_alg(smox_train, smoy_train, smox_test, smoy_test, grid_search, 1)\n",
        "\n",
        "print(\"Dengeli(SMOTE) kümesi ile grid search uygulanmış modelin başarı oranı: \",smt_H[0])\n",
        "print(\"Dengeli(SMOTE) kümesi ile grid search uygulanmış modelin başarı oranı: \",smt_H[1])"
      ]
    },
    {
      "cell_type": "code",
      "execution_count": null,
      "metadata": {
        "id": "tm-SZWFd26kH",
        "colab": {
          "base_uri": "https://localhost:8080/",
          "height": 143
        },
        "outputId": "53325277-a19a-48d2-d2b0-2611d4ef40f8"
      },
      "outputs": [
        {
          "output_type": "execute_result",
          "data": {
            "text/html": [
              "\n",
              "  <div id=\"df-0368d6f9-0649-4f94-98b7-84ebe5b34607\">\n",
              "    <div class=\"colab-df-container\">\n",
              "      <div>\n",
              "<style scoped>\n",
              "    .dataframe tbody tr th:only-of-type {\n",
              "        vertical-align: middle;\n",
              "    }\n",
              "\n",
              "    .dataframe tbody tr th {\n",
              "        vertical-align: top;\n",
              "    }\n",
              "\n",
              "    .dataframe thead th {\n",
              "        text-align: right;\n",
              "    }\n",
              "</style>\n",
              "<table border=\"1\" class=\"dataframe\">\n",
              "  <thead>\n",
              "    <tr style=\"text-align: right;\">\n",
              "      <th></th>\n",
              "      <th>test_acc</th>\n",
              "      <th>train_acc</th>\n",
              "      <th>test_acc_h</th>\n",
              "      <th>train_acc_h</th>\n",
              "    </tr>\n",
              "  </thead>\n",
              "  <tbody>\n",
              "    <tr>\n",
              "      <th>Dengesiz veri seti</th>\n",
              "      <td>0.683398</td>\n",
              "      <td>0.790135</td>\n",
              "      <td>0.687259</td>\n",
              "      <td>0.738878</td>\n",
              "    </tr>\n",
              "    <tr>\n",
              "      <th>Random Unsampling Uygulanmış veri seti</th>\n",
              "      <td>0.620513</td>\n",
              "      <td>0.778636</td>\n",
              "      <td>0.707692</td>\n",
              "      <td>1.000000</td>\n",
              "    </tr>\n",
              "    <tr>\n",
              "      <th>SMOTE Uygulanmış veri seti</th>\n",
              "      <td>0.715170</td>\n",
              "      <td>0.800155</td>\n",
              "      <td>0.739938</td>\n",
              "      <td>1.000000</td>\n",
              "    </tr>\n",
              "  </tbody>\n",
              "</table>\n",
              "</div>\n",
              "      <button class=\"colab-df-convert\" onclick=\"convertToInteractive('df-0368d6f9-0649-4f94-98b7-84ebe5b34607')\"\n",
              "              title=\"Convert this dataframe to an interactive table.\"\n",
              "              style=\"display:none;\">\n",
              "        \n",
              "  <svg xmlns=\"http://www.w3.org/2000/svg\" height=\"24px\"viewBox=\"0 0 24 24\"\n",
              "       width=\"24px\">\n",
              "    <path d=\"M0 0h24v24H0V0z\" fill=\"none\"/>\n",
              "    <path d=\"M18.56 5.44l.94 2.06.94-2.06 2.06-.94-2.06-.94-.94-2.06-.94 2.06-2.06.94zm-11 1L8.5 8.5l.94-2.06 2.06-.94-2.06-.94L8.5 2.5l-.94 2.06-2.06.94zm10 10l.94 2.06.94-2.06 2.06-.94-2.06-.94-.94-2.06-.94 2.06-2.06.94z\"/><path d=\"M17.41 7.96l-1.37-1.37c-.4-.4-.92-.59-1.43-.59-.52 0-1.04.2-1.43.59L10.3 9.45l-7.72 7.72c-.78.78-.78 2.05 0 2.83L4 21.41c.39.39.9.59 1.41.59.51 0 1.02-.2 1.41-.59l7.78-7.78 2.81-2.81c.8-.78.8-2.07 0-2.86zM5.41 20L4 18.59l7.72-7.72 1.47 1.35L5.41 20z\"/>\n",
              "  </svg>\n",
              "      </button>\n",
              "      \n",
              "  <style>\n",
              "    .colab-df-container {\n",
              "      display:flex;\n",
              "      flex-wrap:wrap;\n",
              "      gap: 12px;\n",
              "    }\n",
              "\n",
              "    .colab-df-convert {\n",
              "      background-color: #E8F0FE;\n",
              "      border: none;\n",
              "      border-radius: 50%;\n",
              "      cursor: pointer;\n",
              "      display: none;\n",
              "      fill: #1967D2;\n",
              "      height: 32px;\n",
              "      padding: 0 0 0 0;\n",
              "      width: 32px;\n",
              "    }\n",
              "\n",
              "    .colab-df-convert:hover {\n",
              "      background-color: #E2EBFA;\n",
              "      box-shadow: 0px 1px 2px rgba(60, 64, 67, 0.3), 0px 1px 3px 1px rgba(60, 64, 67, 0.15);\n",
              "      fill: #174EA6;\n",
              "    }\n",
              "\n",
              "    [theme=dark] .colab-df-convert {\n",
              "      background-color: #3B4455;\n",
              "      fill: #D2E3FC;\n",
              "    }\n",
              "\n",
              "    [theme=dark] .colab-df-convert:hover {\n",
              "      background-color: #434B5C;\n",
              "      box-shadow: 0px 1px 3px 1px rgba(0, 0, 0, 0.15);\n",
              "      filter: drop-shadow(0px 1px 2px rgba(0, 0, 0, 0.3));\n",
              "      fill: #FFFFFF;\n",
              "    }\n",
              "  </style>\n",
              "\n",
              "      <script>\n",
              "        const buttonEl =\n",
              "          document.querySelector('#df-0368d6f9-0649-4f94-98b7-84ebe5b34607 button.colab-df-convert');\n",
              "        buttonEl.style.display =\n",
              "          google.colab.kernel.accessAllowed ? 'block' : 'none';\n",
              "\n",
              "        async function convertToInteractive(key) {\n",
              "          const element = document.querySelector('#df-0368d6f9-0649-4f94-98b7-84ebe5b34607');\n",
              "          const dataTable =\n",
              "            await google.colab.kernel.invokeFunction('convertToInteractive',\n",
              "                                                     [key], {});\n",
              "          if (!dataTable) return;\n",
              "\n",
              "          const docLinkHtml = 'Like what you see? Visit the ' +\n",
              "            '<a target=\"_blank\" href=https://colab.research.google.com/notebooks/data_table.ipynb>data table notebook</a>'\n",
              "            + ' to learn more about interactive tables.';\n",
              "          element.innerHTML = '';\n",
              "          dataTable['output_type'] = 'display_data';\n",
              "          await google.colab.output.renderOutput(dataTable, element);\n",
              "          const docLink = document.createElement('div');\n",
              "          docLink.innerHTML = docLinkHtml;\n",
              "          element.appendChild(docLink);\n",
              "        }\n",
              "      </script>\n",
              "    </div>\n",
              "  </div>\n",
              "  "
            ],
            "text/plain": [
              "                                        test_acc  ...  train_acc_h\n",
              "Dengesiz veri seti                      0.683398  ...     0.738878\n",
              "Random Unsampling Uygulanmış veri seti  0.620513  ...     1.000000\n",
              "SMOTE Uygulanmış veri seti              0.715170  ...     1.000000\n",
              "\n",
              "[3 rows x 4 columns]"
            ]
          },
          "metadata": {},
          "execution_count": 116
        }
      ],
      "source": [
        "tab = acc_table(unb,unb_H,ru,ru_H,smt,smt_H)\n",
        "tab"
      ]
    },
    {
      "cell_type": "code",
      "metadata": {
        "id": "Bx3ie1WZlOXu",
        "colab": {
          "base_uri": "https://localhost:8080/"
        },
        "outputId": "408c4f68-5c35-4f37-d757-c2859b0786b1"
      },
      "source": [
        "model.score(smox_test, smoy_test)"
      ],
      "execution_count": null,
      "outputs": [
        {
          "output_type": "execute_result",
          "data": {
            "text/plain": [
              "0.6656346749226006"
            ]
          },
          "metadata": {},
          "execution_count": 334
        }
      ]
    },
    {
      "cell_type": "code",
      "metadata": {
        "id": "xzcUEeX-lVJv",
        "colab": {
          "base_uri": "https://localhost:8080/"
        },
        "outputId": "7c0aa479-9cc4-4936-d422-d02f0adbd9b3"
      },
      "source": [
        "model.score(smox_train, smoy_train)"
      ],
      "execution_count": null,
      "outputs": [
        {
          "output_type": "execute_result",
          "data": {
            "text/plain": [
              "0.7188226181254841"
            ]
          },
          "metadata": {},
          "execution_count": 335
        }
      ]
    },
    {
      "cell_type": "code",
      "metadata": {
        "id": "fCYlmFm4lg7g"
      },
      "source": [
        "from sklearn.metrics import confusion_matrix"
      ],
      "execution_count": null,
      "outputs": []
    },
    {
      "cell_type": "code",
      "metadata": {
        "id": "j4tvJor-lmOe"
      },
      "source": [
        "tahmin = model.predict(smox_test)"
      ],
      "execution_count": null,
      "outputs": []
    },
    {
      "cell_type": "code",
      "metadata": {
        "id": "mlho5EzdlodE",
        "colab": {
          "base_uri": "https://localhost:8080/"
        },
        "outputId": "e0851106-ce85-4bb2-c7c2-0dac98be9b21"
      },
      "source": [
        "confusion_matrix(smoy_test , tahmin)"
      ],
      "execution_count": null,
      "outputs": [
        {
          "output_type": "execute_result",
          "data": {
            "text/plain": [
              "array([[129,  46],\n",
              "       [ 62,  86]])"
            ]
          },
          "metadata": {},
          "execution_count": 338
        }
      ]
    },
    {
      "cell_type": "code",
      "source": [
        "from sklearn.model_selection import cross_val_score"
      ],
      "metadata": {
        "id": "jBOwKCGrtQ3t"
      },
      "execution_count": null,
      "outputs": []
    },
    {
      "cell_type": "code",
      "source": [
        "scores = cross_val_score(model ,smox_df, smoy_df, cv=10)\n",
        "scores.mean()"
      ],
      "metadata": {
        "id": "1DdwIngmtQ3t",
        "colab": {
          "base_uri": "https://localhost:8080/"
        },
        "outputId": "58a57efd-5eb0-48f4-9615-15f473da33f9"
      },
      "execution_count": null,
      "outputs": [
        {
          "output_type": "execute_result",
          "data": {
            "text/plain": [
              "0.6721762134805612"
            ]
          },
          "metadata": {},
          "execution_count": 340
        }
      ]
    },
    {
      "cell_type": "code",
      "source": [
        "from sklearn.metrics import accuracy_score"
      ],
      "metadata": {
        "id": "hn9qt9RctQ3t"
      },
      "execution_count": null,
      "outputs": []
    },
    {
      "cell_type": "code",
      "source": [
        "print('Accuracy: %.4f' % accuracy_score(smoy_test,tahmin))"
      ],
      "metadata": {
        "id": "rpUiz4Y3tQ3u",
        "colab": {
          "base_uri": "https://localhost:8080/"
        },
        "outputId": "144402ca-397d-4ddc-e759-5ec33d422766"
      },
      "execution_count": null,
      "outputs": [
        {
          "output_type": "stream",
          "name": "stdout",
          "text": [
            "Accuracy: 0.6656\n"
          ]
        }
      ]
    },
    {
      "cell_type": "code",
      "metadata": {
        "id": "G_KwL4AWqlJX"
      },
      "source": [
        "import sklearn.metrics as metrics"
      ],
      "execution_count": null,
      "outputs": []
    },
    {
      "cell_type": "code",
      "metadata": {
        "id": "oTsYA7UEqnWM"
      },
      "source": [
        "fpr , tpr , thresolds = metrics.roc_curve(smoy_test , tahmin)"
      ],
      "execution_count": null,
      "outputs": []
    },
    {
      "cell_type": "code",
      "metadata": {
        "id": "Ajk4xdj1qofG"
      },
      "source": [
        "roc_auc = metrics.auc(fpr , tpr)"
      ],
      "execution_count": null,
      "outputs": []
    },
    {
      "cell_type": "code",
      "metadata": {
        "id": "5JPEEBoIqp1n"
      },
      "source": [
        "import matplotlib.pyplot as plt"
      ],
      "execution_count": null,
      "outputs": []
    },
    {
      "cell_type": "code",
      "metadata": {
        "id": "0h22z89Zqrcv",
        "colab": {
          "base_uri": "https://localhost:8080/",
          "height": 544
        },
        "outputId": "2aefc4a8-3540-40a2-e9c5-f29b00130a52"
      },
      "source": [
        "plt.plot(fpr , tpr ,'b' ,label = 'AUC =0.2f' %roc_auc)"
      ],
      "execution_count": null,
      "outputs": [
        {
          "output_type": "execute_result",
          "data": {
            "text/plain": [
              "[<matplotlib.lines.Line2D at 0x7fe1d0c09410>]"
            ]
          },
          "metadata": {},
          "execution_count": 347
        },
        {
          "output_type": "display_data",
          "data": {
            "image/png": "[encoded data removed]",
            "text/plain": [
              "<Figure size 842.4x595.44 with 1 Axes>"
            ]
          },
          "metadata": {}
        }
      ]
    },
    {
      "cell_type": "code",
      "source": [
        "roc_auc"
      ],
      "metadata": {
        "id": "NuPcqPoryoWs",
        "colab": {
          "base_uri": "https://localhost:8080/"
        },
        "outputId": "b02ad17f-248d-42d3-bfbd-7ebb74cf9cc6"
      },
      "execution_count": null,
      "outputs": [
        {
          "output_type": "execute_result",
          "data": {
            "text/plain": [
              "0.659111969111969"
            ]
          },
          "metadata": {},
          "execution_count": 348
        }
      ]
    },
    {
      "cell_type": "markdown",
      "source": [
        ""
      ],
      "metadata": {
        "id": "mFWPxou9a1Qe"
      }
    }
  ]
}